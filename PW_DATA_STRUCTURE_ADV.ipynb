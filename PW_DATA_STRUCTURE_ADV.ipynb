{
  "nbformat": 4,
  "nbformat_minor": 0,
  "metadata": {
    "colab": {
      "provenance": []
    },
    "kernelspec": {
      "name": "python3",
      "display_name": "Python 3"
    },
    "language_info": {
      "name": "python"
    }
  },
  "cells": [
    {
      "cell_type": "markdown",
      "source": [
        "**1. Write a code to reverse a string.**"
      ],
      "metadata": {
        "id": "H9GmMzKhb-hR"
      }
    },
    {
      "cell_type": "code",
      "source": [
        "def reverse_string(s):\n",
        "    char_list = list(s)\n",
        "    char_list.reverse()\n",
        "    return ''.join(char_list)\n",
        "\n",
        "input_string = \"Hello, World!\"\n",
        "reversed_string = reverse_string(input_string)\n",
        "print(reversed_string)\n"
      ],
      "metadata": {
        "colab": {
          "base_uri": "https://localhost:8080/"
        },
        "id": "mWpWlF0wcFIw",
        "outputId": "e2fb079d-d2ee-49c9-80fd-3a3bb6cc9476"
      },
      "execution_count": 1,
      "outputs": [
        {
          "output_type": "stream",
          "name": "stdout",
          "text": [
            "!dlroW ,olleH\n"
          ]
        }
      ]
    },
    {
      "cell_type": "markdown",
      "source": [
        "**2. Write a code to count the number of vowels in a string.**"
      ],
      "metadata": {
        "id": "-wPaYgoCdbaA"
      }
    },
    {
      "cell_type": "code",
      "source": [
        "def count_vowels(s):\n",
        "    vowels = 'aeiouAEIOU'\n",
        "    count = 0\n",
        "    for char in s:\n",
        "        if char in vowels:\n",
        "            count += 1\n",
        "    return count\n",
        "\n",
        "input_string = \"Hello, World!\"\n",
        "vowel_count = count_vowels(input_string)\n",
        "print(f\"Number of vowels: {vowel_count}\")"
      ],
      "metadata": {
        "colab": {
          "base_uri": "https://localhost:8080/"
        },
        "id": "3hlQAWEVdmL1",
        "outputId": "7823ba2a-1afc-4f06-ede9-a6e14b2f068a"
      },
      "execution_count": 2,
      "outputs": [
        {
          "output_type": "stream",
          "name": "stdout",
          "text": [
            "Number of vowels: 3\n"
          ]
        }
      ]
    },
    {
      "cell_type": "markdown",
      "source": [
        "**3. Write a code to check if a given string is a palindrome or not.**"
      ],
      "metadata": {
        "id": "RbbZZRdSeDIL"
      }
    },
    {
      "cell_type": "code",
      "source": [
        "def is_palindrome(s):\n",
        "    return s == s[::-1]\n",
        "\n",
        "input_string = \"radar\"\n",
        "if is_palindrome(input_string):\n",
        "    print(f\"'{input_string}' is a palindrome.\")\n",
        "else:\n",
        "    print(f\"'{input_string}' is not a palindrome.\")"
      ],
      "metadata": {
        "id": "-woGAI1DeI7p"
      },
      "execution_count": null,
      "outputs": []
    },
    {
      "cell_type": "markdown",
      "source": [
        "**4. Write a code to check if two given strings are anagrams of each other.**"
      ],
      "metadata": {
        "id": "YunlA1kskeX1"
      }
    },
    {
      "cell_type": "code",
      "source": [
        "def are_anagrams(s1, s2):\n",
        "    s1 = s1.replace(\" \", \"\").lower()\n",
        "    s2 = s2.replace(\" \", \"\").lower()\n",
        "    return sorted(s1) == sorted(s2)\n",
        "\n",
        "string1 = \"listen\"\n",
        "string2 = \"silent\"\n",
        "\n",
        "if are_anagrams(string1, string2):\n",
        "    print(f\"'{string1}' and '{string2}' are anagrams.\")\n",
        "else:\n",
        "    print(f\"'{string1}' and '{string2}' are not anagrams.\")\n"
      ],
      "metadata": {
        "id": "5S-I-Bc5kmQZ"
      },
      "execution_count": null,
      "outputs": []
    },
    {
      "cell_type": "markdown",
      "source": [
        "**5. Write a code to find all occurrences of a given substring within another string.**"
      ],
      "metadata": {
        "id": "VWIqRp2fkzh8"
      }
    },
    {
      "cell_type": "code",
      "source": [
        "def find_all_occurrences(string, substring):\n",
        "    occurrences = []\n",
        "    start = 0\n",
        "\n",
        "    while True:\n",
        "        start = string.find(substring, start)\n",
        "        if start == -1:\n",
        "            break\n",
        "        occurrences.append(start)\n",
        "        start += 1\n",
        "\n",
        "    return occurrences\n",
        "\n",
        "main_string = \"The quick brown fox jumps over the lazy dog. The dog was not lazy.\"\n",
        "sub_string = \"dog\"\n",
        "indices = find_all_occurrences(main_string, sub_string)\n",
        "\n",
        "print(f\"Occurrences of '{sub_string}': {indices}\")\n"
      ],
      "metadata": {
        "colab": {
          "base_uri": "https://localhost:8080/"
        },
        "id": "1frKfaRKk_Qr",
        "outputId": "70a78674-2f6b-43f5-9975-4cdd5528b27b"
      },
      "execution_count": 3,
      "outputs": [
        {
          "output_type": "stream",
          "name": "stdout",
          "text": [
            "Occurrences of 'dog': [40, 49]\n"
          ]
        }
      ]
    },
    {
      "cell_type": "markdown",
      "source": [
        "**6. Write a code to perform basic string compression using the counts of repeated characters.**"
      ],
      "metadata": {
        "id": "mjBfIjIolIom"
      }
    },
    {
      "cell_type": "code",
      "source": [
        "def compress_string(s):\n",
        "    if not s:\n",
        "        return \"\"\n",
        "\n",
        "    compressed = []\n",
        "    count = 1\n",
        "\n",
        "    for i in range(1, len(s)):\n",
        "        if s[i] == s[i - 1]:\n",
        "            count += 1\n",
        "        else:\n",
        "            compressed.append(s[i - 1] + str(count))\n",
        "            count = 1\n",
        "\n",
        "    compressed.append(s[-1] + str(count))\n",
        "\n",
        "    compressed_string = ''.join(compressed)\n",
        "    return compressed_string\n",
        "\n",
        "input_string = \"aaabbbccdaa\"\n",
        "compressed_string = compress_string(input_string)\n",
        "print(f\"Compressed string: {compressed_string}\")\n"
      ],
      "metadata": {
        "id": "dF8jk58YlOlu"
      },
      "execution_count": null,
      "outputs": []
    },
    {
      "cell_type": "markdown",
      "source": [
        "**7. Write a code to determine if a string has all unique characters.**"
      ],
      "metadata": {
        "id": "rOUAPjkYldsd"
      }
    },
    {
      "cell_type": "code",
      "source": [
        "def has_unique_characters(s):\n",
        "    seen = set()\n",
        "\n",
        "    for char in s:\n",
        "        if char in seen:\n",
        "            return False\n",
        "        seen.add(char)\n",
        "\n",
        "    return True\n",
        "\n",
        "input_string = \"abcdefg\"\n",
        "if has_unique_characters(input_string):\n",
        "    print(f\"'{input_string}' has all unique characters.\")\n",
        "else:\n",
        "    print(f\"'{input_string}' does not have all unique characters.\")\n"
      ],
      "metadata": {
        "id": "ukTlJa4Plj03"
      },
      "execution_count": null,
      "outputs": []
    },
    {
      "cell_type": "markdown",
      "source": [
        "**8. Write a code to convert a given string to uppercase or lowercase.**"
      ],
      "metadata": {
        "id": "tbfxnNKClxC1"
      }
    },
    {
      "cell_type": "code",
      "source": [
        "def convert_case(s, to_upper=True):\n",
        "    if to_upper:\n",
        "        return s.upper()\n",
        "    else:\n",
        "        return s.lower()\n",
        "\n",
        "input_string = \"Nitin Upadhyay\"\n",
        "\n",
        "uppercase_string = convert_case(input_string, to_upper=True)\n",
        "print(f\"Uppercase: {uppercase_string}\")\n",
        "\n",
        "lowercase_string = convert_case(input_string, to_upper=False)\n",
        "print(f\"Lowercase: {lowercase_string}\")\n"
      ],
      "metadata": {
        "colab": {
          "base_uri": "https://localhost:8080/"
        },
        "id": "_nmswUDBl2BE",
        "outputId": "fa06d4a5-511e-4ff7-c832-51737647dd0d"
      },
      "execution_count": 5,
      "outputs": [
        {
          "output_type": "stream",
          "name": "stdout",
          "text": [
            "Uppercase: NITIN UPADHYAY\n",
            "Lowercase: nitin upadhyay\n"
          ]
        }
      ]
    },
    {
      "cell_type": "markdown",
      "source": [
        "**9. Write a code to count the number of words in a string.**"
      ],
      "metadata": {
        "id": "pEXfZsppmMoD"
      }
    },
    {
      "cell_type": "code",
      "source": [
        "def count_words(s):\n",
        "    words = s.split()\n",
        "    return len(words)\n",
        "\n",
        "input_string = \"This is a sample string with seven words.\"\n",
        "word_count = count_words(input_string)\n",
        "print(f\"Number of words: {word_count}\")\n"
      ],
      "metadata": {
        "id": "biu6AjrDmVLP"
      },
      "execution_count": null,
      "outputs": []
    },
    {
      "cell_type": "markdown",
      "source": [
        "**10. Write a code to concatenate two strings without using the + operator.**"
      ],
      "metadata": {
        "id": "Nx7NvHfgmgu2"
      }
    },
    {
      "cell_type": "code",
      "source": [
        "def concatenate_strings(s1, s2):\n",
        "    return s1 + s2\n",
        "\n",
        "string1 = \"Hello, \"\n",
        "string2 = \"World!\"\n",
        "result = concatenate_strings(string1, string2)\n",
        "print(result)"
      ],
      "metadata": {
        "id": "E0wqmngzm1SQ"
      },
      "execution_count": null,
      "outputs": []
    },
    {
      "cell_type": "markdown",
      "source": [
        "**11. Write a code to remove all occurrences of a specific element from a list.**"
      ],
      "metadata": {
        "id": "m84oP1EsnDKa"
      }
    },
    {
      "cell_type": "code",
      "source": [
        "def remove_occurrences(lst, element):\n",
        "    return [item for item in lst if item != element]\n",
        "\n",
        "original_list = [1, 2, 3, 4, 2, 5, 2]\n",
        "element_to_remove = 2\n",
        "new_list = remove_occurrences(original_list, element_to_remove)\n",
        "\n",
        "print(\"Original list:\", original_list)\n",
        "print(\"New list:\", new_list)\n"
      ],
      "metadata": {
        "id": "2Bw1_1TFnI42"
      },
      "execution_count": null,
      "outputs": []
    },
    {
      "cell_type": "markdown",
      "source": [
        "**12. Implement a code to find the second largest number in a given list of integers.**"
      ],
      "metadata": {
        "id": "vDrxfy7snSWo"
      }
    },
    {
      "cell_type": "code",
      "source": [
        "def find_second_largest(numbers):\n",
        "    if len(numbers) < 2:\n",
        "        return None\n",
        "\n",
        "    first, second = float('-inf'), float('-inf')\n",
        "\n",
        "    for number in numbers:\n",
        "        if number > first:\n",
        "            second = first\n",
        "            first = number\n",
        "        elif first > number > second:\n",
        "            second = number\n",
        "\n",
        "    return second if second != float('-inf') else None\n",
        "\n",
        "numbers_list = [3, 5, 1, 4, 2]\n",
        "second_largest = find_second_largest(numbers_list)\n",
        "print(\"Second largest number:\", second_largest)\n"
      ],
      "metadata": {
        "id": "_TJsmBnNnY5U"
      },
      "execution_count": null,
      "outputs": []
    },
    {
      "cell_type": "markdown",
      "source": [
        "**13. Create a code to count the occurrences of each element in a list and return a dictionary with elements as\n",
        "keys and their counts as values.**"
      ],
      "metadata": {
        "id": "hnzDJXGlni9D"
      }
    },
    {
      "cell_type": "code",
      "source": [
        "def count_occurrences(lst):\n",
        "    counts = {}\n",
        "    for item in lst:\n",
        "        if item in counts:\n",
        "            counts[item] += 1\n",
        "        else:\n",
        "            counts[item] = 1\n",
        "    return counts\n",
        "\n",
        "elements = ['apple', 'banana', 'apple', 'orange', 'banana', 'apple']\n",
        "occurrences = count_occurrences(elements)\n",
        "print(occurrences)"
      ],
      "metadata": {
        "id": "WLfG8720nxOR"
      },
      "execution_count": null,
      "outputs": []
    },
    {
      "cell_type": "markdown",
      "source": [
        "**14.  Write a code to reverse a list in-place without using any built-in reverse functions.**"
      ],
      "metadata": {
        "id": "OvZ5LDC-n8Tk"
      }
    },
    {
      "cell_type": "code",
      "source": [
        "def reverse_list(lst):\n",
        "    left, right = 0, len(lst) - 1  # Initialize two pointers\n",
        "\n",
        "    while left < right:\n",
        "        lst[left], lst[right] = lst[right], lst[left]\n",
        "        left += 1\n",
        "        right -= 1\n",
        "\n",
        "my_list = [1, 2, 3, 4, 5]\n",
        "reverse_list(my_list)\n",
        "print(\"Reversed list:\", my_list)\n"
      ],
      "metadata": {
        "id": "7ra2x0FjoJoS"
      },
      "execution_count": null,
      "outputs": []
    },
    {
      "cell_type": "markdown",
      "source": [
        "**15. Implement a code to find and remove duplicates from a list while preserving the original order of\n",
        "elements.**"
      ],
      "metadata": {
        "id": "jenYUjNBoYUJ"
      }
    },
    {
      "cell_type": "code",
      "source": [
        "def remove_duplicates(lst):\n",
        "    seen = set()\n",
        "    result = []\n",
        "\n",
        "    for item in lst:\n",
        "        if item not in seen:\n",
        "            seen.add(item)\n",
        "            result.append(item)\n",
        "\n",
        "    return result\n",
        "\n",
        "original_list = [1, 2, 3, 2, 4, 3, 5, 1]\n",
        "unique_list = remove_duplicates(original_list)\n",
        "print(\"Original list:\", original_list)\n",
        "print(\"List after removing duplicates:\", unique_list)\n"
      ],
      "metadata": {
        "id": "VqSbpy0uog-A"
      },
      "execution_count": null,
      "outputs": []
    },
    {
      "cell_type": "markdown",
      "source": [
        "**16. Create a code to check if a given list is sorted (either in ascending or descending order) or not.**"
      ],
      "metadata": {
        "id": "FNTmuo3vo6vI"
      }
    },
    {
      "cell_type": "code",
      "source": [
        "def is_sorted(lst):\n",
        "    if len(lst) < 2:\n",
        "        return True\n",
        "\n",
        "    ascending = True\n",
        "    descending = True\n",
        "\n",
        "    for i in range(1, len(lst)):\n",
        "        if lst[i] < lst[i - 1]:\n",
        "            ascending = False\n",
        "        if lst[i] > lst[i - 1]:\n",
        "            descending = False\n",
        "\n",
        "    return ascending or descending\n",
        "\n",
        "list1 = [1, 2, 3, 4, 5]\n",
        "list2 = [5, 4, 3, 2, 1]\n",
        "list3 = [1, 3, 2, 4]\n",
        "list4 = []\n",
        "\n",
        "print(is_sorted(list1))\n",
        "print(is_sorted(list2))\n",
        "print(is_sorted(list3))\n",
        "print(is_sorted(list4))\n"
      ],
      "metadata": {
        "id": "_NMnkr-9pAu6"
      },
      "execution_count": null,
      "outputs": []
    },
    {
      "cell_type": "markdown",
      "source": [
        "**17. Write a code to merge two sorted lists into a single sorted list.**"
      ],
      "metadata": {
        "id": "hAYQlKWVpQna"
      }
    },
    {
      "cell_type": "code",
      "source": [
        "def merge_sorted_lists(list1, list2):\n",
        "    merged = []\n",
        "    i, j = 0, 0\n",
        "\n",
        "    while i < len(list1) and j < len(list2):\n",
        "        if list1[i] < list2[j]:\n",
        "            merged.append(list1[i])\n",
        "            i += 1\n",
        "        else:\n",
        "            merged.append(list2[j])\n",
        "            j += 1\n",
        "\n",
        "    while i < len(list1):\n",
        "        merged.append(list1[i])\n",
        "        i += 1\n",
        "\n",
        "    while j < len(list2):\n",
        "        merged.append(list2[j])\n",
        "        j += 1\n",
        "\n",
        "    return merged\n",
        "\n",
        "sorted_list1 = [1, 3, 5, 7]\n",
        "sorted_list2 = [2, 4, 6, 8]\n",
        "merged_list = merge_sorted_lists(sorted_list1, sorted_list2)\n",
        "print(\"Merged sorted list:\", merged_list)\n"
      ],
      "metadata": {
        "id": "z2rguDLkpwpo"
      },
      "execution_count": null,
      "outputs": []
    },
    {
      "cell_type": "markdown",
      "source": [
        "**18. Implement a code to find the intersection of two given lists.**"
      ],
      "metadata": {
        "id": "n3PwFHCvqcXf"
      }
    },
    {
      "cell_type": "code",
      "source": [
        "def intersection(list1, list2):\n",
        "\n",
        "    set2 = set(list2)\n",
        "    return [item for item in list1 if item in set2]\n",
        "\n",
        "list1 = [1, 2, 3, 4, 5]\n",
        "list2 = [4, 5, 6, 7, 8]\n",
        "common_elements = intersection(list1, list2)\n",
        "print(\"Intersection:\", common_elements)\n"
      ],
      "metadata": {
        "colab": {
          "base_uri": "https://localhost:8080/"
        },
        "id": "Yvn_IcSmqiqr",
        "outputId": "bc6f9e7d-770e-41c7-80de-ed8abce373d3"
      },
      "execution_count": 7,
      "outputs": [
        {
          "output_type": "stream",
          "name": "stdout",
          "text": [
            "Intersection: [4, 5]\n"
          ]
        }
      ]
    },
    {
      "cell_type": "markdown",
      "source": [
        "**19. Create a code to find the union of two lists without duplicates.**"
      ],
      "metadata": {
        "id": "djX2TLIdqwt0"
      }
    },
    {
      "cell_type": "code",
      "source": [
        "def union(list1, list2):\n",
        "    return list(set(list1) | set(list2))\n",
        "\n",
        "list1 = [1, 2, 3, 4, 5]\n",
        "list2 = [4, 5, 6, 7, 8]\n",
        "union_list = union(list1, list2)\n",
        "print(\"Union:\", union_list)"
      ],
      "metadata": {
        "id": "IgHbhF63q3Id"
      },
      "execution_count": null,
      "outputs": []
    },
    {
      "cell_type": "markdown",
      "source": [
        "**20. Write a code to shuffle a given list randomly without using any built-in shuffle functions.**\n",
        "\n",
        "\n"
      ],
      "metadata": {
        "id": "zNGux5tRq9OC"
      }
    },
    {
      "cell_type": "code",
      "source": [
        "import random\n",
        "\n",
        "def shuffle_list(lst):\n",
        "    # Iterate over the list in reverse order\n",
        "    for i in range(len(lst) - 1, 0, -1):\n",
        "        # Generate a random index between 0 and i\n",
        "        j = random.randint(0, i)\n",
        "        # Swap the current element with the randomly selected element\n",
        "        lst[i], lst[j] = lst[j], lst[i]\n",
        "\n",
        "# Example usage\n",
        "my_list = [1, 2, 3, 4, 5]\n",
        "print(\"Original list:\", my_list)\n",
        "shuffle_list(my_list)\n",
        "print(\"Shuffled list:\", my_list)\n"
      ],
      "metadata": {
        "id": "QHyxOydErzs3"
      },
      "execution_count": null,
      "outputs": []
    },
    {
      "cell_type": "markdown",
      "source": [
        "**21. Write a code that takes two tuples as input and returns a new tuple containing elements that are common to both input tuples.**"
      ],
      "metadata": {
        "id": "OBP82Wx5rYlm"
      }
    },
    {
      "cell_type": "code",
      "source": [
        "def common_elements(tuple1, tuple2):\n",
        "    common_set = set(tuple1) & set(tuple2)\n",
        "    return tuple(common_set)\n",
        "\n",
        "tuple1 = (1, 2, 3, 4, 5)\n",
        "tuple2 = (4, 5, 6, 7, 8)\n",
        "result = common_elements(tuple1, tuple2)\n",
        "print(\"Common elements:\", result)"
      ],
      "metadata": {
        "id": "HitJbU58raKi"
      },
      "execution_count": null,
      "outputs": []
    },
    {
      "cell_type": "markdown",
      "source": [
        "**22. Create a code that prompts the user to enter two sets of integers separated by commas. Then, print the intersection of these two sets.**"
      ],
      "metadata": {
        "id": "YPQXmskVrd31"
      }
    },
    {
      "cell_type": "code",
      "source": [
        "def get_set_from_input(prompt):\n",
        "    user_input = input(prompt)\n",
        "    return set(int(x.strip()) for x in user_input.split(','))\n",
        "\n",
        "set1 = get_set_from_input(\"Enter the first set of integers (comma-separated): \")\n",
        "set2 = get_set_from_input(\"Enter the second set of integers (comma-separated): \")\n",
        "\n",
        "intersection = set1 & set2\n",
        "print(\"Intersection of the two sets:\", intersection)"
      ],
      "metadata": {
        "colab": {
          "base_uri": "https://localhost:8080/"
        },
        "id": "ro0JtXJqroDf",
        "outputId": "060eaf93-8eb9-4242-aecc-a9c02c46ae07"
      },
      "execution_count": 9,
      "outputs": [
        {
          "output_type": "stream",
          "name": "stdout",
          "text": [
            "Enter the first set of integers (comma-separated): 1,2,3,4\n",
            "Enter the second set of integers (comma-separated): 4,2,8,9\n",
            "Intersection of the two sets: {2, 4}\n"
          ]
        }
      ]
    },
    {
      "cell_type": "markdown",
      "source": [
        "**23. Write a code to concatenate two tuples. The function should take two tuples as input and return a new tuple containing elements from both input tuples.**"
      ],
      "metadata": {
        "id": "2I4xGYY9rosu"
      }
    },
    {
      "cell_type": "code",
      "source": [
        "def concatenate_tuples(tuple1, tuple2):\n",
        "    return tuple1 + tuple2\n",
        "\n",
        "tuple1 = (1, 2, 3)\n",
        "tuple2 = (4, 5, 6)\n",
        "result = concatenate_tuples(tuple1, tuple2)\n",
        "print(\"Concatenated tuple:\", result)"
      ],
      "metadata": {
        "id": "w2so8W9RrpqU"
      },
      "execution_count": null,
      "outputs": []
    },
    {
      "cell_type": "markdown",
      "source": [
        "**24. Develop a code that prompts the user to input two sets of strings. Then, print the elements that are\n",
        "present in the first set but not in the second set.**"
      ],
      "metadata": {
        "id": "t4t0rsc4vcg9"
      }
    },
    {
      "cell_type": "code",
      "source": [
        "def get_set_from_input(prompt):\n",
        "    user_input = input(prompt)\n",
        "    return set(user_input.split(','))\n",
        "\n",
        "set1 = get_set_from_input(\"Enter the first set of strings (comma-separated): \")\n",
        "set2 = get_set_from_input(\"Enter the second set of strings (comma-separated): \")\n",
        "\n",
        "difference = set1 - set2\n",
        "\n",
        "print(\"Elements in the first set but not in the second set:\", difference)"
      ],
      "metadata": {
        "id": "k4QQTOHLvyzm"
      },
      "execution_count": null,
      "outputs": []
    },
    {
      "cell_type": "markdown",
      "source": [
        "**25. Create a code that takes a tuple and two integers as input. The function should return a new tuple\n",
        "containing elements from the original tuple within the specified range of indices.**"
      ],
      "metadata": {
        "id": "m0Zwl406wA3K"
      }
    },
    {
      "cell_type": "code",
      "source": [
        "def slice_tuple(original_tuple, start_index, end_index):\n",
        "    return original_tuple[start_index:end_index]\n",
        "\n",
        "my_tuple = (10, 20, 30, 40, 50, 60)\n",
        "start = 1\n",
        "end = 4\n",
        "sliced_tuple = slice_tuple(my_tuple, start, end)\n",
        "print(\"Sliced tuple:\", sliced_tuple)\n"
      ],
      "metadata": {
        "id": "1H_nwFkawUiG"
      },
      "execution_count": null,
      "outputs": []
    },
    {
      "cell_type": "markdown",
      "source": [
        "**26. Write a code that prompts the user to input two sets of characters. Then, print the union of these two sets.**"
      ],
      "metadata": {
        "id": "zaRQPRsIwkA1"
      }
    },
    {
      "cell_type": "code",
      "source": [
        "def get_set_from_input(prompt):\n",
        "    user_input = input(prompt)\n",
        "    return set(user_input)\n",
        "\n",
        "set1 = get_set_from_input(\"Enter the first set of characters: \")\n",
        "set2 = get_set_from_input(\"Enter the second set of characters: \")\n",
        "\n",
        "union_set = set1 | set2\n",
        "\n",
        "print(\"Union of the two sets:\", union_set)\n"
      ],
      "metadata": {
        "id": "Ean56QHLwrA5"
      },
      "execution_count": null,
      "outputs": []
    },
    {
      "cell_type": "markdown",
      "source": [
        "**27. Develop a code that takes a tuple of integers as input. The function should return the maximum and\n",
        "minimum values from the tuple using tuple unpacking.**"
      ],
      "metadata": {
        "id": "6u9p8DJXx3Bn"
      }
    },
    {
      "cell_type": "code",
      "source": [
        "def min_max_tuple(input_tuple):\n",
        "    minimum = min(input_tuple)\n",
        "    maximum = max(input_tuple)\n",
        "    return minimum, maximum\n",
        "\n",
        "tuple_of_integers = (10, 5, 8, 23, 2)\n",
        "min_value, max_value = min_max_tuple(tuple_of_integers)\n",
        "print(\"Minimum value:\", min_value)\n",
        "print(\"Maximum value:\", max_value)\n"
      ],
      "metadata": {
        "id": "GqeX9WpxyMMC"
      },
      "execution_count": null,
      "outputs": []
    },
    {
      "cell_type": "markdown",
      "source": [
        "**28. Create a code that defines two sets of integers. Then, print the union, intersection, and difference of these\n",
        "two sets.**"
      ],
      "metadata": {
        "id": "JzTRglQvyTlS"
      }
    },
    {
      "cell_type": "code",
      "source": [
        "set1 = {1, 2, 3, 4, 5}\n",
        "set2 = {4, 5, 6, 7, 8}\n",
        "\n",
        "# Calculate union\n",
        "union_set = set1 | set2\n",
        "\n",
        "# Calculate intersection\n",
        "intersection_set = set1 & set2\n",
        "\n",
        "# Calculate difference (elements in set1 but not in set2)\n",
        "difference_set = set1 - set2\n",
        "\n",
        "print(\"Set 1:\", set1)\n",
        "print(\"Set 2:\", set2)\n",
        "print(\"Union of the two sets:\", union_set)\n",
        "print(\"Intersection of the two sets:\", intersection_set)\n",
        "print(\"Difference of set1 and set2:\", difference_set)"
      ],
      "metadata": {
        "id": "ziONZMREydY5"
      },
      "execution_count": null,
      "outputs": []
    },
    {
      "cell_type": "markdown",
      "source": [
        "**29. Write a code that takes a tuple and an element as input. The function should return the count of\n",
        "occurrences of the given element in the tuple.**"
      ],
      "metadata": {
        "id": "0hKrIQMgyxzR"
      }
    },
    {
      "cell_type": "code",
      "source": [
        "def count_occurrences(input_tuple, element):\n",
        "    return input_tuple.count(element)\n",
        "\n",
        "my_tuple = (1, 2, 3, 4, 2, 2, 5)\n",
        "element_to_count = 2\n",
        "count = count_occurrences(my_tuple, element_to_count)\n",
        "print(f\"The element {element_to_count} occurs {count} times in the tuple.\")\n"
      ],
      "metadata": {
        "id": "a0KQQ0wsy658"
      },
      "execution_count": null,
      "outputs": []
    },
    {
      "cell_type": "markdown",
      "source": [
        "**30. Develop a code that prompts the user to input two sets of strings. Then, print the symmetric difference of\n",
        "these two sets.**"
      ],
      "metadata": {
        "id": "H98ZkyejzCDQ"
      }
    },
    {
      "cell_type": "code",
      "source": [
        "def get_set_from_input(prompt):\n",
        "    user_input = input(prompt)\n",
        "    return set(user_input.split(','))  # Split by commas to create a set\n",
        "\n",
        "# Get strings from the user\n",
        "set1 = get_set_from_input(\"Enter the first set of strings (comma-separated): \")\n",
        "set2 = get_set_from_input(\"Enter the second set of strings (comma-separated): \")\n",
        "\n",
        "symmetric_difference = set1 ^ set2  # Symmetric difference of the two sets\n",
        "\n",
        "print(\"Symmetric difference of the two sets:\", symmetric_difference)\n"
      ],
      "metadata": {
        "id": "qSmg3t_KzLIq"
      },
      "execution_count": null,
      "outputs": []
    },
    {
      "cell_type": "markdown",
      "source": [
        "**31. Write a code that takes a list of words as input and returns a dictionary where the keys are unique words\n",
        "and the values are the frequencies of those words in the input list.**"
      ],
      "metadata": {
        "id": "k2AD1NBkzfeY"
      }
    },
    {
      "cell_type": "code",
      "source": [
        "def count_word_frequencies(word_list):\n",
        "    frequency_dict = {}\n",
        "    for word in word_list:\n",
        "        word = word.lower()\n",
        "        if word in frequency_dict:\n",
        "            frequency_dict[word] += 1\n",
        "        else:\n",
        "            frequency_dict[word] = 1\n",
        "    return frequency_dict\n",
        "\n",
        "words = input(\"Enter a list of words (separated by spaces): \").split()\n",
        "frequency = count_word_frequencies(words)\n",
        "print(\"Word frequencies:\", frequency)\n"
      ],
      "metadata": {
        "id": "I1X29tCoznyV"
      },
      "execution_count": null,
      "outputs": []
    },
    {
      "cell_type": "markdown",
      "source": [
        "**32. Write a code that takes two dictionaries as input and merges them into a single dictionary. If there are\n",
        "common keys, the values should be added together.**"
      ],
      "metadata": {
        "id": "JeV3QnnHzxzD"
      }
    },
    {
      "cell_type": "code",
      "source": [
        "def merge_dictionaries(dict1, dict2):\n",
        "    merged_dict = dict1.copy()  # Create a copy of the first dictionary\n",
        "\n",
        "    for key, value in dict2.items():\n",
        "        if key in merged_dict:\n",
        "            merged_dict[key] += value  #\n",
        "        else:\n",
        "            merged_dict[key] = value\n",
        "\n",
        "    return merged_dict\n",
        "\n",
        "dict1 = {'a': 1, 'b': 2, 'c': 3}\n",
        "dict2 = {'b': 3, 'c': 1, 'd': 4}\n",
        "merged_result = merge_dictionaries(dict1, dict2)\n",
        "print(\"Merged dictionary:\", merged_result)"
      ],
      "metadata": {
        "id": "xhd_ncfuz5E0"
      },
      "execution_count": null,
      "outputs": []
    },
    {
      "cell_type": "markdown",
      "source": [
        "**33. Write a code to access a value in a nested dictionary. The function should take the dictionary and a list of\n",
        "keys as input, and return the corresponding value. If any of the keys do not exist in the dictionary, the\n",
        "function should return None.**"
      ],
      "metadata": {
        "id": "w47ll3d50ChW"
      }
    },
    {
      "cell_type": "code",
      "source": [
        "def access_nested_value(nested_dict, keys):\n",
        "    current_value = nested_dict\n",
        "\n",
        "    for key in keys:\n",
        "        # Check if the current key exists in the current value\n",
        "        if key in current_value:\n",
        "            current_value = current_value[key]  # Move to the next level\n",
        "        else:\n",
        "            return None  # Return None if the key does not exist\n",
        "\n",
        "    return current_value\n",
        "\n",
        "nested_dict = {\n",
        "    'a': {\n",
        "        'b': {\n",
        "            'c': 1\n",
        "        },\n",
        "        'd': 2\n",
        "    },\n",
        "    'e': 3\n",
        "}\n",
        "# Accessing a value using a list of keys\n",
        "keys_to_access = ['a', 'b', 'c']\n",
        "result = access_nested_value(nested_dict, keys_to_access)\n",
        "print(\"Value accessed:\", result)\n",
        "\n",
        "# Try to access a non-existing key\n",
        "keys_to_access_invalid = ['a', 'b', 'x']\n",
        "result_invalid = access_nested_value(nested_dict, keys_to_access_invalid)\n",
        "print(\"Value accessed:\", result_invalid)"
      ],
      "metadata": {
        "id": "nJBCP84F0Fui"
      },
      "execution_count": null,
      "outputs": []
    },
    {
      "cell_type": "markdown",
      "source": [
        "**34. Write a code that takes a dictionary as input and returns a sorted version of it based on the values. You\n",
        "can choose whether to sort in ascending or descending order.**"
      ],
      "metadata": {
        "id": "aed1HEwS0RBy"
      }
    },
    {
      "cell_type": "code",
      "source": [
        "def sort_dict_by_values(input_dict, ascending=True):\n",
        "    # Sort the dictionary by values\n",
        "    sorted_dict = dict(sorted(input_dict.items(), key=lambda item: item[1], reverse=not ascending))\n",
        "    return sorted_dict\n",
        "\n",
        "my_dict = {'a': 3, 'b': 1, 'c': 2}\n",
        "\n",
        "# Sort in ascending order\n",
        "sorted_ascending = sort_dict_by_values(my_dict, ascending=True)\n",
        "print(\"Sorted dictionary (ascending):\", sorted_ascending)\n",
        "\n",
        "# Sort in descending order\n",
        "sorted_descending = sort_dict_by_values(my_dict, ascending=False)\n",
        "print(\"Sorted dictionary (descending):\", sorted_descending)"
      ],
      "metadata": {
        "id": "8B8OhtJQ0z6F"
      },
      "execution_count": null,
      "outputs": []
    },
    {
      "cell_type": "markdown",
      "source": [
        "**35. Write a code that inverts a dictionary, swapping keys and values. Ensure that the inverted dictionary\n",
        "correctly handles cases where multiple keys have the same value by storing the keys as a list in the\n",
        "inverted dictionary.**"
      ],
      "metadata": {
        "id": "QGCfG7G_06dc"
      }
    },
    {
      "cell_type": "code",
      "source": [
        "def invert_dictionary(input_dict):\n",
        "    inverted_dict = {}\n",
        "\n",
        "    for key, value in input_dict.items():\n",
        "        # If the value is not already a key in the inverted dictionary\n",
        "        if value not in inverted_dict:\n",
        "            inverted_dict[value] = [key]  # Create a new list with the current key\n",
        "        else:\n",
        "            inverted_dict[value].append(key)  # Append the current key to the existing list\n",
        "\n",
        "    return inverted_dict\n",
        "\n",
        "original_dict = {'a': 1, 'b': 2, 'c': 1, 'd': 3}\n",
        "inverted_result = invert_dictionary(original_dict)\n",
        "print(\"Inverted dictionary:\", inverted_result)\n"
      ],
      "metadata": {
        "id": "H2rr9xVn1B1O"
      },
      "execution_count": null,
      "outputs": []
    }
  ]
}