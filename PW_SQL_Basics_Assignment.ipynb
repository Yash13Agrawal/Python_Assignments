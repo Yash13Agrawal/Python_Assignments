{
  "cells": [
    {
      "cell_type": "markdown",
      "id": "dca29c0b",
      "metadata": {
        "id": "dca29c0b"
      },
      "source": [
        "# SQL Assignment – Questions & Answers\n",
        "\n",
        "_All sections combined: SQL Basics, SQL Commands, Functions, Joins, Window Functions, Normalisation & CTE._\n"
      ]
    },
    {
      "cell_type": "markdown",
      "id": "30976ce3",
      "metadata": {
        "id": "30976ce3"
      },
      "source": [
        "### SQL BASICS – Q1\n",
        "**Question:** Create a table called employees with: emp_id INT NOT NULL PRIMARY KEY, emp_name TEXT NOT NULL, age INT (>=18), email UNIQUE, salary DECIMAL DEFAULT 30000."
      ]
    },
    {
      "cell_type": "markdown",
      "id": "1dfc6787",
      "metadata": {
        "id": "1dfc6787"
      },
      "source": [
        "**Answer:**\n",
        "\n",
        "```sql\n",
        "CREATE TABLE employees (\n",
        "    emp_id INT NOT NULL PRIMARY KEY,\n",
        "    emp_name TEXT NOT NULL,\n",
        "    age INT CHECK (age >= 18),\n",
        "    email TEXT UNIQUE,\n",
        "    salary DECIMAL DEFAULT 30000\n",
        ");\n",
        "```"
      ]
    },
    {
      "cell_type": "markdown",
      "id": "8db5ba44",
      "metadata": {
        "id": "8db5ba44"
      },
      "source": [
        "### SQL BASICS – Q2\n",
        "**Question:** Explain the purpose of constraints and how they help maintain data integrity. Give examples.\n",
        "\n",
        "**Answer:**\n",
        "\n",
        "**Answer:**\n",
        "- **PRIMARY KEY**: row uniqueness & identification.\n",
        "- **NOT NULL**: prevents missing values.\n",
        "- **UNIQUE**: prevents duplicates.\n",
        "- **CHECK**: validates business rules (e.g., age >= 18).\n",
        "- **FOREIGN KEY**: referential integrity between related tables.\n",
        "These constraints ensure accuracy, consistency, and reliability of data by blocking invalid writes."
      ]
    },
    {
      "cell_type": "markdown",
      "id": "f66bfe97",
      "metadata": {
        "id": "f66bfe97"
      },
      "source": [
        "### SQL BASICS – Q3\n",
        "**Question:** Why apply NOT NULL? Can a primary key contain NULL values?\n",
        "\n",
        "**Answer:**\n",
        "\n",
        "**Answer:**\n",
        "- Use **NOT NULL** to guarantee a value is always present (no incomplete data).\n",
        "- A **PRIMARY KEY cannot be NULL** because keys must uniquely identify rows; NULL represents unknown, breaking uniqueness."
      ]
    },
    {
      "cell_type": "markdown",
      "id": "c8f35f11",
      "metadata": {
        "id": "c8f35f11"
      },
      "source": [
        "### SQL BASICS – Q4\n",
        "**Question:** Steps/SQL to add or remove constraints on an existing table (example for both).\n",
        "\n",
        "**Answer:**\n",
        "\n",
        "```sql\n",
        "-- Add a CHECK constraint\n",
        "ALTER TABLE employees\n",
        "ADD CONSTRAINT chk_salary CHECK (salary > 0);\n",
        "\n",
        "-- Remove the constraint\n",
        "ALTER TABLE employees\n",
        "DROP CONSTRAINT chk_salary;\n",
        "```"
      ]
    },
    {
      "cell_type": "markdown",
      "id": "fbf63eba",
      "metadata": {
        "id": "fbf63eba"
      },
      "source": [
        "### SQL BASICS – Q5\n",
        "**Question:** Consequences of violating constraints; show an example error.\n",
        "\n",
        "**Answer:**\n",
        "\n",
        "**Answer:**\n",
        "- **NOT NULL** violation → cannot insert/update a NULL.\n",
        "- **UNIQUE** violation → duplicate value error.\n",
        "- **CHECK** violation → value out of allowed range.\n",
        "- **FOREIGN KEY** violation → missing/linked parent row.\n",
        "\n",
        "Example:\n",
        "```\n",
        "ERROR: duplicate key value violates unique constraint \"employees_email_key\"\n",
        "```"
      ]
    },
    {
      "cell_type": "markdown",
      "id": "ffc36be8",
      "metadata": {
        "id": "ffc36be8"
      },
      "source": [
        "### SQL BASICS – Q6\n",
        "**Question:** Products table was created without constraints. Make product_id PRIMARY KEY and price default 50.00."
      ]
    },
    {
      "cell_type": "markdown",
      "id": "8f730621",
      "metadata": {
        "id": "8f730621"
      },
      "source": [
        "**Answer:**\n",
        "\n",
        "```sql\n",
        "ALTER TABLE products\n",
        "ADD PRIMARY KEY (product_id);\n",
        "\n",
        "ALTER TABLE products\n",
        "ALTER COLUMN price SET DEFAULT 50.00;\n",
        "```"
      ]
    },
    {
      "cell_type": "markdown",
      "id": "bdba40ad",
      "metadata": {
        "id": "bdba40ad"
      },
      "source": [
        "### SQL BASICS – Q7\n",
        "**Question:** Students & Classes tables: fetch student_name and class_name for each student using INNER JOIN."
      ]
    },
    {
      "cell_type": "markdown",
      "id": "e33e830c",
      "metadata": {
        "id": "e33e830c"
      },
      "source": [
        "**Answer:**\n",
        "\n",
        "```sql\n",
        "SELECT s.student_name, c.class_name\n",
        "FROM Students AS s\n",
        "INNER JOIN Classes AS c\n",
        "  ON s.class_id = c.class_id;\n",
        "```"
      ]
    },
    {
      "cell_type": "markdown",
      "id": "7f1880a1",
      "metadata": {
        "id": "7f1880a1"
      },
      "source": [
        "### SQL BASICS – Q8\n",
        "**Question:** Orders, Customers, Products: list all order_id, customer_name, product_name ensuring **all products** appear (use INNER + LEFT JOIN)."
      ]
    },
    {
      "cell_type": "markdown",
      "id": "5c7b6f7c",
      "metadata": {
        "id": "5c7b6f7c"
      },
      "source": [
        "**Answer:**\n",
        "\n",
        "```sql\n",
        "SELECT o.order_id, c.customer_name, p.product_name\n",
        "FROM Products AS p\n",
        "LEFT JOIN Orders AS o\n",
        "  ON p.product_id = o.product_id\n",
        "LEFT JOIN Customers AS c\n",
        "  ON o.customer_id = c.customer_id;\n",
        "```"
      ]
    },
    {
      "cell_type": "markdown",
      "id": "1fdbf2f0",
      "metadata": {
        "id": "1fdbf2f0"
      },
      "source": [
        "### SQL BASICS – Q9\n",
        "**Question:** Sales & Products: total sales amount for each product using INNER JOIN + SUM()."
      ]
    },
    {
      "cell_type": "markdown",
      "id": "72a23524",
      "metadata": {
        "id": "72a23524"
      },
      "source": [
        "**Answer:**\n",
        "\n",
        "```sql\n",
        "SELECT p.product_name, SUM(s.amount) AS total_sales\n",
        "FROM Sales AS s\n",
        "INNER JOIN Products AS p\n",
        "  ON s.product_id = p.product_id\n",
        "GROUP BY p.product_name;\n",
        "```"
      ]
    },
    {
      "cell_type": "markdown",
      "id": "b03ce245",
      "metadata": {
        "id": "b03ce245"
      },
      "source": [
        "### SQL BASICS – Q10\n",
        "**Question:** Orders, Customers, Order_Details: show order_id, customer_name, and quantity using INNER JOIN between all three."
      ]
    },
    {
      "cell_type": "markdown",
      "id": "3248443e",
      "metadata": {
        "id": "3248443e"
      },
      "source": [
        "**Answer:**\n",
        "\n",
        "```sql\n",
        "SELECT o.order_id, c.customer_name, od.quantity\n",
        "FROM Orders AS o\n",
        "INNER JOIN Customers AS c\n",
        "  ON o.customer_id = c.customer_id\n",
        "INNER JOIN Order_Details AS od\n",
        "  ON o.order_id = od.order_id;\n",
        "```"
      ]
    },
    {
      "cell_type": "markdown",
      "id": "407c0c18",
      "metadata": {
        "id": "407c0c18"
      },
      "source": [
        "### SQL COMMANDS – Q1\n",
        "**Question:** Identify primary keys & foreign keys in the DB. Discuss differences."
      ]
    },
    {
      "cell_type": "markdown",
      "id": "84bcf756",
      "metadata": {
        "id": "84bcf756"
      },
      "source": [
        "**Answer:**\n",
        "\n",
        "```sql\n",
        "-- List primary keys (MySQL)\n",
        "SELECT k.table_name, k.column_name, k.constraint_name\n",
        "FROM information_schema.key_column_usage AS k\n",
        "JOIN information_schema.table_constraints AS tc\n",
        "  ON k.constraint_name = tc.constraint_name\n",
        " AND k.table_schema = tc.table_schema\n",
        "WHERE tc.constraint_type = 'PRIMARY KEY'\n",
        "  AND k.table_schema = DATABASE();\n",
        "\n",
        "-- List foreign keys\n",
        "SELECT k.table_name, k.column_name, k.referenced_table_name, k.referenced_column_name\n",
        "FROM information_schema.key_column_usage AS k\n",
        "WHERE k.referenced_table_name IS NOT NULL\n",
        "  AND k.table_schema = DATABASE();\n",
        "```\n",
        "\n",
        "**Answer (difference):** A **Primary Key** uniquely identifies rows within its table and cannot be NULL; a **Foreign Key** references a PK (or unique key) in another table to enforce referential integrity."
      ]
    },
    {
      "cell_type": "markdown",
      "id": "8e705199",
      "metadata": {
        "id": "8e705199"
      },
      "source": [
        "### SQL COMMANDS – Q2\n",
        "**Question:** List all details of actors."
      ]
    },
    {
      "cell_type": "markdown",
      "id": "ea7f4763",
      "metadata": {
        "id": "ea7f4763"
      },
      "source": [
        "**Answer:**\n",
        "\n",
        "```sql\n",
        "SELECT * FROM actor;\n",
        "```"
      ]
    },
    {
      "cell_type": "markdown",
      "id": "b6fbbb87",
      "metadata": {
        "id": "b6fbbb87"
      },
      "source": [
        "### SQL COMMANDS – Q3\n",
        "**Question:** List all customer information."
      ]
    },
    {
      "cell_type": "markdown",
      "id": "823d24e2",
      "metadata": {
        "id": "823d24e2"
      },
      "source": [
        "**Answer:**\n",
        "\n",
        "```sql\n",
        "SELECT * FROM customer;\n",
        "```"
      ]
    },
    {
      "cell_type": "markdown",
      "id": "ce41e2a1",
      "metadata": {
        "id": "ce41e2a1"
      },
      "source": [
        "### SQL COMMANDS – Q4\n",
        "**Question:** List different countries."
      ]
    },
    {
      "cell_type": "markdown",
      "id": "dae55af3",
      "metadata": {
        "id": "dae55af3"
      },
      "source": [
        "**Answer:**\n",
        "\n",
        "```sql\n",
        "SELECT DISTINCT country FROM country;\n",
        "```"
      ]
    },
    {
      "cell_type": "markdown",
      "id": "ba5b283d",
      "metadata": {
        "id": "ba5b283d"
      },
      "source": [
        "### SQL COMMANDS – Q5\n",
        "**Question:** Display all active customers."
      ]
    },
    {
      "cell_type": "markdown",
      "id": "5f6f42b6",
      "metadata": {
        "id": "5f6f42b6"
      },
      "source": [
        "**Answer:**\n",
        "\n",
        "```sql\n",
        "SELECT * FROM customer WHERE active = 1;\n",
        "```"
      ]
    },
    {
      "cell_type": "markdown",
      "id": "1effba9c",
      "metadata": {
        "id": "1effba9c"
      },
      "source": [
        "### SQL COMMANDS – Q6\n",
        "**Question:** List all rental IDs for customer with ID 1."
      ]
    },
    {
      "cell_type": "markdown",
      "id": "58bb40b8",
      "metadata": {
        "id": "58bb40b8"
      },
      "source": [
        "**Answer:**\n",
        "\n",
        "```sql\n",
        "SELECT rental_id FROM rental WHERE customer_id = 1;\n",
        "```"
      ]
    },
    {
      "cell_type": "markdown",
      "id": "c2745fe5",
      "metadata": {
        "id": "c2745fe5"
      },
      "source": [
        "### SQL COMMANDS – Q7\n",
        "**Question:** Display all films whose rental duration is greater than 5."
      ]
    },
    {
      "cell_type": "markdown",
      "id": "5492aad6",
      "metadata": {
        "id": "5492aad6"
      },
      "source": [
        "**Answer:**\n",
        "\n",
        "```sql\n",
        "SELECT * FROM film WHERE rental_duration > 5;\n",
        "```"
      ]
    },
    {
      "cell_type": "markdown",
      "id": "e455d5e3",
      "metadata": {
        "id": "e455d5e3"
      },
      "source": [
        "### SQL COMMANDS – Q8\n",
        "**Question:** Total number of films with replacement cost > 15 and < 20."
      ]
    },
    {
      "cell_type": "markdown",
      "id": "ceafe108",
      "metadata": {
        "id": "ceafe108"
      },
      "source": [
        "**Answer:**\n",
        "\n",
        "```sql\n",
        "SELECT COUNT(*) AS film_count FROM film WHERE replacement_cost > 15 AND replacement_cost < 20;\n",
        "```"
      ]
    },
    {
      "cell_type": "markdown",
      "id": "545478ae",
      "metadata": {
        "id": "545478ae"
      },
      "source": [
        "### SQL COMMANDS – Q9\n",
        "**Question:** Count of unique first names of actors."
      ]
    },
    {
      "cell_type": "markdown",
      "id": "be9f2b67",
      "metadata": {
        "id": "be9f2b67"
      },
      "source": [
        "**Answer:**\n",
        "\n",
        "```sql\n",
        "SELECT COUNT(DISTINCT first_name) AS unique_first_names FROM actor;\n",
        "```"
      ]
    },
    {
      "cell_type": "markdown",
      "id": "e7c1ecd8",
      "metadata": {
        "id": "e7c1ecd8"
      },
      "source": [
        "### SQL COMMANDS – Q10\n",
        "**Question:** First 10 records from the customer table."
      ]
    },
    {
      "cell_type": "markdown",
      "id": "ad461dc6",
      "metadata": {
        "id": "ad461dc6"
      },
      "source": [
        "**Answer:**\n",
        "\n",
        "```sql\n",
        "SELECT * FROM customer ORDER BY customer_id LIMIT 10;\n",
        "```"
      ]
    },
    {
      "cell_type": "markdown",
      "id": "9ad76149",
      "metadata": {
        "id": "9ad76149"
      },
      "source": [
        "### SQL COMMANDS – Q11\n",
        "**Question:** First 3 records from customer whose first name starts with 'b'."
      ]
    },
    {
      "cell_type": "markdown",
      "id": "92f083ac",
      "metadata": {
        "id": "92f083ac"
      },
      "source": [
        "**Answer:**\n",
        "\n",
        "```sql\n",
        "SELECT * FROM customer WHERE first_name LIKE 'B%' ORDER BY customer_id LIMIT 3;\n",
        "```"
      ]
    },
    {
      "cell_type": "markdown",
      "id": "a732e54b",
      "metadata": {
        "id": "a732e54b"
      },
      "source": [
        "### SQL COMMANDS – Q12\n",
        "**Question:** Names of first 5 movies rated 'G'."
      ]
    },
    {
      "cell_type": "markdown",
      "id": "36eda7c1",
      "metadata": {
        "id": "36eda7c1"
      },
      "source": [
        "**Answer:**\n",
        "\n",
        "```sql\n",
        "SELECT title FROM film WHERE rating = 'G' ORDER BY title LIMIT 5;\n",
        "```"
      ]
    },
    {
      "cell_type": "markdown",
      "id": "a6a2703d",
      "metadata": {
        "id": "a6a2703d"
      },
      "source": [
        "### SQL COMMANDS – Q13\n",
        "**Question:** Find customers whose first name starts with 'a'."
      ]
    },
    {
      "cell_type": "markdown",
      "id": "500fcc73",
      "metadata": {
        "id": "500fcc73"
      },
      "source": [
        "**Answer:**\n",
        "\n",
        "```sql\n",
        "SELECT * FROM customer WHERE first_name LIKE 'A%';\n",
        "```"
      ]
    },
    {
      "cell_type": "markdown",
      "id": "51da5a6d",
      "metadata": {
        "id": "51da5a6d"
      },
      "source": [
        "### SQL COMMANDS – Q14\n",
        "**Question:** Find customers whose first name ends with 'a'."
      ]
    },
    {
      "cell_type": "markdown",
      "id": "3f2a13ae",
      "metadata": {
        "id": "3f2a13ae"
      },
      "source": [
        "**Answer:**\n",
        "\n",
        "```sql\n",
        "SELECT * FROM customer WHERE first_name LIKE '%a';\n",
        "```"
      ]
    },
    {
      "cell_type": "markdown",
      "id": "926d635d",
      "metadata": {
        "id": "926d635d"
      },
      "source": [
        "### SQL COMMANDS – Q15\n",
        "**Question:** First 4 cities that start and end with 'a'."
      ]
    },
    {
      "cell_type": "markdown",
      "id": "e7f558e0",
      "metadata": {
        "id": "e7f558e0"
      },
      "source": [
        "**Answer:**\n",
        "\n",
        "```sql\n",
        "SELECT city FROM city WHERE city LIKE 'A%a' LIMIT 4;\n",
        "```"
      ]
    },
    {
      "cell_type": "markdown",
      "id": "9d8b4d03",
      "metadata": {
        "id": "9d8b4d03"
      },
      "source": [
        "### SQL COMMANDS – Q16\n",
        "**Question:** Customers whose first name has 'NI' in any position."
      ]
    },
    {
      "cell_type": "markdown",
      "id": "ea5cec24",
      "metadata": {
        "id": "ea5cec24"
      },
      "source": [
        "**Answer:**\n",
        "\n",
        "```sql\n",
        "SELECT * FROM customer WHERE UPPER(first_name) LIKE '%NI%';\n",
        "```"
      ]
    },
    {
      "cell_type": "markdown",
      "id": "d399b4c1",
      "metadata": {
        "id": "d399b4c1"
      },
      "source": [
        "### SQL COMMANDS – Q17\n",
        "**Question:** Customers whose first name has 'r' in the second position."
      ]
    },
    {
      "cell_type": "markdown",
      "id": "34677419",
      "metadata": {
        "id": "34677419"
      },
      "source": [
        "**Answer:**\n",
        "\n",
        "```sql\n",
        "SELECT * FROM customer WHERE first_name LIKE '_r%';\n",
        "```"
      ]
    },
    {
      "cell_type": "markdown",
      "id": "537f7236",
      "metadata": {
        "id": "537f7236"
      },
      "source": [
        "### SQL COMMANDS – Q18\n",
        "**Question:** Customers whose first name starts with 'a' and length ≥ 5."
      ]
    },
    {
      "cell_type": "markdown",
      "id": "31427505",
      "metadata": {
        "id": "31427505"
      },
      "source": [
        "**Answer:**\n",
        "\n",
        "```sql\n",
        "SELECT * FROM customer WHERE first_name LIKE 'A%' AND CHAR_LENGTH(first_name) >= 5;\n",
        "```"
      ]
    },
    {
      "cell_type": "markdown",
      "id": "2de00c92",
      "metadata": {
        "id": "2de00c92"
      },
      "source": [
        "### SQL COMMANDS – Q19\n",
        "**Question:** Customers whose first name starts with 'a' and ends with 'o'."
      ]
    },
    {
      "cell_type": "markdown",
      "id": "fba41284",
      "metadata": {
        "id": "fba41284"
      },
      "source": [
        "**Answer:**\n",
        "\n",
        "```sql\n",
        "SELECT * FROM customer WHERE first_name LIKE 'A%o';\n",
        "```"
      ]
    },
    {
      "cell_type": "markdown",
      "id": "d215b0ad",
      "metadata": {
        "id": "d215b0ad"
      },
      "source": [
        "### SQL COMMANDS – Q20\n",
        "**Question:** Films with PG and PG-13 rating using IN."
      ]
    },
    {
      "cell_type": "markdown",
      "id": "fd31af72",
      "metadata": {
        "id": "fd31af72"
      },
      "source": [
        "**Answer:**\n",
        "\n",
        "```sql\n",
        "SELECT * FROM film WHERE rating IN ('PG', 'PG-13');\n",
        "```"
      ]
    },
    {
      "cell_type": "markdown",
      "id": "f3bd09e2",
      "metadata": {
        "id": "f3bd09e2"
      },
      "source": [
        "### SQL COMMANDS – Q21\n",
        "**Question:** Films with length between 50 and 100 (inclusive)."
      ]
    },
    {
      "cell_type": "markdown",
      "id": "a119675b",
      "metadata": {
        "id": "a119675b"
      },
      "source": [
        "**Answer:**\n",
        "\n",
        "```sql\n",
        "SELECT * FROM film WHERE length BETWEEN 50 AND 100;\n",
        "```"
      ]
    },
    {
      "cell_type": "markdown",
      "id": "d4e54372",
      "metadata": {
        "id": "d4e54372"
      },
      "source": [
        "### SQL COMMANDS – Q22\n",
        "**Question:** Top 50 actors using LIMIT."
      ]
    },
    {
      "cell_type": "markdown",
      "id": "ebe297ee",
      "metadata": {
        "id": "ebe297ee"
      },
      "source": [
        "**Answer:**\n",
        "\n",
        "```sql\n",
        "SELECT * FROM actor ORDER BY actor_id LIMIT 50;\n",
        "```"
      ]
    },
    {
      "cell_type": "markdown",
      "id": "b7dd0866",
      "metadata": {
        "id": "b7dd0866"
      },
      "source": [
        "### SQL COMMANDS – Q23\n",
        "**Question:** Distinct film_ids from inventory table."
      ]
    },
    {
      "cell_type": "markdown",
      "id": "7efbbb68",
      "metadata": {
        "id": "7efbbb68"
      },
      "source": [
        "**Answer:**\n",
        "\n",
        "```sql\n",
        "SELECT DISTINCT film_id FROM inventory;\n",
        "```"
      ]
    },
    {
      "cell_type": "markdown",
      "id": "7efaf0b7",
      "metadata": {
        "id": "7efaf0b7"
      },
      "source": [
        "### FUNCTIONS – Q1 (Aggregate)\n",
        "**Question:** Total number of rentals in Sakila."
      ]
    },
    {
      "cell_type": "markdown",
      "id": "8efa01d3",
      "metadata": {
        "id": "8efa01d3"
      },
      "source": [
        "**Answer:**\n",
        "\n",
        "```sql\n",
        "SELECT COUNT(*) AS total_rentals FROM rental;\n",
        "```"
      ]
    },
    {
      "cell_type": "markdown",
      "id": "c1cf7baa",
      "metadata": {
        "id": "c1cf7baa"
      },
      "source": [
        "### FUNCTIONS – Q2 (Aggregate)\n",
        "**Question:** Average rental duration (days)."
      ]
    },
    {
      "cell_type": "markdown",
      "id": "3c2e249d",
      "metadata": {
        "id": "3c2e249d"
      },
      "source": [
        "**Answer:**\n",
        "\n",
        "```sql\n",
        "SELECT AVG(DATEDIFF(return_date, rental_date)) AS avg_rental_days FROM rental WHERE return_date IS NOT NULL;\n",
        "```"
      ]
    },
    {
      "cell_type": "markdown",
      "id": "29d813e8",
      "metadata": {
        "id": "29d813e8"
      },
      "source": [
        "### FUNCTIONS – Q3 (String)\n",
        "**Question:** Customers' first and last names in uppercase."
      ]
    },
    {
      "cell_type": "markdown",
      "id": "f23e6827",
      "metadata": {
        "id": "f23e6827"
      },
      "source": [
        "**Answer:**\n",
        "\n",
        "```sql\n",
        "SELECT UPPER(first_name) AS first_name, UPPER(last_name) AS last_name FROM customer;\n",
        "```"
      ]
    },
    {
      "cell_type": "markdown",
      "id": "163d3498",
      "metadata": {
        "id": "163d3498"
      },
      "source": [
        "### FUNCTIONS – Q4 (Date)\n",
        "**Question:** Extract month from rental_date with rental_id."
      ]
    },
    {
      "cell_type": "markdown",
      "id": "b9fe6a5d",
      "metadata": {
        "id": "b9fe6a5d"
      },
      "source": [
        "**Answer:**\n",
        "\n",
        "```sql\n",
        "SELECT rental_id, MONTH(rental_date) AS rental_month FROM rental;\n",
        "```"
      ]
    },
    {
      "cell_type": "markdown",
      "id": "91b0d8dd",
      "metadata": {
        "id": "91b0d8dd"
      },
      "source": [
        "### FUNCTIONS – Q5 (GROUP BY)\n",
        "**Question:** Count of rentals for each customer."
      ]
    },
    {
      "cell_type": "markdown",
      "id": "0205a3f4",
      "metadata": {
        "id": "0205a3f4"
      },
      "source": [
        "**Answer:**\n",
        "\n",
        "```sql\n",
        "SELECT customer_id, COUNT(*) AS rental_count FROM rental GROUP BY customer_id;\n",
        "```"
      ]
    },
    {
      "cell_type": "markdown",
      "id": "6852f1f4",
      "metadata": {
        "id": "6852f1f4"
      },
      "source": [
        "### FUNCTIONS – Q6 (GROUP BY)\n",
        "**Question:** Total revenue generated by each store."
      ]
    },
    {
      "cell_type": "markdown",
      "id": "4177911b",
      "metadata": {
        "id": "4177911b"
      },
      "source": [
        "**Answer:**\n",
        "\n",
        "```sql\n",
        "SELECT s.store_id, SUM(p.amount) AS total_revenue\n",
        "FROM payment AS p\n",
        "JOIN staff AS s ON p.staff_id = s.staff_id\n",
        "GROUP BY s.store_id;\n",
        "```"
      ]
    },
    {
      "cell_type": "markdown",
      "id": "5486285d",
      "metadata": {
        "id": "5486285d"
      },
      "source": [
        "### FUNCTIONS – Q7 (GROUP BY)\n",
        "**Question:** Total rentals for each category."
      ]
    },
    {
      "cell_type": "markdown",
      "id": "bdb3f1f4",
      "metadata": {
        "id": "bdb3f1f4"
      },
      "source": [
        "**Answer:**\n",
        "\n",
        "```sql\n",
        "SELECT c.name AS category, COUNT(r.rental_id) AS rental_count\n",
        "FROM category AS c\n",
        "JOIN film_category AS fc ON c.category_id = fc.category_id\n",
        "JOIN inventory AS i ON fc.film_id = i.film_id\n",
        "JOIN rental AS r ON i.inventory_id = r.inventory_id\n",
        "GROUP BY c.name;\n",
        "```"
      ]
    },
    {
      "cell_type": "markdown",
      "id": "9b625218",
      "metadata": {
        "id": "9b625218"
      },
      "source": [
        "### FUNCTIONS – Q8 (GROUP BY)\n",
        "**Question:** Average rental rate of movies in each language."
      ]
    },
    {
      "cell_type": "markdown",
      "id": "a1fb3021",
      "metadata": {
        "id": "a1fb3021"
      },
      "source": [
        "**Answer:**\n",
        "\n",
        "```sql\n",
        "SELECT l.name AS language, AVG(f.rental_rate) AS avg_rental_rate\n",
        "FROM film AS f\n",
        "JOIN language AS l ON f.language_id = l.language_id\n",
        "GROUP BY l.name;\n",
        "```"
      ]
    },
    {
      "cell_type": "markdown",
      "id": "1561442b",
      "metadata": {
        "id": "1561442b"
      },
      "source": [
        "### JOINS – Q9\n",
        "**Question:** Title of the movie and customer's first & last name who rented it."
      ]
    },
    {
      "cell_type": "markdown",
      "id": "026234fc",
      "metadata": {
        "id": "026234fc"
      },
      "source": [
        "**Answer:**\n",
        "\n",
        "```sql\n",
        "SELECT f.title, c.first_name, c.last_name\n",
        "FROM rental AS r\n",
        "JOIN inventory AS i ON r.inventory_id = i.inventory_id\n",
        "JOIN film AS f ON i.film_id = f.film_id\n",
        "JOIN customer AS c ON r.customer_id = c.customer_id;\n",
        "```"
      ]
    },
    {
      "cell_type": "markdown",
      "id": "da1a7e22",
      "metadata": {
        "id": "da1a7e22"
      },
      "source": [
        "### JOINS – Q10\n",
        "**Question:** Names of actors who appeared in film 'Gone with the Wind'."
      ]
    },
    {
      "cell_type": "markdown",
      "id": "3a1d07dc",
      "metadata": {
        "id": "3a1d07dc"
      },
      "source": [
        "**Answer:**\n",
        "\n",
        "```sql\n",
        "SELECT a.first_name, a.last_name\n",
        "FROM film AS f\n",
        "JOIN film_actor AS fa ON f.film_id = fa.film_id\n",
        "JOIN actor AS a ON fa.actor_id = a.actor_id\n",
        "WHERE f.title = 'Gone with the Wind';\n",
        "```"
      ]
    },
    {
      "cell_type": "markdown",
      "id": "57520777",
      "metadata": {
        "id": "57520777"
      },
      "source": [
        "### JOINS – Q11\n",
        "**Question:** Customer names with the total amount they've spent on rentals."
      ]
    },
    {
      "cell_type": "markdown",
      "id": "0377249e",
      "metadata": {
        "id": "0377249e"
      },
      "source": [
        "**Answer:**\n",
        "\n",
        "```sql\n",
        "SELECT c.first_name, c.last_name, SUM(p.amount) AS total_spent\n",
        "FROM customer AS c\n",
        "JOIN payment AS p ON c.customer_id = p.customer_id\n",
        "GROUP BY c.customer_id, c.first_name, c.last_name;\n",
        "```"
      ]
    },
    {
      "cell_type": "markdown",
      "id": "a6c805ba",
      "metadata": {
        "id": "a6c805ba"
      },
      "source": [
        "### JOINS – Q12\n",
        "**Question:** Titles of movies rented by each customer in a specific city (e.g., London)."
      ]
    },
    {
      "cell_type": "markdown",
      "id": "99cf2212",
      "metadata": {
        "id": "99cf2212"
      },
      "source": [
        "**Answer:**\n",
        "\n",
        "```sql\n",
        "SELECT c.first_name, c.last_name, f.title\n",
        "FROM customer AS c\n",
        "JOIN address AS a   ON c.address_id = a.address_id\n",
        "JOIN city    AS ci  ON a.city_id = ci.city_id\n",
        "JOIN rental  AS r   ON c.customer_id = r.customer_id\n",
        "JOIN inventory AS i ON r.inventory_id = i.inventory_id\n",
        "JOIN film     AS f  ON i.film_id = f.film_id\n",
        "WHERE ci.city = 'London'\n",
        "ORDER BY c.customer_id, f.title;\n",
        "```"
      ]
    },
    {
      "cell_type": "markdown",
      "id": "9c84edd1",
      "metadata": {
        "id": "9c84edd1"
      },
      "source": [
        "### ADVANCED JOINS – Q13\n",
        "**Question:** Top 5 rented movies and their rental counts."
      ]
    },
    {
      "cell_type": "markdown",
      "id": "21729a1b",
      "metadata": {
        "id": "21729a1b"
      },
      "source": [
        "**Answer:**\n",
        "\n",
        "```sql\n",
        "SELECT f.title, COUNT(r.rental_id) AS rental_count\n",
        "FROM film AS f\n",
        "JOIN inventory AS i ON f.film_id = i.film_id\n",
        "JOIN rental   AS r ON i.inventory_id = r.inventory_id\n",
        "GROUP BY f.film_id, f.title\n",
        "ORDER BY rental_count DESC\n",
        "LIMIT 5;\n",
        "```"
      ]
    },
    {
      "cell_type": "markdown",
      "id": "5acc4565",
      "metadata": {
        "id": "5acc4565"
      },
      "source": [
        "### ADVANCED JOINS – Q14\n",
        "**Question:** Customers who have rented from both stores (store_id 1 and 2)."
      ]
    },
    {
      "cell_type": "markdown",
      "id": "1e6fdd8f",
      "metadata": {
        "id": "1e6fdd8f"
      },
      "source": [
        "**Answer:**\n",
        "\n",
        "```sql\n",
        "SELECT c.customer_id, c.first_name, c.last_name\n",
        "FROM customer AS c\n",
        "JOIN rental   AS r ON c.customer_id = r.customer_id\n",
        "JOIN inventory AS i ON r.inventory_id = i.inventory_id\n",
        "GROUP BY c.customer_id, c.first_name, c.last_name\n",
        "HAVING SUM(CASE WHEN i.store_id = 1 THEN 1 ELSE 0 END) > 0\n",
        "   AND SUM(CASE WHEN i.store_id = 2 THEN 1 ELSE 0 END) > 0;\n",
        "```"
      ]
    },
    {
      "cell_type": "markdown",
      "id": "6b08ab7c",
      "metadata": {
        "id": "6b08ab7c"
      },
      "source": [
        "### WINDOWS – Q1\n",
        "**Question:** Rank customers by total amount spent."
      ]
    },
    {
      "cell_type": "markdown",
      "id": "6707eb62",
      "metadata": {
        "id": "6707eb62"
      },
      "source": [
        "**Answer:**\n",
        "\n",
        "```sql\n",
        "SELECT\n",
        "  c.customer_id,\n",
        "  c.first_name,\n",
        "  c.last_name,\n",
        "  SUM(p.amount) AS total_spent,\n",
        "  RANK() OVER (ORDER BY SUM(p.amount) DESC) AS spend_rank\n",
        "FROM customer AS c\n",
        "JOIN payment  AS p ON c.customer_id = p.customer_id\n",
        "GROUP BY c.customer_id, c.first_name, c.last_name;\n",
        "```"
      ]
    },
    {
      "cell_type": "markdown",
      "id": "443ed1ae",
      "metadata": {
        "id": "443ed1ae"
      },
      "source": [
        "### WINDOWS – Q2\n",
        "**Question:** Cumulative revenue generated by each film over time."
      ]
    },
    {
      "cell_type": "markdown",
      "id": "43c9bdf6",
      "metadata": {
        "id": "43c9bdf6"
      },
      "source": [
        "**Answer:**\n",
        "\n",
        "```sql\n",
        "SELECT\n",
        "  f.title,\n",
        "  p.payment_date,\n",
        "  p.amount,\n",
        "  SUM(p.amount) OVER (PARTITION BY f.film_id ORDER BY p.payment_date\n",
        "                      ROWS BETWEEN UNBOUNDED PRECEDING AND CURRENT ROW) AS cumulative_revenue\n",
        "FROM payment AS p\n",
        "JOIN rental  AS r ON p.rental_id = r.rental_id\n",
        "JOIN inventory AS i ON r.inventory_id = i.inventory_id\n",
        "JOIN film AS f ON i.film_id = f.film_id;\n",
        "```"
      ]
    },
    {
      "cell_type": "markdown",
      "id": "c0205d07",
      "metadata": {
        "id": "c0205d07"
      },
      "source": [
        "### WINDOWS – Q3\n",
        "**Question:** Average rental duration per film, considering films with similar lengths."
      ]
    },
    {
      "cell_type": "markdown",
      "id": "1c7fd602",
      "metadata": {
        "id": "1c7fd602"
      },
      "source": [
        "**Answer:**\n",
        "\n",
        "```sql\n",
        "SELECT\n",
        "  f.film_id,\n",
        "  f.title,\n",
        "  f.length AS film_length,\n",
        "  AVG(DATEDIFF(r.return_date, r.rental_date)) AS avg_duration,\n",
        "  AVG(DATEDIFF(r.return_date, r.rental_date)) OVER (PARTITION BY f.length) AS avg_duration_by_length_group\n",
        "FROM film AS f\n",
        "JOIN inventory AS i ON f.film_id = i.film_id\n",
        "JOIN rental   AS r ON i.inventory_id = r.inventory_id\n",
        "WHERE r.return_date IS NOT NULL\n",
        "GROUP BY f.film_id, f.title, f.length;\n",
        "```"
      ]
    },
    {
      "cell_type": "markdown",
      "id": "3f393557",
      "metadata": {
        "id": "3f393557"
      },
      "source": [
        "### WINDOWS – Q4\n",
        "**Question:** Top 3 films in each category by rental counts."
      ]
    },
    {
      "cell_type": "markdown",
      "id": "292fedb7",
      "metadata": {
        "id": "292fedb7"
      },
      "source": [
        "**Answer:**\n",
        "\n",
        "```sql\n",
        "WITH film_counts AS (\n",
        "  SELECT\n",
        "    c.category_id,\n",
        "    c.name AS category,\n",
        "    f.film_id,\n",
        "    f.title,\n",
        "    COUNT(r.rental_id) AS rental_count\n",
        "  FROM category AS c\n",
        "  JOIN film_category AS fc ON c.category_id = fc.category_id\n",
        "  JOIN film AS f ON fc.film_id = f.film_id\n",
        "  JOIN inventory AS i ON f.film_id = i.film_id\n",
        "  JOIN rental AS r ON i.inventory_id = r.inventory_id\n",
        "  GROUP BY c.category_id, c.name, f.film_id, f.title\n",
        ")\n",
        "SELECT *\n",
        "FROM (\n",
        "  SELECT\n",
        "    category,\n",
        "    title,\n",
        "    rental_count,\n",
        "    DENSE_RANK() OVER (PARTITION BY category ORDER BY rental_count DESC) AS rnk\n",
        "  FROM film_counts\n",
        ") x\n",
        "WHERE rnk <= 3\n",
        "ORDER BY category, rental_count DESC;\n",
        "```"
      ]
    },
    {
      "cell_type": "markdown",
      "id": "ba57dfab",
      "metadata": {
        "id": "ba57dfab"
      },
      "source": [
        "### WINDOWS – Q5\n",
        "**Question:** Difference between each customer's rentals and the average rentals."
      ]
    },
    {
      "cell_type": "markdown",
      "id": "15727eca",
      "metadata": {
        "id": "15727eca"
      },
      "source": [
        "**Answer:**\n",
        "\n",
        "```sql\n",
        "WITH counts AS (\n",
        "  SELECT customer_id, COUNT(*) AS rentals\n",
        "  FROM rental\n",
        "  GROUP BY customer_id\n",
        ")\n",
        "SELECT\n",
        "  c.customer_id,\n",
        "  c.rentals,\n",
        "  c.rentals - AVG(c.rentals) OVER () AS diff_from_avg\n",
        "FROM counts AS c\n",
        "ORDER BY diff_from_avg DESC;\n",
        "```"
      ]
    },
    {
      "cell_type": "markdown",
      "id": "c847af42",
      "metadata": {
        "id": "c847af42"
      },
      "source": [
        "### WINDOWS – Q6\n",
        "**Question:** Monthly revenue trend for the entire store over time."
      ]
    },
    {
      "cell_type": "markdown",
      "id": "d37ba636",
      "metadata": {
        "id": "d37ba636"
      },
      "source": [
        "**Answer:**\n",
        "\n",
        "```sql\n",
        "SELECT\n",
        "  DATE_FORMAT(p.payment_date, '%Y-%m-01') AS month_start,\n",
        "  SUM(p.amount) AS monthly_revenue\n",
        "FROM payment AS p\n",
        "GROUP BY month_start\n",
        "ORDER BY month_start;\n",
        "```"
      ]
    },
    {
      "cell_type": "markdown",
      "id": "e7048280",
      "metadata": {
        "id": "e7048280"
      },
      "source": [
        "### WINDOWS – Q7\n",
        "**Question:** Customers whose total spending falls within the top 20% of all customers."
      ]
    },
    {
      "cell_type": "markdown",
      "id": "a7e90b94",
      "metadata": {
        "id": "a7e90b94"
      },
      "source": [
        "**Answer:**\n",
        "\n",
        "```sql\n",
        "WITH totals AS (\n",
        "  SELECT c.customer_id, c.first_name, c.last_name, SUM(p.amount) AS total_spent\n",
        "  FROM customer AS c\n",
        "  JOIN payment  AS p ON c.customer_id = p.customer_id\n",
        "  GROUP BY c.customer_id, c.first_name, c.last_name\n",
        ")\n",
        "SELECT *\n",
        "FROM (\n",
        "  SELECT\n",
        "    t.*,\n",
        "    NTILE(5) OVER (ORDER BY total_spent DESC) AS spend_tile\n",
        "  FROM totals AS t\n",
        ") x\n",
        "WHERE spend_tile = 1\n",
        "ORDER BY total_spent DESC;\n",
        "```"
      ]
    },
    {
      "cell_type": "markdown",
      "id": "bf006db0",
      "metadata": {
        "id": "bf006db0"
      },
      "source": [
        "### WINDOWS – Q8\n",
        "**Question:** Running total of rentals per category, ordered by film rental counts."
      ]
    },
    {
      "cell_type": "markdown",
      "id": "e5679173",
      "metadata": {
        "id": "e5679173"
      },
      "source": [
        "**Answer:**\n",
        "\n",
        "```sql\n",
        "WITH counts AS (\n",
        "  SELECT\n",
        "    c.name AS category,\n",
        "    f.title,\n",
        "    COUNT(r.rental_id) AS rental_count\n",
        "  FROM category AS c\n",
        "  JOIN film_category AS fc ON c.category_id = fc.category_id\n",
        "  JOIN film AS f ON fc.film_id = f.film_id\n",
        "  JOIN inventory AS i ON f.film_id = i.film_id\n",
        "  JOIN rental AS r ON i.inventory_id = r.inventory_id\n",
        "  GROUP BY c.name, f.title\n",
        ")\n",
        "SELECT\n",
        "  category,\n",
        "  title,\n",
        "  rental_count,\n",
        "  SUM(rental_count) OVER (PARTITION BY category ORDER BY rental_count DESC\n",
        "                          ROWS BETWEEN UNBOUNDED PRECEDING AND CURRENT ROW) AS running_total_in_category\n",
        "FROM counts\n",
        "ORDER BY category, running_total_in_category DESC;\n",
        "```"
      ]
    },
    {
      "cell_type": "markdown",
      "id": "82d6bee5",
      "metadata": {
        "id": "82d6bee5"
      },
      "source": [
        "### WINDOWS – Q9\n",
        "**Question:** Films rented less than the average rental count for their categories."
      ]
    },
    {
      "cell_type": "markdown",
      "id": "be7fae4f",
      "metadata": {
        "id": "be7fae4f"
      },
      "source": [
        "**Answer:**\n",
        "\n",
        "```sql\n",
        "WITH counts AS (\n",
        "  SELECT\n",
        "    c.name AS category,\n",
        "    f.title,\n",
        "    COUNT(r.rental_id) AS rental_count\n",
        "  FROM category AS c\n",
        "  JOIN film_category AS fc ON c.category_id = fc.category_id\n",
        "  JOIN film AS f ON fc.film_id = f.film_id\n",
        "  JOIN inventory AS i ON f.film_id = i.film_id\n",
        "  JOIN rental AS r ON i.inventory_id = r.inventory_id\n",
        "  GROUP BY c.name, f.title\n",
        ")\n",
        "SELECT *\n",
        "FROM (\n",
        "  SELECT\n",
        "    category,\n",
        "    title,\n",
        "    rental_count,\n",
        "    AVG(rental_count) OVER (PARTITION BY category) AS avg_in_category\n",
        "  FROM counts\n",
        ") x\n",
        "WHERE rental_count < avg_in_category\n",
        "ORDER BY category, rental_count;\n",
        "```"
      ]
    },
    {
      "cell_type": "markdown",
      "id": "905fca02",
      "metadata": {
        "id": "905fca02"
      },
      "source": [
        "### WINDOWS – Q10\n",
        "**Question:** Top 5 months with the highest revenue."
      ]
    },
    {
      "cell_type": "markdown",
      "id": "9b5c2a73",
      "metadata": {
        "id": "9b5c2a73"
      },
      "source": [
        "**Answer:**\n",
        "\n",
        "```sql\n",
        "WITH monthly AS (\n",
        "  SELECT\n",
        "    DATE_FORMAT(p.payment_date, '%Y-%m-01') AS month_start,\n",
        "    SUM(p.amount) AS monthly_revenue\n",
        "  FROM payment AS p\n",
        "  GROUP BY month_start\n",
        ")\n",
        "SELECT *\n",
        "FROM monthly\n",
        "ORDER BY monthly_revenue DESC\n",
        "LIMIT 5;\n",
        "```"
      ]
    },
    {
      "cell_type": "markdown",
      "id": "632d5649",
      "metadata": {
        "id": "632d5649"
      },
      "source": [
        "### NORMALISATION – Q1 (1NF)\n",
        "**Question:** Identify a table in Sakila that violates 1NF and normalize it to 1NF."
      ]
    },
    {
      "cell_type": "markdown",
      "id": "2d3af1ba",
      "metadata": {
        "id": "2d3af1ba"
      },
      "source": [
        "**Answer:**\n",
        "\n",
        "**Answer:** Sakila is already designed close to 3NF and does not visibly violate 1NF.\n",
        "\n",
        "**If** we had a table `customer_contact(customer_id, phones)` storing multiple phone numbers in one field, it would violate 1NF (repeating groups).\n",
        "\n",
        "**Normalize to 1NF:**\n",
        "- Create `customer_phone(customer_id, phone)` so each row stores a single atomic phone.\n",
        "- Enforce FK: `customer_phone.customer_id → customer.customer_id`."
      ]
    },
    {
      "cell_type": "markdown",
      "id": "9d637a3c",
      "metadata": {
        "id": "9d637a3c"
      },
      "source": [
        "### NORMALISATION – Q2 (2NF)\n",
        "**Question:** Choose a table and determine whether it is in 2NF; if not, normalize."
      ]
    },
    {
      "cell_type": "markdown",
      "id": "3d48034a",
      "metadata": {
        "id": "3d48034a"
      },
      "source": [
        "**Answer:**\n",
        "\n",
        "**Answer:** In tables with **composite PKs** (e.g., `film_actor(film_id, actor_id)`), all non-key columns must depend on the full key. `film_actor` has no non-key columns → already in 2NF.\n",
        "\n",
        "**If** there were a non-key attribute depending only on part of the key, move it to a separate table keyed by that part to achieve 2NF."
      ]
    },
    {
      "cell_type": "markdown",
      "id": "328a3c49",
      "metadata": {
        "id": "328a3c49"
      },
      "source": [
        "### NORMALISATION – Q3 (3NF)\n",
        "**Question:** Identify a table that violates 3NF; describe transitive dependencies and normalize."
      ]
    },
    {
      "cell_type": "markdown",
      "id": "092fb95f",
      "metadata": {
        "id": "092fb95f"
      },
      "source": [
        "**Answer:**\n",
        "\n",
        "**Answer:** Sakila generally satisfies 3NF. A **hypothetical** violation: a denormalized `address_city(address_id, city, country)` where `country` depends on `city` (transitively). Normalize by separating `city(city_id, city, country_id)` and reference `city_id` from `address`."
      ]
    },
    {
      "cell_type": "markdown",
      "id": "68ca4a54",
      "metadata": {
        "id": "68ca4a54"
      },
      "source": [
        "### NORMALISATION – Q4 (Process)\n",
        "**Question:** Normalize a specific table from unnormalized form to at least 2NF."
      ]
    },
    {
      "cell_type": "markdown",
      "id": "0bbfcf40",
      "metadata": {
        "id": "0bbfcf40"
      },
      "source": [
        "**Answer:**\n",
        "\n",
        "**Answer (example):**\n",
        "Unnormalized `order_lines(order_id, customer_name, items_list)` where `items_list` contains multiple items:\n",
        "1. **1NF:** Split to rows: `order_line(order_id, product_id, qty)`.\n",
        "2. **2NF:** If PK is `(order_id, product_id)`, move attributes depending only on `order_id` (e.g., `order_date`) to parent `orders(order_id, order_date, customer_id)`."
      ]
    },
    {
      "cell_type": "markdown",
      "id": "27ca26b5",
      "metadata": {
        "id": "27ca26b5"
      },
      "source": [
        "### CTE – Q5 (Basics)\n",
        "**Question:** Distinct actor names and number of films they acted in."
      ]
    },
    {
      "cell_type": "markdown",
      "id": "9976b39b",
      "metadata": {
        "id": "9976b39b"
      },
      "source": [
        "**Answer:**\n",
        "\n",
        "```sql\n",
        "WITH actor_films AS (\n",
        "  SELECT a.actor_id, a.first_name, a.last_name, COUNT(fa.film_id) AS film_count\n",
        "  FROM actor AS a\n",
        "  LEFT JOIN film_actor AS fa ON a.actor_id = fa.actor_id\n",
        "  GROUP BY a.actor_id, a.first_name, a.last_name\n",
        ")\n",
        "SELECT first_name, last_name, film_count\n",
        "FROM actor_films\n",
        "ORDER BY film_count DESC, last_name, first_name;\n",
        "```"
      ]
    },
    {
      "cell_type": "markdown",
      "id": "cbcdc8a8",
      "metadata": {
        "id": "cbcdc8a8"
      },
      "source": [
        "### CTE – Q6 (Join)\n",
        "**Question:** Combine film and language to show film title, language name, rental rate."
      ]
    },
    {
      "cell_type": "markdown",
      "id": "72a1e714",
      "metadata": {
        "id": "72a1e714"
      },
      "source": [
        "**Answer:**\n",
        "\n",
        "```sql\n",
        "WITH film_lang AS (\n",
        "  SELECT f.film_id, f.title, l.name AS language, f.rental_rate\n",
        "  FROM film AS f\n",
        "  JOIN language AS l ON f.language_id = l.language_id\n",
        ")\n",
        "SELECT * FROM film_lang ORDER BY title;\n",
        "```"
      ]
    },
    {
      "cell_type": "markdown",
      "id": "405788a3",
      "metadata": {
        "id": "405788a3"
      },
      "source": [
        "### CTE – Q7 (Aggregation)\n",
        "**Question:** Total revenue by each customer (sum of payments)."
      ]
    },
    {
      "cell_type": "markdown",
      "id": "f6fa2664",
      "metadata": {
        "id": "f6fa2664"
      },
      "source": [
        "**Answer:**\n",
        "\n",
        "```sql\n",
        "WITH cust_rev AS (\n",
        "  SELECT customer_id, SUM(amount) AS total_spent\n",
        "  FROM payment\n",
        "  GROUP BY customer_id\n",
        ")\n",
        "SELECT c.customer_id, c.first_name, c.last_name, cr.total_spent\n",
        "FROM customer AS c\n",
        "JOIN cust_rev AS cr ON c.customer_id = cr.customer_id\n",
        "ORDER BY cr.total_spent DESC;\n",
        "```"
      ]
    },
    {
      "cell_type": "markdown",
      "id": "fd62fb66",
      "metadata": {
        "id": "fd62fb66"
      },
      "source": [
        "### CTE – Q8 (Window)\n",
        "**Question:** Rank films based on their rental duration from the film table."
      ]
    },
    {
      "cell_type": "markdown",
      "id": "e8d7fe13",
      "metadata": {
        "id": "e8d7fe13"
      },
      "source": [
        "**Answer:**\n",
        "\n",
        "```sql\n",
        "WITH durations AS (\n",
        "  SELECT film_id, title, rental_duration\n",
        "  FROM film\n",
        ")\n",
        "SELECT\n",
        "  title,\n",
        "  rental_duration,\n",
        "  RANK() OVER (ORDER BY rental_duration DESC) AS duration_rank\n",
        "FROM durations\n",
        "ORDER BY duration_rank;\n",
        "```"
      ]
    },
    {
      "cell_type": "markdown",
      "id": "96d6b6f3",
      "metadata": {
        "id": "96d6b6f3"
      },
      "source": [
        "### CTE – Q9 (Filtering)\n",
        "**Question:** Customers who made more than two rentals; join to get details."
      ]
    },
    {
      "cell_type": "markdown",
      "id": "f8cd0927",
      "metadata": {
        "id": "f8cd0927"
      },
      "source": [
        "**Answer:**\n",
        "\n",
        "```sql\n",
        "WITH rental_counts AS (\n",
        "  SELECT customer_id, COUNT(*) AS rentals\n",
        "  FROM rental\n",
        "  GROUP BY customer_id\n",
        "  HAVING COUNT(*) > 2\n",
        ")\n",
        "SELECT c.customer_id, c.first_name, c.last_name, rc.rentals\n",
        "FROM customer AS c\n",
        "JOIN rental_counts AS rc ON c.customer_id = rc.customer_id\n",
        "ORDER BY rc.rentals DESC;\n",
        "```"
      ]
    },
    {
      "cell_type": "markdown",
      "id": "8e8819fe",
      "metadata": {
        "id": "8e8819fe"
      },
      "source": [
        "### CTE – Q10 (Date Calculations)\n",
        "**Question:** Total number of rentals each month (by rental_date)."
      ]
    },
    {
      "cell_type": "markdown",
      "id": "c61c989e",
      "metadata": {
        "id": "c61c989e"
      },
      "source": [
        "**Answer:**\n",
        "\n",
        "```sql\n",
        "WITH monthly AS (\n",
        "  SELECT DATE_FORMAT(rental_date, '%Y-%m-01') AS month_start, COUNT(*) AS rentals\n",
        "  FROM rental\n",
        "  GROUP BY month_start\n",
        ")\n",
        "SELECT * FROM monthly ORDER BY month_start;\n",
        "```"
      ]
    },
    {
      "cell_type": "markdown",
      "id": "3874415b",
      "metadata": {
        "id": "3874415b"
      },
      "source": [
        "### CTE – Q11 (Self-Join)\n",
        "**Question:** Pairs of actors who have appeared in the same film together."
      ]
    },
    {
      "cell_type": "markdown",
      "id": "9b98506e",
      "metadata": {
        "id": "9b98506e"
      },
      "source": [
        "**Answer:**\n",
        "\n",
        "```sql\n",
        "WITH pairs AS (\n",
        "  SELECT fa1.actor_id AS actor_a, fa2.actor_id AS actor_b, fa1.film_id\n",
        "  FROM film_actor AS fa1\n",
        "  JOIN film_actor AS fa2\n",
        "    ON fa1.film_id = fa2.film_id\n",
        "   AND fa1.actor_id < fa2.actor_id\n",
        ")\n",
        "SELECT a.first_name AS actor_a_first, a.last_name AS actor_a_last,\n",
        "       b.first_name AS actor_b_first, b.last_name AS actor_b_last,\n",
        "       f.title\n",
        "FROM pairs AS p\n",
        "JOIN actor AS a ON p.actor_a = a.actor_id\n",
        "JOIN actor AS b ON p.actor_b = b.actor_id\n",
        "JOIN film  AS f ON p.film_id = f.film_id\n",
        "ORDER BY f.title, actor_a_last, actor_b_last;\n",
        "```"
      ]
    },
    {
      "cell_type": "markdown",
      "id": "eb37c6c7",
      "metadata": {
        "id": "eb37c6c7"
      },
      "source": [
        "### CTE – Q12 (Recursive)\n",
        "**Question:** Recursive CTE: all employees in `staff` who report to a specific manager (uses `reports_to`)."
      ]
    },
    {
      "cell_type": "markdown",
      "id": "730daf9c",
      "metadata": {
        "id": "730daf9c"
      },
      "source": [
        "**Answer:**\n",
        "\n",
        "```sql\n",
        "WITH RECURSIVE hierarchy AS (\n",
        "  -- Start with a chosen manager (e.g., id = :manager_id)\n",
        "  SELECT s.staff_id, s.first_name, s.last_name, s.reports_to, 0 AS level\n",
        "  FROM staff AS s\n",
        "  WHERE s.staff_id = :manager_id\n",
        "\n",
        "  UNION ALL\n",
        "\n",
        "  SELECT c.staff_id, c.first_name, c.last_name, c.reports_to, h.level + 1\n",
        "  FROM staff AS c\n",
        "  JOIN hierarchy AS h ON c.reports_to = h.staff_id\n",
        ")\n",
        "SELECT * FROM hierarchy ORDER BY level, last_name, first_name;\n",
        "```"
      ]
    },
    {
      "cell_type": "markdown",
      "id": "3703d2c9",
      "metadata": {
        "id": "3703d2c9"
      },
      "source": [
        "----\n",
        "**Dataset:** Mavenmovies.sql (as provided)\n",
        "\n",
        "If needed: import the SQL dump into MySQL and connect to run queries."
      ]
    }
  ],
  "metadata": {
    "colab": {
      "provenance": []
    }
  },
  "nbformat": 4,
  "nbformat_minor": 5
}