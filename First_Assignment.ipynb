{
  "nbformat": 4,
  "nbformat_minor": 0,
  "metadata": {
    "colab": {
      "provenance": []
    },
    "kernelspec": {
      "name": "python3",
      "display_name": "Python 3"
    },
    "language_info": {
      "name": "python"
    }
  },
  "cells": [
    {
      "cell_type": "code",
      "execution_count": null,
      "metadata": {
        "id": "Cs-huR3Kbc8a"
      },
      "outputs": [],
      "source": [
        "#1 Explain the key featuees of Python that make it a popular choice for programming?\n",
        "\n",
        "#-> The key features of Python programming include easy-to-read, easy-to-code, interpreted language,\n",
        "#   extensible, cross-platform compatibility, GUI support, and object-oriented."
      ]
    },
    {
      "cell_type": "code",
      "source": [
        "#2 Describe the role of predefined keywords in Python and provide examples of how they a$e used in a program?\n",
        "\n",
        "#-> Python Keywords are some predefined and reserved words in Python that have special meanings.\n",
        "#   Keywords are used to define the syntax of the coding. The keyword cannot be used as an identifier, function, or variable name.\n",
        "#   All the keywords in Python are written in lowercase except True and False.\n",
        "\n",
        "# Example:-\n",
        "  print(False == 0)\n",
        "  print(True == 1)\n",
        "\n",
        "  print(True + True + True)\n",
        "  print(True + False + False)\n",
        "\n",
        "  print(None == 0)\n",
        "  print(None == [])\n"
      ],
      "metadata": {
        "id": "qY-II4lqcObZ"
      },
      "execution_count": null,
      "outputs": []
    },
    {
      "cell_type": "markdown",
      "source": [],
      "metadata": {
        "id": "rP8DulcseyOT"
      }
    },
    {
      "cell_type": "code",
      "source": [
        "#3 Compare and contrast mutable and immutable objects in Python with examples?\n",
        "\n",
        "#-> Mutable objects can be changed after they are created, while immutable objects cannot.\n",
        "#-> Examples of mutable objects include lists, dictionaries, and sets, while examples of immutable objects include strings, tuples, and numbers."
      ],
      "metadata": {
        "id": "Iv8aaHDOeXK5"
      },
      "execution_count": null,
      "outputs": []
    },
    {
      "cell_type": "code",
      "source": [
        "#4 Discuss the different types of operators in Python and provide examples of how they are used?\n",
        "\n",
        "#-> Python operators include:\n",
        "\n",
        "#1. Arithmetic (+, -, *, /, //, %, **): Perform basic math operations. E.g., a + b.\n",
        "#2. Comparison (==, !=, >, <, >=, <=): Compare values. E.g., a == b.\n",
        "#3. Logical (and, or, not): Combine boolean expressions. E.g., a > 0 and b < 5.\n",
        "#4. Assignment (=, +=, -=, *=, /=): Assign and update values. E.g., a += 3.\n",
        "#5. Bitwise (&, |, ^, ~, <<, >>): Perform bit-level operations. E.g., a & b."
      ],
      "metadata": {
        "id": "UlX9zB37eC1c"
      },
      "execution_count": null,
      "outputs": []
    },
    {
      "cell_type": "code",
      "source": [
        "#5  Explain the concept of type casting in Python with examples?\n",
        "\n",
        "#-> Type casting in Python converts one data type to another. Use int(), float(), and str() for conversion. For example:\n",
        "    x = \"5\"\n",
        "    y = int(x)   # Converts string \"5\" to integer 5"
      ],
      "metadata": {
        "id": "EReU9Ap3hAr_"
      },
      "execution_count": null,
      "outputs": []
    },
    {
      "cell_type": "code",
      "source": [
        "#6 How do conditional statements work in Python? Illustrate with examples?\n",
        "\n",
        "#->In Python, conditional statements are used to decide if a block of code should be executed based on whether a condition is true or false.\n",
        "# for example:\n",
        "x = 10\n",
        "if x > 5:\n",
        "    print(\"x is greater than 5\")\n",
        "elif x == 5:\n",
        "    print(\"x is 5\")\n",
        "else:\n",
        "    print(\"x is less than 5\")"
      ],
      "metadata": {
        "id": "D5idUt_ch1a5"
      },
      "execution_count": null,
      "outputs": []
    },
    {
      "cell_type": "code",
      "source": [
        "#7 Describe the different types of loops in Python and their use cases with examples.\n",
        "#->Python supports several types of loops for iteration:\n",
        "\n",
        "# 1. For Loop: Used for iterating over a sequence (e.g., lists, tuples, strings).\n",
        "# Example:\n",
        "fruits = ['apple', 'banana', 'cherry']\n",
        "for fruit in fruits:\n",
        "    print(fruit)\n",
        "\n",
        "#2. While Loop: Executes as long as a condition is true.\n",
        "# Exapmle:\n",
        "i = 1\n",
        "while i <= 3:\n",
        "    print(i)\n",
        "    i += 1\n",
        "\n",
        "#3. Nested Loops: Loops within loops for more complex iterations.\n",
        "# Example:\n",
        "for i in range(3):\n",
        "    for j in range(2):\n",
        "        print(f\"i={i}, j={j}\")\n",
        "\n",
        "#4. Loop Control Statements:\n",
        "# break: Exits the loop.\n",
        "# continue: Skips to the next iteration.\n",
        "#Example:\n",
        "for i in range(5):\n",
        "    if i == 3:\n",
        "        break\n",
        "    print(i)  # Prints 0, 1, 2"
      ],
      "metadata": {
        "id": "effWwXM5iXYy"
      },
      "execution_count": null,
      "outputs": []
    }
  ]
}