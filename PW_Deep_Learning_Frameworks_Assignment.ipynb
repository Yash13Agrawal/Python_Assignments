{
  "nbformat": 4,
  "nbformat_minor": 0,
  "metadata": {
    "colab": {
      "provenance": [],
      "authorship_tag": "ABX9TyPYjVE/Uw0ZDCMC41M/PPs0",
      "include_colab_link": true
    },
    "kernelspec": {
      "name": "python3",
      "display_name": "Python 3"
    },
    "language_info": {
      "name": "python"
    }
  },
  "cells": [
    {
      "cell_type": "markdown",
      "metadata": {
        "id": "view-in-github",
        "colab_type": "text"
      },
      "source": [
        "<a href=\"https://colab.research.google.com/github/Yash13Agrawal/Python_Assignments/blob/main/PW_Deep_Learning_Frameworks_Assignment.ipynb\" target=\"_parent\"><img src=\"https://colab.research.google.com/assets/colab-badge.svg\" alt=\"Open In Colab\"/></a>"
      ]
    },
    {
      "cell_type": "markdown",
      "source": [],
      "metadata": {
        "id": "zmxekEZD1GoN"
      }
    },
    {
      "cell_type": "markdown",
      "metadata": {
        "id": "49099ee3"
      },
      "source": [
        "TensorFlow 2.0 is a significant update to the TensorFlow library, bringing several improvements and changes compared to TensorFlow 1.x. Here's a breakdown of the key differences:"
      ]
    },
    {
      "cell_type": "markdown",
      "metadata": {
        "id": "40ab0d96"
      },
      "source": [
        "### Eager Execution by Default\n",
        "One of the most notable changes is that TensorFlow 2.0 has eager execution enabled by default. In TensorFlow 1.x, you had to explicitly enable eager execution.\n",
        "\n",
        "**TensorFlow 1.x (Graph Execution by Default):**"
      ]
    },
    {
      "cell_type": "code",
      "metadata": {
        "colab": {
          "base_uri": "https://localhost:8080/"
        },
        "id": "4e8c69ec",
        "outputId": "96e5f5a6-fc9f-4322-f6e5-6434e76e6b6e"
      },
      "source": [
        "# In TensorFlow 1.x, you would typically build a graph first\n",
        "import tensorflow as tf\n",
        "\n",
        "a = tf.constant(2)\n",
        "b = tf.constant(3)\n",
        "c = a + b\n",
        "\n",
        "# In TensorFlow 2.0, eager execution is the default, so the operation is executed immediately\n",
        "print(c.numpy())"
      ],
      "execution_count": 7,
      "outputs": [
        {
          "output_type": "stream",
          "name": "stdout",
          "text": [
            "5\n"
          ]
        }
      ]
    },
    {
      "cell_type": "markdown",
      "metadata": {
        "id": "3b79e2bd"
      },
      "source": [
        "**TensorFlow 2.0 (Eager Execution by Default):**"
      ]
    },
    {
      "cell_type": "code",
      "metadata": {
        "colab": {
          "base_uri": "https://localhost:8080/"
        },
        "id": "aa8a0269",
        "outputId": "134994e1-6dfb-4d57-8982-ae43ef0bd3b3"
      },
      "source": [
        "# In TensorFlow 2.0, operations are executed immediately\n",
        "import tensorflow as tf\n",
        "\n",
        "a = tf.constant(2)\n",
        "b = tf.constant(3)\n",
        "c = a + b\n",
        "print(c.numpy())"
      ],
      "execution_count": 2,
      "outputs": [
        {
          "output_type": "stream",
          "name": "stdout",
          "text": [
            "5\n"
          ]
        }
      ]
    },
    {
      "cell_type": "markdown",
      "metadata": {
        "id": "85ceb226"
      },
      "source": [
        "Eager execution makes debugging and development more intuitive as you can inspect the values of tensors directly, similar to standard Python programming."
      ]
    },
    {
      "cell_type": "markdown",
      "metadata": {
        "id": "c58e7af6"
      },
      "source": [
        "### Keras Integration\n",
        "TensorFlow 2.0 deeply integrates the Keras API as the primary high-level API for building and training models. This provides a simpler and more consistent way to define neural networks.\n",
        "\n",
        "**TensorFlow 1.x (Multiple High-Level APIs):**"
      ]
    },
    {
      "cell_type": "code",
      "metadata": {
        "colab": {
          "base_uri": "https://localhost:8080/"
        },
        "id": "9c0628ac",
        "outputId": "04ed9f97-34e1-4704-e6d6-d0d8096caec1"
      },
      "source": [
        "# In TensorFlow 1.x, you might use various APIs like `tf.layers`, `tf.estimator`, etc.\n",
        "# Building a simple model could involve more boilerplate code.\n",
        "import tensorflow as tf\n",
        "\n",
        "# In TensorFlow 2.0, Keras is the recommended way to build models\n",
        "from tensorflow import keras\n",
        "\n",
        "model = keras.Sequential([\n",
        "    keras.layers.Flatten(input_shape=(784,)),\n",
        "    keras.layers.Dense(128, activation='relu'),\n",
        "    keras.layers.Dense(10, activation='softmax')\n",
        "])\n",
        "\n",
        "model.compile(optimizer='adam',\n",
        "              loss='sparse_categorical_crossentropy',\n",
        "              metrics=['accuracy'])"
      ],
      "execution_count": 8,
      "outputs": [
        {
          "output_type": "stream",
          "name": "stderr",
          "text": [
            "/usr/local/lib/python3.12/dist-packages/keras/src/layers/reshaping/flatten.py:37: UserWarning: Do not pass an `input_shape`/`input_dim` argument to a layer. When using Sequential models, prefer using an `Input(shape)` object as the first layer in the model instead.\n",
            "  super().__init__(**kwargs)\n"
          ]
        }
      ]
    },
    {
      "cell_type": "markdown",
      "metadata": {
        "id": "352b2cd2"
      },
      "source": [
        "**TensorFlow 2.0 (Keras as Primary API):**"
      ]
    },
    {
      "cell_type": "code",
      "metadata": {
        "colab": {
          "base_uri": "https://localhost:8080/"
        },
        "id": "64bdd1f3",
        "outputId": "7b9ad44d-99ef-4ab5-892e-e493140a3794"
      },
      "source": [
        "# In TensorFlow 2.0, Keras is the recommended way to build models\n",
        "import tensorflow as tf\n",
        "from tensorflow import keras\n",
        "\n",
        "model = keras.Sequential([\n",
        "    keras.layers.Flatten(input_shape=(784,)),\n",
        "    keras.layers.Dense(128, activation='relu'),\n",
        "    keras.layers.Dense(10, activation='softmax')\n",
        "])\n",
        "\n",
        "model.compile(optimizer='adam',\n",
        "              loss='sparse_categorical_crossentropy',\n",
        "              metrics=['accuracy'])"
      ],
      "execution_count": 4,
      "outputs": [
        {
          "output_type": "stream",
          "name": "stderr",
          "text": [
            "/usr/local/lib/python3.12/dist-packages/keras/src/layers/reshaping/flatten.py:37: UserWarning: Do not pass an `input_shape`/`input_dim` argument to a layer. When using Sequential models, prefer using an `Input(shape)` object as the first layer in the model instead.\n",
            "  super().__init__(**kwargs)\n"
          ]
        }
      ]
    },
    {
      "cell_type": "markdown",
      "metadata": {
        "id": "bccd12ed"
      },
      "source": [
        "### AutoGraph for Graph Creation\n",
        "While eager execution is the default, TensorFlow 2.0 still leverages graphs for performance and deployment. It uses AutoGraph to automatically convert Python code into graph operations. This allows you to write code in Python and have TensorFlow build efficient graphs behind the scenes.\n",
        "\n",
        "**TensorFlow 1.x (Manual Graph Construction):**"
      ]
    },
    {
      "cell_type": "code",
      "metadata": {
        "colab": {
          "base_uri": "https://localhost:8080/"
        },
        "id": "b5b456d7",
        "outputId": "59bbabcf-b7b5-4081-9265-c1b64c6e85b0"
      },
      "source": [
        "# In TensorFlow 1.x, you would often manually build the graph using tf.Graph and tf.Session\n",
        "import tensorflow as tf\n",
        "\n",
        "# In TensorFlow 2.0, you can use @tf.function to automatically convert Python functions to graphs\n",
        "@tf.function\n",
        "def add_numbers(a, b):\n",
        "    return a + b\n",
        "\n",
        "result = add_numbers(tf.constant(2), tf.constant(3))\n",
        "print(result.numpy())"
      ],
      "execution_count": 9,
      "outputs": [
        {
          "output_type": "stream",
          "name": "stdout",
          "text": [
            "5\n"
          ]
        }
      ]
    },
    {
      "cell_type": "markdown",
      "metadata": {
        "id": "b141241f"
      },
      "source": [
        "**TensorFlow 2.0 (AutoGraph):**"
      ]
    },
    {
      "cell_type": "code",
      "metadata": {
        "colab": {
          "base_uri": "https://localhost:8080/"
        },
        "id": "9ecb0866",
        "outputId": "67efe874-3237-4c28-c5f2-1c1e5ce2cdb3"
      },
      "source": [
        "# In TensorFlow 2.0, you can write functions that will be automatically converted to graphs\n",
        "import tensorflow as tf\n",
        "\n",
        "@tf.function\n",
        "def add_numbers(a, b):\n",
        "    return a + b\n",
        "\n",
        "result = add_numbers(tf.constant(2), tf.constant(3))\n",
        "print(result.numpy())"
      ],
      "execution_count": 6,
      "outputs": [
        {
          "output_type": "stream",
          "name": "stdout",
          "text": [
            "5\n"
          ]
        }
      ]
    },
    {
      "cell_type": "markdown",
      "metadata": {
        "id": "3e2824e3"
      },
      "source": [
        "The `@tf.function` decorator tells TensorFlow to compile the function into a callable graph."
      ]
    },
    {
      "cell_type": "markdown",
      "metadata": {
        "id": "1328a005"
      },
      "source": [
        "### Other Key Changes:\n",
        "\n",
        "*   **Variable Management:** Variable creation and management are simplified in TensorFlow 2.0.\n",
        "*   **API Cleanup:** Many deprecated or redundant APIs from TensorFlow 1.x have been removed or consolidated in TensorFlow 2.0.\n",
        "*   **Distribution Strategy:** TensorFlow 2.0 provides easier-to-use APIs for distributed training.\n",
        "*   **SavedModel:** The SavedModel format is the standard for saving and loading models in TensorFlow 2.0.\n",
        "\n",
        "In summary, TensorFlow 2.0 focuses on usability, simplicity, and consistency with eager execution by default, deep Keras integration, and AutoGraph for efficient graph creation. These changes aim to make TensorFlow easier to learn, use, and debug."
      ]
    },
    {
      "cell_type": "markdown",
      "source": [
        "# 1. What is TensorFlow 2.0, and how is it different from TensorFlow 1.x?\n",
        "\n",
        "**Answer:** TensorFlow 2.0 is a major update that simplifies TensorFlow with eager execution by default, deep Keras integration as the primary high-level API, and AutoGraph for converting Python code to graphs. It also includes API cleanup, simplified variable management, improved distributed training support, and uses SavedModel as the standard format. These changes make TensorFlow 2.0 more user-friendly, intuitive, and efficient."
      ],
      "metadata": {
        "id": "8xoxqxSS1vOp"
      }
    },
    {
      "cell_type": "markdown",
      "source": [
        "# 2. How do you install TensorFlow 2.0?\n",
        "\n",
        "**Answer:**\n",
        "\n",
        "```\n",
        "pip install tensorflow\n",
        "```\n",
        "\n"
      ],
      "metadata": {
        "id": "0VIXi7rZ2DrX"
      }
    },
    {
      "cell_type": "code",
      "metadata": {
        "colab": {
          "base_uri": "https://localhost:8080/"
        },
        "id": "9db97d4f",
        "outputId": "3d691163-8027-4778-c59f-f7b842b8d52b"
      },
      "source": [
        "pip install tensorflow"
      ],
      "execution_count": 13,
      "outputs": [
        {
          "output_type": "stream",
          "name": "stdout",
          "text": [
            "Requirement already satisfied: tensorflow in /usr/local/lib/python3.12/dist-packages (2.19.0)\n",
            "Requirement already satisfied: absl-py>=1.0.0 in /usr/local/lib/python3.12/dist-packages (from tensorflow) (1.4.0)\n",
            "Requirement already satisfied: astunparse>=1.6.0 in /usr/local/lib/python3.12/dist-packages (from tensorflow) (1.6.3)\n",
            "Requirement already satisfied: flatbuffers>=24.3.25 in /usr/local/lib/python3.12/dist-packages (from tensorflow) (25.2.10)\n",
            "Requirement already satisfied: gast!=0.5.0,!=0.5.1,!=0.5.2,>=0.2.1 in /usr/local/lib/python3.12/dist-packages (from tensorflow) (0.6.0)\n",
            "Requirement already satisfied: google-pasta>=0.1.1 in /usr/local/lib/python3.12/dist-packages (from tensorflow) (0.2.0)\n",
            "Requirement already satisfied: libclang>=13.0.0 in /usr/local/lib/python3.12/dist-packages (from tensorflow) (18.1.1)\n",
            "Requirement already satisfied: opt-einsum>=2.3.2 in /usr/local/lib/python3.12/dist-packages (from tensorflow) (3.4.0)\n",
            "Requirement already satisfied: packaging in /usr/local/lib/python3.12/dist-packages (from tensorflow) (25.0)\n",
            "Requirement already satisfied: protobuf!=4.21.0,!=4.21.1,!=4.21.2,!=4.21.3,!=4.21.4,!=4.21.5,<6.0.0dev,>=3.20.3 in /usr/local/lib/python3.12/dist-packages (from tensorflow) (5.29.5)\n",
            "Requirement already satisfied: requests<3,>=2.21.0 in /usr/local/lib/python3.12/dist-packages (from tensorflow) (2.32.4)\n",
            "Requirement already satisfied: setuptools in /usr/local/lib/python3.12/dist-packages (from tensorflow) (75.2.0)\n",
            "Requirement already satisfied: six>=1.12.0 in /usr/local/lib/python3.12/dist-packages (from tensorflow) (1.17.0)\n",
            "Requirement already satisfied: termcolor>=1.1.0 in /usr/local/lib/python3.12/dist-packages (from tensorflow) (3.1.0)\n",
            "Requirement already satisfied: typing-extensions>=3.6.6 in /usr/local/lib/python3.12/dist-packages (from tensorflow) (4.15.0)\n",
            "Requirement already satisfied: wrapt>=1.11.0 in /usr/local/lib/python3.12/dist-packages (from tensorflow) (1.17.3)\n",
            "Requirement already satisfied: grpcio<2.0,>=1.24.3 in /usr/local/lib/python3.12/dist-packages (from tensorflow) (1.74.0)\n",
            "Requirement already satisfied: tensorboard~=2.19.0 in /usr/local/lib/python3.12/dist-packages (from tensorflow) (2.19.0)\n",
            "Requirement already satisfied: keras>=3.5.0 in /usr/local/lib/python3.12/dist-packages (from tensorflow) (3.10.0)\n",
            "Requirement already satisfied: numpy<2.2.0,>=1.26.0 in /usr/local/lib/python3.12/dist-packages (from tensorflow) (2.0.2)\n",
            "Requirement already satisfied: h5py>=3.11.0 in /usr/local/lib/python3.12/dist-packages (from tensorflow) (3.14.0)\n",
            "Requirement already satisfied: ml-dtypes<1.0.0,>=0.5.1 in /usr/local/lib/python3.12/dist-packages (from tensorflow) (0.5.3)\n",
            "Requirement already satisfied: wheel<1.0,>=0.23.0 in /usr/local/lib/python3.12/dist-packages (from astunparse>=1.6.0->tensorflow) (0.45.1)\n",
            "Requirement already satisfied: rich in /usr/local/lib/python3.12/dist-packages (from keras>=3.5.0->tensorflow) (13.9.4)\n",
            "Requirement already satisfied: namex in /usr/local/lib/python3.12/dist-packages (from keras>=3.5.0->tensorflow) (0.1.0)\n",
            "Requirement already satisfied: optree in /usr/local/lib/python3.12/dist-packages (from keras>=3.5.0->tensorflow) (0.17.0)\n",
            "Requirement already satisfied: charset_normalizer<4,>=2 in /usr/local/lib/python3.12/dist-packages (from requests<3,>=2.21.0->tensorflow) (3.4.3)\n",
            "Requirement already satisfied: idna<4,>=2.5 in /usr/local/lib/python3.12/dist-packages (from requests<3,>=2.21.0->tensorflow) (3.10)\n",
            "Requirement already satisfied: urllib3<3,>=1.21.1 in /usr/local/lib/python3.12/dist-packages (from requests<3,>=2.21.0->tensorflow) (2.5.0)\n",
            "Requirement already satisfied: certifi>=2017.4.17 in /usr/local/lib/python3.12/dist-packages (from requests<3,>=2.21.0->tensorflow) (2025.8.3)\n",
            "Requirement already satisfied: markdown>=2.6.8 in /usr/local/lib/python3.12/dist-packages (from tensorboard~=2.19.0->tensorflow) (3.8.2)\n",
            "Requirement already satisfied: tensorboard-data-server<0.8.0,>=0.7.0 in /usr/local/lib/python3.12/dist-packages (from tensorboard~=2.19.0->tensorflow) (0.7.2)\n",
            "Requirement already satisfied: werkzeug>=1.0.1 in /usr/local/lib/python3.12/dist-packages (from tensorboard~=2.19.0->tensorflow) (3.1.3)\n",
            "Requirement already satisfied: MarkupSafe>=2.1.1 in /usr/local/lib/python3.12/dist-packages (from werkzeug>=1.0.1->tensorboard~=2.19.0->tensorflow) (3.0.2)\n",
            "Requirement already satisfied: markdown-it-py>=2.2.0 in /usr/local/lib/python3.12/dist-packages (from rich->keras>=3.5.0->tensorflow) (4.0.0)\n",
            "Requirement already satisfied: pygments<3.0.0,>=2.13.0 in /usr/local/lib/python3.12/dist-packages (from rich->keras>=3.5.0->tensorflow) (2.19.2)\n",
            "Requirement already satisfied: mdurl~=0.1 in /usr/local/lib/python3.12/dist-packages (from markdown-it-py>=2.2.0->rich->keras>=3.5.0->tensorflow) (0.1.2)\n"
          ]
        }
      ]
    },
    {
      "cell_type": "markdown",
      "metadata": {
        "id": "c71138b2"
      },
      "source": [
        "# 3. What is the primary function of the `tf.function` in TensorFlow 2.0?\n",
        "\n",
        "**Answer:** The primary function of `@tf.function` in TensorFlow 2.0 is to automatically convert Python code into a callable TensorFlow graph. While TensorFlow 2.0 uses eager execution by default, graphs are still important for performance and deployment. The `@tf.function` decorator allows you to write your code in standard Python and have TensorFlow optimize it by building a graph behind the scenes. This provides the flexibility of writing code in Python with the performance benefits of TensorFlow's graph execution."
      ]
    },
    {
      "cell_type": "markdown",
      "metadata": {
        "id": "af0558a1"
      },
      "source": [
        "# 4. What is the purpose of the `Model` class in TensorFlow 2.0?\n",
        "\n",
        "**Answer:** In TensorFlow 2.0, the `tf.keras.Model` class is used to group layers into an object with training and inference features. A `Model` can be composed of other `Model` instances, allowing for the creation of complex, nested models. The primary purposes of the `Model` class include:\n",
        "\n",
        "*   **Organizing Layers:** It provides a structure to hold and manage the layers of a neural network.\n",
        "*   **Providing Training and Evaluation Methods:** It comes with built-in methods for training (`fit`), evaluating (`evaluate`), and making predictions (`predict`).\n",
        "*   **Handling Model Saving and Loading:** It facilitates saving and loading the entire model, including its architecture, weights, and optimizer state.\n",
        "*   **Enabling Functional API and Subclassing:** It serves as the base class for both the Functional API and Model Subclassing, two ways to define model architectures in Keras."
      ]
    },
    {
      "cell_type": "markdown",
      "source": [],
      "metadata": {
        "id": "i1KgNNzP2xF_"
      }
    },
    {
      "cell_type": "markdown",
      "metadata": {
        "id": "5d210b73"
      },
      "source": [
        "# 5. How do you create a neural network using TensorFlow 2.0?\n",
        "\n",
        "**Answer:** In TensorFlow 2.0, the recommended way to create a neural network is by using the Keras API. You can use either the `Sequential` model (for a simple stack of layers) or the Functional API (for more complex architectures).\n",
        "\n",
        "Here's an example of creating a simple neural network using the `Sequential` model:"
      ]
    },
    {
      "cell_type": "code",
      "metadata": {
        "colab": {
          "base_uri": "https://localhost:8080/",
          "height": 257
        },
        "id": "dd07b419",
        "outputId": "004e0661-dea0-413d-df5d-8957eda6b915"
      },
      "source": [
        "import tensorflow as tf\n",
        "from tensorflow import keras\n",
        "from keras.layers import Input\n",
        "\n",
        "# Define a simple Sequential model\n",
        "model = keras.Sequential([\n",
        "    Input(shape=(28, 28)), # Specify input shape using Input layer\n",
        "    keras.layers.Flatten(), # Flatten the input image\n",
        "    keras.layers.Dense(128, activation='relu'), # Add a dense layer with ReLU activation\n",
        "    keras.layers.Dropout(0.2), # Add a dropout layer for regularization\n",
        "    keras.layers.Dense(10, activation='softmax') # Add the output layer with softmax activation\n",
        "])\n",
        "\n",
        "# Compile the model\n",
        "model.compile(optimizer='adam',\n",
        "              loss='sparse_categorical_crossentropy',\n",
        "              metrics=['accuracy'])\n",
        "\n",
        "# Print a summary of the model\n",
        "model.summary()"
      ],
      "execution_count": 15,
      "outputs": [
        {
          "output_type": "display_data",
          "data": {
            "text/plain": [
              "\u001b[1mModel: \"sequential_3\"\u001b[0m\n"
            ],
            "text/html": [
              "<pre style=\"white-space:pre;overflow-x:auto;line-height:normal;font-family:Menlo,'DejaVu Sans Mono',consolas,'Courier New',monospace\"><span style=\"font-weight: bold\">Model: \"sequential_3\"</span>\n",
              "</pre>\n"
            ]
          },
          "metadata": {}
        },
        {
          "output_type": "display_data",
          "data": {
            "text/plain": [
              "┏━━━━━━━━━━━━━━━━━━━━━━━━━━━━━━━━━┳━━━━━━━━━━━━━━━━━━━━━━━━┳━━━━━━━━━━━━━━━┓\n",
              "┃\u001b[1m \u001b[0m\u001b[1mLayer (type)                   \u001b[0m\u001b[1m \u001b[0m┃\u001b[1m \u001b[0m\u001b[1mOutput Shape          \u001b[0m\u001b[1m \u001b[0m┃\u001b[1m \u001b[0m\u001b[1m      Param #\u001b[0m\u001b[1m \u001b[0m┃\n",
              "┡━━━━━━━━━━━━━━━━━━━━━━━━━━━━━━━━━╇━━━━━━━━━━━━━━━━━━━━━━━━╇━━━━━━━━━━━━━━━┩\n",
              "│ flatten_3 (\u001b[38;5;33mFlatten\u001b[0m)             │ (\u001b[38;5;45mNone\u001b[0m, \u001b[38;5;34m784\u001b[0m)            │             \u001b[38;5;34m0\u001b[0m │\n",
              "├─────────────────────────────────┼────────────────────────┼───────────────┤\n",
              "│ dense_6 (\u001b[38;5;33mDense\u001b[0m)                 │ (\u001b[38;5;45mNone\u001b[0m, \u001b[38;5;34m128\u001b[0m)            │       \u001b[38;5;34m100,480\u001b[0m │\n",
              "├─────────────────────────────────┼────────────────────────┼───────────────┤\n",
              "│ dropout_1 (\u001b[38;5;33mDropout\u001b[0m)             │ (\u001b[38;5;45mNone\u001b[0m, \u001b[38;5;34m128\u001b[0m)            │             \u001b[38;5;34m0\u001b[0m │\n",
              "├─────────────────────────────────┼────────────────────────┼───────────────┤\n",
              "│ dense_7 (\u001b[38;5;33mDense\u001b[0m)                 │ (\u001b[38;5;45mNone\u001b[0m, \u001b[38;5;34m10\u001b[0m)             │         \u001b[38;5;34m1,290\u001b[0m │\n",
              "└─────────────────────────────────┴────────────────────────┴───────────────┘\n"
            ],
            "text/html": [
              "<pre style=\"white-space:pre;overflow-x:auto;line-height:normal;font-family:Menlo,'DejaVu Sans Mono',consolas,'Courier New',monospace\">┏━━━━━━━━━━━━━━━━━━━━━━━━━━━━━━━━━┳━━━━━━━━━━━━━━━━━━━━━━━━┳━━━━━━━━━━━━━━━┓\n",
              "┃<span style=\"font-weight: bold\"> Layer (type)                    </span>┃<span style=\"font-weight: bold\"> Output Shape           </span>┃<span style=\"font-weight: bold\">       Param # </span>┃\n",
              "┡━━━━━━━━━━━━━━━━━━━━━━━━━━━━━━━━━╇━━━━━━━━━━━━━━━━━━━━━━━━╇━━━━━━━━━━━━━━━┩\n",
              "│ flatten_3 (<span style=\"color: #0087ff; text-decoration-color: #0087ff\">Flatten</span>)             │ (<span style=\"color: #00d7ff; text-decoration-color: #00d7ff\">None</span>, <span style=\"color: #00af00; text-decoration-color: #00af00\">784</span>)            │             <span style=\"color: #00af00; text-decoration-color: #00af00\">0</span> │\n",
              "├─────────────────────────────────┼────────────────────────┼───────────────┤\n",
              "│ dense_6 (<span style=\"color: #0087ff; text-decoration-color: #0087ff\">Dense</span>)                 │ (<span style=\"color: #00d7ff; text-decoration-color: #00d7ff\">None</span>, <span style=\"color: #00af00; text-decoration-color: #00af00\">128</span>)            │       <span style=\"color: #00af00; text-decoration-color: #00af00\">100,480</span> │\n",
              "├─────────────────────────────────┼────────────────────────┼───────────────┤\n",
              "│ dropout_1 (<span style=\"color: #0087ff; text-decoration-color: #0087ff\">Dropout</span>)             │ (<span style=\"color: #00d7ff; text-decoration-color: #00d7ff\">None</span>, <span style=\"color: #00af00; text-decoration-color: #00af00\">128</span>)            │             <span style=\"color: #00af00; text-decoration-color: #00af00\">0</span> │\n",
              "├─────────────────────────────────┼────────────────────────┼───────────────┤\n",
              "│ dense_7 (<span style=\"color: #0087ff; text-decoration-color: #0087ff\">Dense</span>)                 │ (<span style=\"color: #00d7ff; text-decoration-color: #00d7ff\">None</span>, <span style=\"color: #00af00; text-decoration-color: #00af00\">10</span>)             │         <span style=\"color: #00af00; text-decoration-color: #00af00\">1,290</span> │\n",
              "└─────────────────────────────────┴────────────────────────┴───────────────┘\n",
              "</pre>\n"
            ]
          },
          "metadata": {}
        },
        {
          "output_type": "display_data",
          "data": {
            "text/plain": [
              "\u001b[1m Total params: \u001b[0m\u001b[38;5;34m101,770\u001b[0m (397.54 KB)\n"
            ],
            "text/html": [
              "<pre style=\"white-space:pre;overflow-x:auto;line-height:normal;font-family:Menlo,'DejaVu Sans Mono',consolas,'Courier New',monospace\"><span style=\"font-weight: bold\"> Total params: </span><span style=\"color: #00af00; text-decoration-color: #00af00\">101,770</span> (397.54 KB)\n",
              "</pre>\n"
            ]
          },
          "metadata": {}
        },
        {
          "output_type": "display_data",
          "data": {
            "text/plain": [
              "\u001b[1m Trainable params: \u001b[0m\u001b[38;5;34m101,770\u001b[0m (397.54 KB)\n"
            ],
            "text/html": [
              "<pre style=\"white-space:pre;overflow-x:auto;line-height:normal;font-family:Menlo,'DejaVu Sans Mono',consolas,'Courier New',monospace\"><span style=\"font-weight: bold\"> Trainable params: </span><span style=\"color: #00af00; text-decoration-color: #00af00\">101,770</span> (397.54 KB)\n",
              "</pre>\n"
            ]
          },
          "metadata": {}
        },
        {
          "output_type": "display_data",
          "data": {
            "text/plain": [
              "\u001b[1m Non-trainable params: \u001b[0m\u001b[38;5;34m0\u001b[0m (0.00 B)\n"
            ],
            "text/html": [
              "<pre style=\"white-space:pre;overflow-x:auto;line-height:normal;font-family:Menlo,'DejaVu Sans Mono',consolas,'Courier New',monospace\"><span style=\"font-weight: bold\"> Non-trainable params: </span><span style=\"color: #00af00; text-decoration-color: #00af00\">0</span> (0.00 B)\n",
              "</pre>\n"
            ]
          },
          "metadata": {}
        }
      ]
    },
    {
      "cell_type": "markdown",
      "source": [
        "# 6. What is the importance of Tensor Space in TensorFlow?\n",
        "\n"
      ],
      "metadata": {
        "id": "pJZyq7Wh3WAK"
      }
    },
    {
      "cell_type": "markdown",
      "metadata": {
        "id": "adab292f"
      },
      "source": [
        "# 6. What is the importance of Tensor Space in TensorFlow?\n",
        "\n",
        "**Answer:** \"Tensor Space\" is not a standard or commonly used term in TensorFlow. However, **Tensors** are fundamental to TensorFlow.\n",
        "\n",
        "Tensors are multi-dimensional arrays that TensorFlow uses to represent all data. They are important because:\n",
        "\n",
        "*   They are the basic unit of data in TensorFlow.\n",
        "*   All operations in TensorFlow work on Tensors.\n",
        "*   TensorFlow optimizes operations on Tensors for efficient execution on different hardware.\n",
        "*   Automatic differentiation is built upon tracking operations on Tensors.\n",
        "\n",
        "If you encountered the term \"Tensor Space\" in a specific context, providing more information might help clarify its meaning."
      ]
    },
    {
      "cell_type": "markdown",
      "metadata": {
        "id": "d077ce81"
      },
      "source": [
        "# 7. How can TensorBoard be integrated with TensorFlow 2.0\n",
        "\n",
        "**Answer:** TensorBoard is TensorFlow's visualization toolkit. It allows you to visualize your model graph, plot metrics like loss and accuracy during training, view histograms of weights and biases, visualize images and embeddings, and much more.\n",
        "\n",
        "Integrating TensorBoard with TensorFlow 2.0 typically involves the following steps:\n",
        "\n",
        "1.  **Specify a Log Directory:** Choose a directory where TensorBoard will save its log files.\n",
        "2.  **Use Keras Callbacks or `tf.summary`:**\n",
        "    *   When using the Keras `Model.fit()` method, you can use the `tf.keras.callbacks.TensorBoard` callback to automatically log training metrics.\n",
        "    *   For more custom logging, you can use the `tf.summary` API within your custom training loops or functions.\n",
        "3.  **Launch TensorBoard:** Use the `tensorboard` command-line tool to point to the log directory and start the TensorBoard web server.\n",
        "\n",
        "Here's an example demonstrating how to use the `TensorBoard` callback with a Keras model:"
      ]
    },
    {
      "cell_type": "code",
      "metadata": {
        "colab": {
          "base_uri": "https://localhost:8080/"
        },
        "id": "3d587ad6",
        "outputId": "0c969aad-4ce2-4c5c-9c5b-d0a02f0b93d1"
      },
      "source": [
        "import tensorflow as tf\n",
        "from tensorflow import keras\n",
        "import datetime\n",
        "import os\n",
        "from keras.layers import Input\n",
        "\n",
        "\n",
        "# Define a simple Sequential model (reusing the one from question 5)\n",
        "model = keras.Sequential([\n",
        "    Input(shape=(28, 28)),\n",
        "    keras.layers.Flatten(),\n",
        "    keras.layers.Dense(128, activation='relu'),\n",
        "    keras.layers.Dropout(0.2),\n",
        "    keras.layers.Dense(10, activation='softmax')\n",
        "])\n",
        "\n",
        "model.compile(optimizer='adam',\n",
        "              loss='sparse_categorical_crossentropy',\n",
        "              metrics=['accuracy'])\n",
        "\n",
        "# Define the log directory\n",
        "log_dir = os.path.join(\"logs\", \"fit\", datetime.datetime.now().strftime(\"%Y%m%d-%H%M%S\"))\n",
        "\n",
        "# Create the TensorBoard callback\n",
        "tensorboard_callback = tf.keras.callbacks.TensorBoard(log_dir=log_dir, histogram_freq=1)\n",
        "\n",
        "# You would typically train the model with some data\n",
        "# For demonstration, let's create some dummy data\n",
        "import numpy as np\n",
        "\n",
        "# Dummy data (replace with your actual training data)\n",
        "(x_train, y_train), (x_test, y_test) = keras.datasets.mnist.load_data()\n",
        "x_train = x_train / 255.0\n",
        "x_test = x_test / 255.0\n",
        "\n",
        "# Train the model with the TensorBoard callback\n",
        "print(\"Training the model...\")\n",
        "history = model.fit(x_train, y_train, epochs=5, validation_data=(x_test, y_test),\n",
        "                    callbacks=[tensorboard_callback])\n",
        "\n",
        "print(f\"TensorBoard logs saved to: {log_dir}\")\n",
        "print(\"To view TensorBoard, run the following command in your terminal:\")\n",
        "print(f\"tensorboard --logdir {os.path.join('logs', 'fit')}\")"
      ],
      "execution_count": 17,
      "outputs": [
        {
          "output_type": "stream",
          "name": "stdout",
          "text": [
            "Training the model...\n",
            "Epoch 1/5\n",
            "\u001b[1m1875/1875\u001b[0m \u001b[32m━━━━━━━━━━━━━━━━━━━━\u001b[0m\u001b[37m\u001b[0m \u001b[1m11s\u001b[0m 5ms/step - accuracy: 0.8574 - loss: 0.4874 - val_accuracy: 0.9568 - val_loss: 0.1438\n",
            "Epoch 2/5\n",
            "\u001b[1m1875/1875\u001b[0m \u001b[32m━━━━━━━━━━━━━━━━━━━━\u001b[0m\u001b[37m\u001b[0m \u001b[1m10s\u001b[0m 5ms/step - accuracy: 0.9544 - loss: 0.1553 - val_accuracy: 0.9680 - val_loss: 0.1023\n",
            "Epoch 3/5\n",
            "\u001b[1m1875/1875\u001b[0m \u001b[32m━━━━━━━━━━━━━━━━━━━━\u001b[0m\u001b[37m\u001b[0m \u001b[1m10s\u001b[0m 5ms/step - accuracy: 0.9661 - loss: 0.1108 - val_accuracy: 0.9745 - val_loss: 0.0854\n",
            "Epoch 4/5\n",
            "\u001b[1m1875/1875\u001b[0m \u001b[32m━━━━━━━━━━━━━━━━━━━━\u001b[0m\u001b[37m\u001b[0m \u001b[1m9s\u001b[0m 5ms/step - accuracy: 0.9723 - loss: 0.0911 - val_accuracy: 0.9756 - val_loss: 0.0796\n",
            "Epoch 5/5\n",
            "\u001b[1m1875/1875\u001b[0m \u001b[32m━━━━━━━━━━━━━━━━━━━━\u001b[0m\u001b[37m\u001b[0m \u001b[1m10s\u001b[0m 5ms/step - accuracy: 0.9756 - loss: 0.0786 - val_accuracy: 0.9773 - val_loss: 0.0773\n",
            "TensorBoard logs saved to: logs/fit/20250903-184046\n",
            "To view TensorBoard, run the following command in your terminal:\n",
            "tensorboard --logdir logs/fit\n"
          ]
        }
      ]
    },
    {
      "cell_type": "markdown",
      "metadata": {
        "id": "18ad3ae6"
      },
      "source": [
        "After running the training cell, you can open a new terminal in your environment and run the `tensorboard` command provided in the output. Then, open the displayed URL in your web browser to access the TensorBoard interface and visualize the training progress.\n",
        "\n",
        "For more advanced use cases, like logging custom scalars, images, or audio, you can use the `tf.summary` API directly."
      ]
    },
    {
      "cell_type": "markdown",
      "metadata": {
        "id": "4b909f2c"
      },
      "source": [
        "# 8. What is the purpose of TensorFlow Playground?\n",
        "\n",
        "**Answer:** TensorFlow Playground is a web-based interactive tool developed by the Google Brain team to help users understand how neural networks work. Its primary purpose is to provide a visual and intuitive way to experiment with different neural network architectures, activation functions, learning rates, and other hyperparameters, and see how these choices affect the model's ability to learn and classify data.\n",
        "\n",
        "Key features and uses of TensorFlow Playground include:\n",
        "\n",
        "*   **Visualization of Learning:** It visually shows the decision boundary learned by the network in real-time as it trains.\n",
        "*   **Experimentation with Hyperparameters:** Users can easily adjust parameters like the number of layers, number of neurons per layer, activation functions (ReLU, Tanh, Sigmoid, Linear), learning rate, regularization, and the ratio of training to testing data.\n",
        "*   **Different Datasets:** It provides several synthetic datasets with varying levels of complexity (e.g., linearly separable, XOR, Gaussian, Spiral) to see how different network configurations handle them.\n",
        "*   **Understanding Network Behavior:** By observing how the network's weights and biases change during training and how the decision boundary evolves, users can gain insights into the learning process and the impact of different architectural choices.\n",
        "*   **Educational Tool:** It's an excellent educational resource for beginners to build an intuition about neural networks without writing any code.\n",
        "\n",
        "In essence, TensorFlow Playground simplifies the exploration of neural network concepts by providing an immediate visual feedback loop for experimentation. You can access it at [https://playground.tensorflow.org/](https://playground.tensorflow.org/)."
      ]
    },
    {
      "cell_type": "markdown",
      "metadata": {
        "id": "e79b79a3"
      },
      "source": [
        "##9.  What is Netron, and how is it useful for deep learning models?\n",
        "\n",
        "**Answer:** Netron is an open-source viewer for neural network, deep learning, and machine learning models. It's a desktop application and web-based tool that allows you to visualize the architecture of trained models.\n",
        "\n",
        "Here's how Netron is useful for deep learning models:\n",
        "\n",
        "*   **Model Visualization:** Netron provides a graphical representation of your neural network. You can see the layers, their connections, and the flow of data through the network. This is incredibly helpful for understanding the structure of complex models.\n",
        "*   **Inspecting Layer Details:** You can click on individual layers to see detailed information about them, such as the layer type (e.g., Convolutional, Dense, ReLU), input and output shapes, kernel sizes, strides, padding, and other parameters.\n",
        "*   **Debugging and Understanding:** Visualizing the model can aid in debugging. You can trace the path of data, identify potential bottlenecks, or understand why a model might be behaving in a certain way. It helps in confirming that the model architecture you intended to build is actually what was saved.\n",
        "*   **Framework Agnostic:** Netron supports a wide range of deep learning frameworks and formats, including TensorFlow Lite, Keras, PyTorch, ONNX, Core ML, Caffe, and many others. This allows you to visualize models regardless of the framework they were built in.\n",
        "*   **Sharing and Communication:** The visual representation of a model can be easily shared with others, making it easier to communicate complex architectures and discuss model designs.\n",
        "\n",
        "In essence, Netron acts as a powerful X-ray tool for your deep learning models, providing transparency and insight into their internal structure, which is crucial for development, debugging, and understanding. You can access it as a web tool or download the desktop application from [https://netron.app/](https://netron.app/)."
      ]
    },
    {
      "cell_type": "code",
      "source": [],
      "metadata": {
        "id": "xFJZ5M4O5B42"
      },
      "execution_count": null,
      "outputs": []
    },
    {
      "cell_type": "markdown",
      "metadata": {
        "id": "89565a16"
      },
      "source": [
        "# 10. What is the difference between TensorFlow and PyTorch?\n",
        "\n",
        "**Answer:** TensorFlow and PyTorch are two of the most popular open-source deep learning frameworks. While both are powerful and widely used, they have some key differences in their design philosophies and features:\n",
        "\n",
        "*   **Execution Style:**\n",
        "    *   **TensorFlow (primarily 1.x):** Used a static graph execution model, where the computation graph was defined first and then executed in a session. This allowed for optimizations but could be less flexible and harder to debug.\n",
        "    *   **PyTorch (and TensorFlow 2.x):** Uses a dynamic graph (or eager execution) model, where operations are executed immediately as they are called. This makes development and debugging more intuitive and Python-like.\n",
        "*   **Ease of Use and API:**\n",
        "    *   **TensorFlow (2.x):** With the integration of Keras as the high-level API and eager execution by default, TensorFlow 2.x has become significantly more user-friendly and Pythonic compared to 1.x.\n",
        "    *   **PyTorch:** Is often praised for its Pythonic nature and ease of use, particularly for researchers and those who prefer a more imperative programming style.\n",
        "*   **Community and Adoption:**\n",
        "    *   **TensorFlow:** Has a larger and more established community, especially in production environments and for deployment on mobile and edge devices (TensorFlow Lite). It's widely adopted in industry.\n",
        "    *   **PyTorch:** Has gained significant popularity in the research community due to its flexibility and ease of use for rapid prototyping. Its adoption in industry is also growing rapidly.\n",
        "*   **Visualization:**\n",
        "    *   **TensorFlow:** Comes with TensorBoard, a powerful and comprehensive visualization toolkit.\n",
        "    *   **PyTorch:** Integrates well with libraries like TensorBoardX (a PyTorch wrapper for TensorBoard) and Visdom for visualization.\n",
        "*   **Deployment:**\n",
        "    *   **TensorFlow:** Has strong support for production deployment through TensorFlow Serving, TensorFlow Lite (for mobile and edge devices), and TensorFlow.js (for web browsers).\n",
        "    *   **PyTorch:** Offers TorchServe for model serving and has growing support for mobile and web deployment.\n",
        "*   **Data Parallelism:**\n",
        "    *   **TensorFlow:** Provides various strategies for distributed training, including `tf.distribute.Strategy`.\n",
        "    *   **PyTorch:** Offers `nn.DataParallel` and `DistributedDataParallel` for distributed training.\n",
        "\n",
        "In summary, the choice between TensorFlow and PyTorch often depends on the specific use case, team expertise, and preference for execution style and API design. TensorFlow 2.x has adopted many of the features that made PyTorch popular, narrowing the gap between the two frameworks, especially in terms of ease of use and eager execution."
      ]
    },
    {
      "cell_type": "markdown",
      "source": [
        "# 11. How do you install PyTorch?\n",
        "\n",
        "\n",
        "\n",
        "```\n",
        "pip install torch torchvision torchaudio\n",
        "```\n",
        "\n"
      ],
      "metadata": {
        "id": "2m2bv7Cu5Y8B"
      }
    },
    {
      "cell_type": "markdown",
      "source": [],
      "metadata": {
        "id": "cVFj7zUT5hU7"
      }
    },
    {
      "cell_type": "markdown",
      "metadata": {
        "id": "e58ded93"
      },
      "source": [
        "# 12. What is the basic structure of a PyTorch neural network?\n",
        "\n",
        "**Answer:** In PyTorch, the basic structure of a neural network is defined using the `torch.nn.Module` class. This class serves as a base for all neural network modules. Your network will inherit from this class, and within it, you define the layers and the forward pass of your network.\n",
        "\n",
        "Here's the basic structure:\n",
        "\n",
        "1.  **Import `torch` and `torch.nn`:** You'll need to import the necessary PyTorch libraries.\n",
        "2.  **Define a class that inherits from `nn.Module`:** This class will represent your neural network.\n",
        "3.  **Initialize the layers in the `__init__` method:** Inside the constructor (`__init__`), you define the different layers of your network (e.g., linear layers, convolutional layers, activation functions) as class attributes.\n",
        "4.  **Define the forward pass in the `forward` method:** This method specifies how the input data flows through the layers you defined in `__init__`. PyTorch automatically handles the backward pass (gradient calculation) based on the operations defined in the `forward` method.\n",
        "\n",
        "Here's a simple example of a basic feedforward neural network in PyTorch:"
      ]
    },
    {
      "cell_type": "code",
      "metadata": {
        "colab": {
          "base_uri": "https://localhost:8080/"
        },
        "id": "24e369fd",
        "outputId": "1d903f33-d172-4aff-fa66-5aef50bdf1d9"
      },
      "source": [
        "import torch\n",
        "import torch.nn as nn\n",
        "import torch.nn.functional as F\n",
        "\n",
        "# Define a simple neural network\n",
        "class SimpleNN(nn.Module):\n",
        "    def __init__(self, input_size, hidden_size, num_classes):\n",
        "        super(SimpleNN, self).__init__()\n",
        "        self.fc1 = nn.Linear(input_size, hidden_size) # First fully connected layer\n",
        "        self.relu = nn.ReLU() # ReLU activation\n",
        "        self.fc2 = nn.Linear(hidden_size, num_classes) # Second fully connected layer\n",
        "\n",
        "    def forward(self, x):\n",
        "        out = self.fc1(x)\n",
        "        out = self.relu(out)\n",
        "        out = self.fc2(out)\n",
        "        return out\n",
        "\n",
        "# Example usage:\n",
        "input_size = 784  # e.g., for a flattened image of 28x28\n",
        "hidden_size = 128\n",
        "num_classes = 10\n",
        "\n",
        "model = SimpleNN(input_size, hidden_size, num_classes)\n",
        "\n",
        "# Print the model architecture\n",
        "print(model)"
      ],
      "execution_count": 18,
      "outputs": [
        {
          "output_type": "stream",
          "name": "stdout",
          "text": [
            "SimpleNN(\n",
            "  (fc1): Linear(in_features=784, out_features=128, bias=True)\n",
            "  (relu): ReLU()\n",
            "  (fc2): Linear(in_features=128, out_features=10, bias=True)\n",
            ")\n"
          ]
        }
      ]
    },
    {
      "cell_type": "markdown",
      "metadata": {
        "id": "b8eaf5f8"
      },
      "source": [
        "In this example:\n",
        "\n",
        "*   `SimpleNN` is the class defining our network, inheriting from `nn.Module`.\n",
        "*   In `__init__`, we define two linear layers (`fc1` and `fc2`) and a ReLU activation function.\n",
        "*   In `forward`, we specify the order of operations: input `x` goes through `fc1`, then `relu`, and finally `fc2` to produce the output.\n",
        "\n",
        "This modular approach makes it easy to build complex networks by combining different `nn.Module` instances."
      ]
    },
    {
      "cell_type": "markdown",
      "metadata": {
        "id": "1e3c606e"
      },
      "source": [
        "# 13. What is the significance of tensors in PyTorch?\n",
        "\n",
        "**Answer:** Tensors are the fundamental building blocks in PyTorch, just as they are in TensorFlow. They are multi-dimensional arrays that are used to store and manipulate data. Their significance in PyTorch stems from several key aspects:\n",
        "\n",
        "*   **Data Representation:** All data in PyTorch, including input data, model parameters (weights and biases), and the outputs of operations, are represented as tensors.\n",
        "*   **GPU Acceleration:** PyTorch tensors can be easily moved to and from GPUs, allowing for significant speedups in computations, which is essential for training large deep learning models.\n",
        "*   **Automatic Differentiation:** PyTorch's autograd system, which automatically computes gradients required for backpropagation during training, works by tracking operations on tensors. This means you don't have to manually compute gradients for your network.\n",
        "*   **Mathematical Operations:** PyTorch provides a rich library of mathematical operations that are optimized to work efficiently on tensors. These operations are similar to those found in NumPy, making it relatively easy to transition from NumPy to PyTorch.\n",
        "*   **Flexibility:** Tensors in PyTorch can be dynamically resized and manipulated, offering flexibility during model development and debugging.\n",
        "\n",
        "In essence, tensors in PyTorch provide the data structure and the computational foundation necessary for building, training, and deploying deep learning models efficiently, especially when leveraging the power of GPUs and automatic differentiation."
      ]
    },
    {
      "cell_type": "markdown",
      "metadata": {
        "id": "4f34a0a1"
      },
      "source": [
        "## **14. What is the difference between torch.Tensor and torch.cuda.Tensor in PyTorch?**\n",
        "\n",
        "**Answer:** The fundamental difference between `torch.Tensor` and `torch.cuda.Tensor` lies in where the tensor's data is stored and where computations involving that tensor will be performed:\n",
        "\n",
        "*   **`torch.Tensor`:** This is the default tensor type in PyTorch. It represents a tensor whose data is stored in the **CPU's** memory. Operations performed on a `torch.Tensor` will be executed on the CPU.\n",
        "*   **`torch.cuda.Tensor`:** This type represents a tensor whose data is stored in the **GPU's** memory. Operations performed on a `torch.cuda.Tensor` will be executed on the GPU. Using `torch.cuda.Tensor` is essential for leveraging the parallel processing power of GPUs to accelerate deep learning model training and inference.\n",
        "\n",
        "You can convert a `torch.Tensor` to a `torch.cuda.Tensor` and vice versa using the `.to()` method or the `.cuda()` and `.cpu()` methods:"
      ]
    },
    {
      "cell_type": "code",
      "metadata": {
        "colab": {
          "base_uri": "https://localhost:8080/"
        },
        "id": "00c7d915",
        "outputId": "07eecc32-bfa4-4290-cd37-cd0005b4cbd3"
      },
      "source": [
        "import torch\n",
        "\n",
        "# Create a CPU tensor\n",
        "cpu_tensor = torch.randn(3, 3)\n",
        "print(\"CPU Tensor type:\", cpu_tensor.type())\n",
        "\n",
        "# Check if a CUDA-enabled GPU is available\n",
        "if torch.cuda.is_available():\n",
        "    # Move the tensor to the GPU\n",
        "    gpu_tensor = cpu_tensor.to(\"cuda\")\n",
        "    # Alternatively: gpu_tensor = cpu_tensor.cuda()\n",
        "    print(\"GPU Tensor type:\", gpu_tensor.type())\n",
        "\n",
        "    # Move the GPU tensor back to the CPU\n",
        "    cpu_tensor_back = gpu_tensor.to(\"cpu\")\n",
        "    # Alternatively: cpu_tensor_back = gpu_tensor.cpu()\n",
        "    print(\"CPU Tensor type after moving back:\", cpu_tensor_back.type())\n",
        "else:\n",
        "    print(\"CUDA is not available. Cannot create torch.cuda.Tensor.\")"
      ],
      "execution_count": 19,
      "outputs": [
        {
          "output_type": "stream",
          "name": "stdout",
          "text": [
            "CPU Tensor type: torch.FloatTensor\n",
            "CUDA is not available. Cannot create torch.cuda.Tensor.\n"
          ]
        }
      ]
    },
    {
      "cell_type": "markdown",
      "metadata": {
        "id": "3c747928"
      },
      "source": [
        "Using `torch.cuda.Tensor` is crucial for performance when working with deep learning models, as GPUs are designed to handle the massive parallel computations involved in training neural networks much more efficiently than CPUs. You need to ensure that both your model and your data are on the same device (CPU or GPU) before performing operations."
      ]
    },
    {
      "cell_type": "markdown",
      "metadata": {
        "id": "647ecdbd"
      },
      "source": [
        "## **15. What is the purpose of the `torch.optim` module in PyTorch?**\n",
        "\n",
        "**Answer:** The `torch.optim` module in PyTorch provides a variety of optimization algorithms that are used to update the weights and biases of a neural network during the training process. The goal of an optimizer is to minimize the loss function by iteratively adjusting the model's parameters in the direction that reduces the loss.\n",
        "\n",
        "Key purposes of the `torch.optim` module:\n",
        "\n",
        "*   **Implementing Optimization Algorithms:** It contains implementations of many common optimization algorithms, such as:\n",
        "    *   `SGD` (Stochastic Gradient Descent)\n",
        "    *   `Adam`\n",
        "    *   `RMSprop`\n",
        "    *   `Adagrad`\n",
        "    *   `Adadelta`\n",
        "*   **Updating Model Parameters:** Optimizers are responsible for updating the `requires_grad=True` parameters of your model based on the gradients computed during the backward pass.\n",
        "*   **Managing Learning Rate and Other Hyperparameters:** Optimizers often have hyperparameters like learning rate, momentum, and weight decay that can be adjusted to control the optimization process.\n",
        "\n",
        "You typically use an optimizer by:\n",
        "\n",
        "1.  Instantiating an optimizer object, passing the model's parameters and optimization hyperparameters (like learning rate).\n",
        "2.  In your training loop, after computing the loss and performing the backward pass (`loss.backward()`), you call `optimizer.step()` to update the parameters and `optimizer.zero_grad()` to clear the gradients for the next iteration.\n",
        "\n",
        "Here's a simplified example of how you might use an optimizer:"
      ]
    },
    {
      "cell_type": "code",
      "metadata": {
        "colab": {
          "base_uri": "https://localhost:8080/"
        },
        "id": "f8425939",
        "outputId": "d743f074-b793-454b-889b-e6565937fcff"
      },
      "source": [
        "import torch\n",
        "import torch.nn as nn\n",
        "import torch.optim as optim\n",
        "\n",
        "# Assume you have a model defined (e.g., the SimpleNN from question 12)\n",
        "# model = SimpleNN(input_size, hidden_size, num_classes)\n",
        "\n",
        "# For demonstration, let's create a dummy parameter\n",
        "dummy_param = torch.randn(10, 1, requires_grad=True)\n",
        "\n",
        "# Define a simple \"loss\" (e.g., the sum of the parameter)\n",
        "loss = torch.sum(dummy_param)\n",
        "\n",
        "# Choose an optimizer (e.g., Adam)\n",
        "optimizer = optim.Adam([dummy_param], lr=0.01)\n",
        "\n",
        "# Perform a backward pass (compute gradients)\n",
        "loss.backward()\n",
        "\n",
        "# Update the parameter using the optimizer\n",
        "optimizer.step()\n",
        "\n",
        "# Gradients are accumulated, so you need to zero them out\n",
        "optimizer.zero_grad()\n",
        "\n",
        "print(\"Dummy parameter after one optimization step:\", dummy_param)"
      ],
      "execution_count": 20,
      "outputs": [
        {
          "output_type": "stream",
          "name": "stdout",
          "text": [
            "Dummy parameter after one optimization step: tensor([[ 0.0676],\n",
            "        [ 0.1595],\n",
            "        [ 0.6158],\n",
            "        [-0.8667],\n",
            "        [-0.9665],\n",
            "        [ 0.1599],\n",
            "        [ 0.5299],\n",
            "        [ 0.5992],\n",
            "        [-0.6034],\n",
            "        [ 0.5250]], requires_grad=True)\n"
          ]
        }
      ]
    },
    {
      "cell_type": "markdown",
      "metadata": {
        "id": "f6d30f3b"
      },
      "source": [
        "## **16. What are some common activation functions used in neural networks?**\n",
        "\n",
        "**Answer:** Activation functions are mathematical functions that introduce non-linearity into a neural network. Without activation functions, a neural network would essentially just be a series of linear transformations, which limits its ability to learn complex patterns in data. Applied to the output of a neuron (or layer), they determine whether and to what extent that neuron should be \"activated\" and pass its signal to the next layer.\n",
        "\n",
        "Here are some common activation functions used in neural networks:\n",
        "\n",
        "*   **ReLU (Rectified Linear Unit):**\n",
        "    *   Formula: \\(f(x) = \\max(0, x)\\)\n",
        "    *   Description: It outputs the input directly if it's positive, otherwise, it outputs zero. It's the most widely used activation function in deep learning due to its simplicity and effectiveness in mitigating the vanishing gradient problem.\n",
        "*   **Sigmoid:**\n",
        "    *   Formula: \\(f(x) = \\frac{1}{1 + e^{-x}}\\)\n",
        "    *   Description: It squashes the input values between 0 and 1. Historically popular, especially in the output layer for binary classification, but less common in hidden layers now due to vanishing gradients and not being zero-centered.\n",
        "*   **Tanh (Hyperbolic Tangent):**\n",
        "    *   Formula: \\(f(x) = \\frac{e^x - e^{-x}}{e^x + e^{-x}}\\)\n",
        "    *   Description: It squashes the input values between -1 and 1. Similar to sigmoid but zero-centered, which can sometimes help in training. Still suffers from vanishing gradients.\n",
        "*   **Leaky ReLU:**\n",
        "    *   Formula: \\(f(x) = \\max(\\alpha x, x)\\), where \\(\\alpha\\) is a small positive constant (e.g., 0.01).\n",
        "    *   Description: An improvement over ReLU that addresses the \"dying ReLU\" problem (where neurons can get stuck outputting zero). It allows a small gradient when the input is negative.\n",
        "*   **ELU (Exponential Linear Unit):**\n",
        "    *   Formula: \\(f(x) = x\\) if \\(x > 0\\), \\(f(x) = \\alpha (e^x - 1)\\) if \\(x \\le 0\\).\n",
        "    *   Description: Similar to ReLU but with a smooth negative part. It tends to converge faster and produce more accurate results than ReLU in some cases.\n",
        "*   **Softmax:**\n",
        "    *   Formula: \\(f(z_i) = \\frac{e^{z_i}}{\\sum_j e^{z_j}}\\)\n",
        "    *   Description: Typically used in the output layer of a neural network for multi-class classification problems. It converts a vector of raw scores into a vector of probabilities, where the sum of probabilities is 1.\n",
        "\n",
        "Choosing the right activation function can significantly impact the performance of your neural network. ReLU is often a good starting point for hidden layers."
      ]
    },
    {
      "cell_type": "markdown",
      "metadata": {
        "id": "ffa5bf5f"
      },
      "source": [
        "## **17. What is the difference between torch.nn.Module and torch.nn.Sequential in PyTorch?**\n",
        "\n",
        "**Answer:** In PyTorch, both `torch.nn.Module` and `torch.nn.Sequential` are classes used to define and organize layers in a neural network, but they have distinct roles and use cases:\n",
        "\n",
        "*   **`torch.nn.Module`:** This is the base class for all neural network modules in PyTorch. When you define a custom neural network, you typically subclass `nn.Module`. This allows you to:\n",
        "    *   Define the layers of your network in the `__init__` method.\n",
        "    *   Define the forward pass (how data flows through the layers) in the `forward` method.\n",
        "    *   Manage parameters and submodules automatically.\n",
        "    *   Implement more complex network architectures with branching, skipping connections, or custom control flow.\n",
        "\n",
        "    Think of `nn.Module` as a blueprint for creating any kind of neural network component, from a single layer to an entire complex model.\n",
        "\n",
        "*   **`torch.nn.Sequential`:** This is a specific type of `nn.Module` that acts as a container for a sequence of layers. It allows you to stack layers in a linear fashion. The input is passed through the layers in the order they are added to the `Sequential` module. It's particularly useful for building simple feedforward networks or parts of networks where the data flows sequentially through a series of transformations.\n",
        "\n",
        "    Think of `nn.Sequential` as a convenient way to quickly build a \"straight-line\" network without having to define a custom class with `__init__` and `forward` methods explicitly.\n",
        "\n",
        "Here's a comparison:\n",
        "\n",
        "| Feature          | `torch.nn.Module`                     | `torch.nn.Sequential`                 |\n",
        "| :--------------- | :------------------------------------ | :------------------------------------ |\n",
        "| **Purpose**      | Base class for all network modules    | Container for sequential layers       |\n",
        "| **Flexibility**  | High (custom architectures, control flow) | Limited (linear stack of layers)      |\n",
        "| **Definition**   | Requires subclassing and `forward` method | Simple list of layers               |\n",
        "| **Use Cases**    | Complex networks, custom layers       | Simple feedforward networks, parts of networks |\n",
        "\n",
        "Here are code examples illustrating both:\n",
        "\n",
        "**Using `torch.nn.Module` (for more complex structures):**"
      ]
    },
    {
      "cell_type": "code",
      "metadata": {
        "colab": {
          "base_uri": "https://localhost:8080/"
        },
        "id": "6fc23e5a",
        "outputId": "48a95edc-364f-48d5-bb2e-9b49c175e209"
      },
      "source": [
        "import torch\n",
        "import torch.nn as nn\n",
        "import torch.nn.functional as F\n",
        "\n",
        "class CustomNN(nn.Module):\n",
        "    def __init__(self, input_size, hidden_size, num_classes):\n",
        "        super(CustomNN, self).__init__()\n",
        "        self.fc1 = nn.Linear(input_size, hidden_size)\n",
        "        self.fc2 = nn.Linear(hidden_size, num_classes)\n",
        "        self.dropout = nn.Dropout(0.2) # Can add dropout here\n",
        "\n",
        "    def forward(self, x):\n",
        "        x = self.fc1(x)\n",
        "        x = F.relu(x) # Using functional API for activation\n",
        "        x = self.dropout(x) # Applying dropout\n",
        "        x = self.fc2(x)\n",
        "        return x\n",
        "\n",
        "# Example usage\n",
        "model_module = CustomNN(784, 128, 10)\n",
        "print(\"Model defined using nn.Module:\")\n",
        "print(model_module)"
      ],
      "execution_count": 21,
      "outputs": [
        {
          "output_type": "stream",
          "name": "stdout",
          "text": [
            "Model defined using nn.Module:\n",
            "CustomNN(\n",
            "  (fc1): Linear(in_features=784, out_features=128, bias=True)\n",
            "  (fc2): Linear(in_features=128, out_features=10, bias=True)\n",
            "  (dropout): Dropout(p=0.2, inplace=False)\n",
            ")\n"
          ]
        }
      ]
    },
    {
      "cell_type": "markdown",
      "metadata": {
        "id": "39720c7c"
      },
      "source": [
        "**Using `torch.nn.Sequential` (for simple linear stacks):**"
      ]
    },
    {
      "cell_type": "code",
      "metadata": {
        "colab": {
          "base_uri": "https://localhost:8080/"
        },
        "id": "775a2d9c",
        "outputId": "1f3ef1e4-9bc0-4f0d-adf7-05599401373a"
      },
      "source": [
        "import torch\n",
        "import torch.nn as nn\n",
        "\n",
        "# Example using Sequential\n",
        "model_sequential = nn.Sequential(\n",
        "    nn.Flatten(), # Can include operations as layers\n",
        "    nn.Linear(784, 128),\n",
        "    nn.ReLU(),\n",
        "    nn.Dropout(0.2),\n",
        "    nn.Linear(128, 10)\n",
        ")\n",
        "\n",
        "print(\"\\nModel defined using nn.Sequential:\")\n",
        "print(model_sequential)\n",
        "\n",
        "# Note: With Sequential, the input shape needs to be handled implicitly or with an initial layer like Flatten."
      ],
      "execution_count": 22,
      "outputs": [
        {
          "output_type": "stream",
          "name": "stdout",
          "text": [
            "\n",
            "Model defined using nn.Sequential:\n",
            "Sequential(\n",
            "  (0): Flatten(start_dim=1, end_dim=-1)\n",
            "  (1): Linear(in_features=784, out_features=128, bias=True)\n",
            "  (2): ReLU()\n",
            "  (3): Dropout(p=0.2, inplace=False)\n",
            "  (4): Linear(in_features=128, out_features=10, bias=True)\n",
            ")\n"
          ]
        }
      ]
    },
    {
      "cell_type": "markdown",
      "metadata": {
        "id": "3cad5721"
      },
      "source": [
        "In summary, use `nn.Module` when you need more control over the network's architecture and data flow, and use `nn.Sequential` for simpler, linear stacks of layers. You can also combine them by using `nn.Sequential` within a custom `nn.Module`."
      ]
    },
    {
      "cell_type": "markdown",
      "metadata": {
        "id": "dae88872"
      },
      "source": [
        "## **18. How can you monitor training progress in TensorFlow 2.0?**\n",
        "\n",
        "**Answer:** Monitoring training progress is crucial for understanding how your model is learning and for debugging. In TensorFlow 2.0, the most common ways to monitor training are:\n",
        "\n",
        "1.  **Using Keras Callbacks:** When using the `model.fit()` method, you can pass a list of callbacks that will be applied at various stages of training (e.g., at the end of each epoch or batch). The most important callback for monitoring is `tf.keras.callbacks.TensorBoard`.\n",
        "2.  **Using `tf.summary` API:** For more fine-grained control or when writing custom training loops, you can use the `tf.summary` API to manually log scalar values, histograms, images, etc.\n",
        "\n",
        "Here's an example demonstrating how to use the `TensorBoard` callback:"
      ]
    },
    {
      "cell_type": "code",
      "metadata": {
        "colab": {
          "base_uri": "https://localhost:8080/"
        },
        "id": "96a8adb3",
        "outputId": "8db5cd15-66fa-467e-9af3-4616579428ca"
      },
      "source": [
        "import tensorflow as tf\n",
        "from tensorflow import keras\n",
        "import datetime\n",
        "import os\n",
        "\n",
        "# Define a simple Sequential model (reusing the one from previous examples)\n",
        "model = keras.Sequential([\n",
        "    keras.layers.Input(shape=(28, 28)),\n",
        "    keras.layers.Flatten(),\n",
        "    keras.layers.Dense(128, activation='relu'),\n",
        "    keras.layers.Dropout(0.2),\n",
        "    keras.layers.Dense(10, activation='softmax')\n",
        "])\n",
        "\n",
        "model.compile(optimizer='adam',\n",
        "              loss='sparse_categorical_crossentropy',\n",
        "              metrics=['accuracy'])\n",
        "\n",
        "# Define the log directory for TensorBoard\n",
        "log_dir = os.path.join(\"logs\", \"fit\", datetime.datetime.now().strftime(\"%Y%m%d-%H%M%S\"))\n",
        "\n",
        "# Create the TensorBoard callback\n",
        "tensorboard_callback = tf.keras.callbacks.TensorBoard(log_dir=log_dir, histogram_freq=1)\n",
        "\n",
        "# Load dummy data (MNIST)\n",
        "(x_train, y_train), (x_test, y_test) = keras.datasets.mnist.load_data()\n",
        "x_train = x_train / 255.0\n",
        "x_test = x_test / 255.0\n",
        "\n",
        "# Train the model with the TensorBoard callback\n",
        "print(\"Training the model with TensorBoard logging...\")\n",
        "history = model.fit(x_train, y_train, epochs=5, validation_data=(x_test, y_test),\n",
        "                    callbacks=[tensorboard_callback])\n",
        "\n",
        "print(f\"TensorBoard logs saved to: {log_dir}\")\n",
        "print(\"To view TensorBoard, run the following command in your terminal:\")\n",
        "print(f\"tensorboard --logdir {os.path.join('logs', 'fit')}\")"
      ],
      "execution_count": 24,
      "outputs": [
        {
          "output_type": "stream",
          "name": "stdout",
          "text": [
            "Training the model with TensorBoard logging...\n",
            "Epoch 1/5\n",
            "\u001b[1m1875/1875\u001b[0m \u001b[32m━━━━━━━━━━━━━━━━━━━━\u001b[0m\u001b[37m\u001b[0m \u001b[1m10s\u001b[0m 5ms/step - accuracy: 0.8593 - loss: 0.4779 - val_accuracy: 0.9595 - val_loss: 0.1364\n",
            "Epoch 2/5\n",
            "\u001b[1m1875/1875\u001b[0m \u001b[32m━━━━━━━━━━━━━━━━━━━━\u001b[0m\u001b[37m\u001b[0m \u001b[1m11s\u001b[0m 5ms/step - accuracy: 0.9556 - loss: 0.1467 - val_accuracy: 0.9690 - val_loss: 0.1009\n",
            "Epoch 3/5\n",
            "\u001b[1m1875/1875\u001b[0m \u001b[32m━━━━━━━━━━━━━━━━━━━━\u001b[0m\u001b[37m\u001b[0m \u001b[1m10s\u001b[0m 5ms/step - accuracy: 0.9671 - loss: 0.1090 - val_accuracy: 0.9715 - val_loss: 0.0891\n",
            "Epoch 4/5\n",
            "\u001b[1m1875/1875\u001b[0m \u001b[32m━━━━━━━━━━━━━━━━━━━━\u001b[0m\u001b[37m\u001b[0m \u001b[1m10s\u001b[0m 5ms/step - accuracy: 0.9738 - loss: 0.0869 - val_accuracy: 0.9783 - val_loss: 0.0716\n",
            "Epoch 5/5\n",
            "\u001b[1m1875/1875\u001b[0m \u001b[32m━━━━━━━━━━━━━━━━━━━━\u001b[0m\u001b[37m\u001b[0m \u001b[1m10s\u001b[0m 5ms/step - accuracy: 0.9768 - loss: 0.0730 - val_accuracy: 0.9766 - val_loss: 0.0748\n",
            "TensorBoard logs saved to: logs/fit/20250903-185352\n",
            "To view TensorBoard, run the following command in your terminal:\n",
            "tensorboard --logdir logs/fit\n"
          ]
        }
      ]
    },
    {
      "cell_type": "markdown",
      "metadata": {
        "id": "a5ad3d12"
      },
      "source": [
        "After running this cell, you can launch TensorBoard from your terminal (or Colab's terminal if available) pointing to the `logs/fit` directory to visualize the training metrics, graph, histograms, etc.\n",
        "\n",
        "For custom training loops, you would manually write summaries using `tf.summary.scalar()`, `tf.summary.histogram()`, etc., within a `tf.summary.create_file_writer`."
      ]
    },
    {
      "cell_type": "markdown",
      "metadata": {
        "id": "2a0ae841"
      },
      "source": [
        "## **19. How does the Keras API fit into TensorFlow 2.0?**\n",
        "\n",
        "**Answer:** In TensorFlow 2.0, the Keras API is deeply integrated and serves as the primary high-level API for building and training machine learning models. Instead of having multiple competing high-level APIs as in TensorFlow 1.x (like `tf.layers`, `tf.estimator`, `tf.slim`), Keras is the standard and recommended way to define neural network architectures and training workflows.\n",
        "\n",
        "Here's how Keras fits into TensorFlow 2.0:\n",
        "\n",
        "*   **Official High-Level API:** Keras is no longer just a separate library that can run on top of TensorFlow; it's the default and preferred way to interact with TensorFlow's core functionalities for building models. You typically import it as `tf.keras`.\n",
        "*   **Simplified Model Building:** Keras provides user-friendly APIs like `Sequential` and the Functional API for easily defining various network architectures.\n",
        "*   **Simplified Training and Evaluation:** Keras offers convenient methods like `model.fit()`, `model.evaluate()`, and `model.predict()` that abstract away much of the boilerplate code required for training loops in TensorFlow 1.x.\n",
        "*   **Eager Execution Compatibility:** Keras is fully compatible with TensorFlow 2.0's eager execution, making it easier to debug and develop models interactively.\n",
        "*   **Access to Low-Level TensorFlow:** While Keras provides a high-level abstraction, you can still easily drop down to lower-level TensorFlow APIs when needed for more custom operations or research.\n",
        "*   **Callbacks:** Keras provides a rich set of callbacks (like `TensorBoard`, `ModelCheckpoint`, `EarlyStopping`) that can be used with `model.fit()` to monitor and control the training process.\n",
        "\n",
        "In essence, the integration of Keras into TensorFlow 2.0 makes the framework more accessible, consistent, and easier to use for a wide range of machine learning tasks, from simple feedforward networks to complex deep learning models."
      ]
    },
    {
      "cell_type": "markdown",
      "metadata": {
        "id": "6f3ac043"
      },
      "source": [
        "## **20. What is an example of a deep learning project that can be implemented using TensorFlow 2.0?**\n",
        "\n",
        "**Answer:** A very common and illustrative deep learning project that can be implemented efficiently using TensorFlow 2.0 is **Image Classification**.\n",
        "\n",
        "Here's a typical example: **Classifying images from the CIFAR-10 dataset.**\n",
        "\n",
        "CIFAR-10 is a dataset consisting of 60,000 32x32 color images in 10 different classes (e.g., airplane, automobile, bird, cat, deer, dog, frog, horse, ship, truck). The goal is to build a model that can accurately predict the class of a given image.\n",
        "\n",
        "Here's how you would typically approach this project using TensorFlow 2.0 and the Keras API:\n",
        "\n",
        "1.  **Load and Preprocess the Data:**\n",
        "    *   Load the CIFAR-10 dataset using `tf.keras.datasets.cifar10.load_data()`.\n",
        "    *   Normalize the pixel values to be between 0 and 1.\n",
        "    *   Convert the labels to one-hot encoding if using categorical crossentropy loss.\n",
        "2.  **Build a Convolutional Neural Network (CNN) Model:**\n",
        "    *   Use `tf.keras.Sequential` or the Functional API to define the network architecture.\n",
        "    *   Include layers like `Conv2D` for extracting features, `MaxPooling2D` for downsampling, `Flatten` for converting the 2D feature maps to a 1D vector, and `Dense` layers for the final classification.\n",
        "    *   Use activation functions like ReLU and Softmax (for the output layer).\n",
        "3.  **Compile the Model:**\n",
        "    *   Specify the optimizer (e.g., `adam`).\n",
        "    *   Choose the appropriate loss function (e.g., `sparse_categorical_crossentropy` or `categorical_crossentropy`).\n",
        "    *   Define the metrics to monitor during training (e.g., `accuracy`).\n",
        "4.  **Train the Model:**\n",
        "    *   Use `model.fit()` to train the model on the training data.\n",
        "    *   Specify the number of epochs, batch size, and validation data.\n",
        "    *   Optionally, use callbacks like `TensorBoard` for monitoring or `ModelCheckpoint` for saving the best model.\n",
        "5.  **Evaluate the Model:**\n",
        "    *   Use `model.evaluate()` to assess the model's performance on the test data.\n",
        "6.  **Make Predictions:**\n",
        "    *   Use `model.predict()` to classify new images.\n",
        "\n",
        "TensorFlow 2.0's ease of use with Keras, eager execution for easier debugging, and efficient handling of computations make it an excellent choice for implementing such image classification projects.\n",
        "\n",
        "Other examples of deep learning projects in TensorFlow 2.0 include:\n",
        "\n",
        "*   **Natural Language Processing (NLP):** Text classification, sentiment analysis, machine translation using RNNs, LSTMs, or Transformer models.\n",
        "*   **Object Detection and Segmentation:** Using models like Faster R-CNN, YOLO, or U-Net.\n",
        "*   **Generative Models:** Building GANs or VAEs for generating new data.\n",
        "*   **Time Series Analysis:** Forecasting or classification using RNNs or LSTMs."
      ]
    },
    {
      "cell_type": "markdown",
      "metadata": {
        "id": "d114e62e"
      },
      "source": [
        "## **21. What is the main advantage of using pre-trained models in TensorFlow and PyTorch?**\n",
        "\n",
        "**Answer:** The main advantage of using pre-trained models in TensorFlow and PyTorch (and deep learning in general) is **transfer learning**.\n",
        "\n",
        "Pre-trained models are neural networks that have already been trained on a very large dataset (like ImageNet, which contains millions of images) for a related task (like image classification). When you use a pre-trained model for a new task (e.g., classifying a different set of images), you leverage the features and patterns that the model has already learned from the large dataset.\n",
        "\n",
        "The key benefits of this approach are:\n",
        "\n",
        "*   **Reduced Training Time:** Training a large neural network from scratch on a massive dataset can take a very long time and require significant computational resources. Using a pre-trained model as a starting point drastically reduces the training time needed for your specific task.\n",
        "*   **Less Data Required:** Training deep learning models effectively often requires a large amount of labeled data. With a pre-trained model, you often need significantly less data for your new task because the model has already learned general features that are transferable. You might only need a relatively small dataset to fine-tune the pre-trained model for your specific needs.\n",
        "*   **Improved Performance:** For tasks where your dataset is relatively small, a model trained from scratch might not generalize well. A pre-trained model, having learned robust features from a vast amount of data, can often achieve better performance on your new task, even with limited data, because it has a good starting point.\n",
        "\n",
        "In essence, pre-trained models allow you to \"transfer\" knowledge from a previously learned task to a new, related task, saving time, data, and often leading to better results. Both TensorFlow and PyTorch provide easy access to a wide variety of pre-trained models through their respective libraries (`tf.keras.applications` in TensorFlow and `torchvision.models` in PyTorch)."
      ]
    },
    {
      "cell_type": "markdown",
      "source": [
        "# Practical Questions"
      ],
      "metadata": {
        "id": "dY8Jf9eh8H7Y"
      }
    },
    {
      "cell_type": "markdown",
      "source": [
        "**1. How do you install and verify that TensorFlow 2.0 was installed successfully?**"
      ],
      "metadata": {
        "id": "njyNhAzs9RIB"
      }
    },
    {
      "cell_type": "code",
      "source": [
        "!pip install tensorflow\n",
        "\n",
        "import tensorflow as tf\n",
        "print(tf.__version__)"
      ],
      "metadata": {
        "colab": {
          "base_uri": "https://localhost:8080/"
        },
        "id": "plj_ZE_n8_eA",
        "outputId": "dc5d6a13-db7a-4aae-a3f2-895a4ae118e9"
      },
      "execution_count": 26,
      "outputs": [
        {
          "output_type": "stream",
          "name": "stdout",
          "text": [
            "Requirement already satisfied: tensorflow in /usr/local/lib/python3.12/dist-packages (2.19.0)\n",
            "Requirement already satisfied: absl-py>=1.0.0 in /usr/local/lib/python3.12/dist-packages (from tensorflow) (1.4.0)\n",
            "Requirement already satisfied: astunparse>=1.6.0 in /usr/local/lib/python3.12/dist-packages (from tensorflow) (1.6.3)\n",
            "Requirement already satisfied: flatbuffers>=24.3.25 in /usr/local/lib/python3.12/dist-packages (from tensorflow) (25.2.10)\n",
            "Requirement already satisfied: gast!=0.5.0,!=0.5.1,!=0.5.2,>=0.2.1 in /usr/local/lib/python3.12/dist-packages (from tensorflow) (0.6.0)\n",
            "Requirement already satisfied: google-pasta>=0.1.1 in /usr/local/lib/python3.12/dist-packages (from tensorflow) (0.2.0)\n",
            "Requirement already satisfied: libclang>=13.0.0 in /usr/local/lib/python3.12/dist-packages (from tensorflow) (18.1.1)\n",
            "Requirement already satisfied: opt-einsum>=2.3.2 in /usr/local/lib/python3.12/dist-packages (from tensorflow) (3.4.0)\n",
            "Requirement already satisfied: packaging in /usr/local/lib/python3.12/dist-packages (from tensorflow) (25.0)\n",
            "Requirement already satisfied: protobuf!=4.21.0,!=4.21.1,!=4.21.2,!=4.21.3,!=4.21.4,!=4.21.5,<6.0.0dev,>=3.20.3 in /usr/local/lib/python3.12/dist-packages (from tensorflow) (5.29.5)\n",
            "Requirement already satisfied: requests<3,>=2.21.0 in /usr/local/lib/python3.12/dist-packages (from tensorflow) (2.32.4)\n",
            "Requirement already satisfied: setuptools in /usr/local/lib/python3.12/dist-packages (from tensorflow) (75.2.0)\n",
            "Requirement already satisfied: six>=1.12.0 in /usr/local/lib/python3.12/dist-packages (from tensorflow) (1.17.0)\n",
            "Requirement already satisfied: termcolor>=1.1.0 in /usr/local/lib/python3.12/dist-packages (from tensorflow) (3.1.0)\n",
            "Requirement already satisfied: typing-extensions>=3.6.6 in /usr/local/lib/python3.12/dist-packages (from tensorflow) (4.15.0)\n",
            "Requirement already satisfied: wrapt>=1.11.0 in /usr/local/lib/python3.12/dist-packages (from tensorflow) (1.17.3)\n",
            "Requirement already satisfied: grpcio<2.0,>=1.24.3 in /usr/local/lib/python3.12/dist-packages (from tensorflow) (1.74.0)\n",
            "Requirement already satisfied: tensorboard~=2.19.0 in /usr/local/lib/python3.12/dist-packages (from tensorflow) (2.19.0)\n",
            "Requirement already satisfied: keras>=3.5.0 in /usr/local/lib/python3.12/dist-packages (from tensorflow) (3.10.0)\n",
            "Requirement already satisfied: numpy<2.2.0,>=1.26.0 in /usr/local/lib/python3.12/dist-packages (from tensorflow) (2.0.2)\n",
            "Requirement already satisfied: h5py>=3.11.0 in /usr/local/lib/python3.12/dist-packages (from tensorflow) (3.14.0)\n",
            "Requirement already satisfied: ml-dtypes<1.0.0,>=0.5.1 in /usr/local/lib/python3.12/dist-packages (from tensorflow) (0.5.3)\n",
            "Requirement already satisfied: wheel<1.0,>=0.23.0 in /usr/local/lib/python3.12/dist-packages (from astunparse>=1.6.0->tensorflow) (0.45.1)\n",
            "Requirement already satisfied: rich in /usr/local/lib/python3.12/dist-packages (from keras>=3.5.0->tensorflow) (13.9.4)\n",
            "Requirement already satisfied: namex in /usr/local/lib/python3.12/dist-packages (from keras>=3.5.0->tensorflow) (0.1.0)\n",
            "Requirement already satisfied: optree in /usr/local/lib/python3.12/dist-packages (from keras>=3.5.0->tensorflow) (0.17.0)\n",
            "Requirement already satisfied: charset_normalizer<4,>=2 in /usr/local/lib/python3.12/dist-packages (from requests<3,>=2.21.0->tensorflow) (3.4.3)\n",
            "Requirement already satisfied: idna<4,>=2.5 in /usr/local/lib/python3.12/dist-packages (from requests<3,>=2.21.0->tensorflow) (3.10)\n",
            "Requirement already satisfied: urllib3<3,>=1.21.1 in /usr/local/lib/python3.12/dist-packages (from requests<3,>=2.21.0->tensorflow) (2.5.0)\n",
            "Requirement already satisfied: certifi>=2017.4.17 in /usr/local/lib/python3.12/dist-packages (from requests<3,>=2.21.0->tensorflow) (2025.8.3)\n",
            "Requirement already satisfied: markdown>=2.6.8 in /usr/local/lib/python3.12/dist-packages (from tensorboard~=2.19.0->tensorflow) (3.8.2)\n",
            "Requirement already satisfied: tensorboard-data-server<0.8.0,>=0.7.0 in /usr/local/lib/python3.12/dist-packages (from tensorboard~=2.19.0->tensorflow) (0.7.2)\n",
            "Requirement already satisfied: werkzeug>=1.0.1 in /usr/local/lib/python3.12/dist-packages (from tensorboard~=2.19.0->tensorflow) (3.1.3)\n",
            "Requirement already satisfied: MarkupSafe>=2.1.1 in /usr/local/lib/python3.12/dist-packages (from werkzeug>=1.0.1->tensorboard~=2.19.0->tensorflow) (3.0.2)\n",
            "Requirement already satisfied: markdown-it-py>=2.2.0 in /usr/local/lib/python3.12/dist-packages (from rich->keras>=3.5.0->tensorflow) (4.0.0)\n",
            "Requirement already satisfied: pygments<3.0.0,>=2.13.0 in /usr/local/lib/python3.12/dist-packages (from rich->keras>=3.5.0->tensorflow) (2.19.2)\n",
            "Requirement already satisfied: mdurl~=0.1 in /usr/local/lib/python3.12/dist-packages (from markdown-it-py>=2.2.0->rich->keras>=3.5.0->tensorflow) (0.1.2)\n",
            "2.19.0\n"
          ]
        }
      ]
    },
    {
      "cell_type": "markdown",
      "source": [
        "**2. How can you define a simple function in TensorFlow 2.0 to perform addition?**"
      ],
      "metadata": {
        "id": "0Rk-Oa_G9Wtm"
      }
    },
    {
      "cell_type": "code",
      "source": [
        "import tensorflow as tf\n",
        "\n",
        "# Define a Python function for addition\n",
        "def add_numbers_python(a, b):\n",
        "  return a + b\n",
        "\n",
        "@tf.function\n",
        "def add_numbers_tf(a, b):\n",
        "  return a + b\n",
        "\n",
        "# Example usage with Python function\n",
        "result_python = add_numbers_python(2, 3)\n",
        "print(\"Result from Python function:\", result_python)\n",
        "\n",
        "result_tf = add_numbers_tf(tf.constant(2), tf.constant(3))\n",
        "print(\"Result from TensorFlow function:\", result_tf.numpy())"
      ],
      "metadata": {
        "colab": {
          "base_uri": "https://localhost:8080/"
        },
        "id": "rhBfOig19WIX",
        "outputId": "ea882086-69e2-4a53-f896-e6cc586882f8"
      },
      "execution_count": 29,
      "outputs": [
        {
          "output_type": "stream",
          "name": "stdout",
          "text": [
            "Result from Python function: 5\n",
            "Result from TensorFlow function: 5\n"
          ]
        }
      ]
    },
    {
      "cell_type": "markdown",
      "source": [
        "**3. How can you create a simple neural network in TensorFlow 2.0 with one hidden layer?**"
      ],
      "metadata": {
        "id": "RRgq2wqr9h3M"
      }
    },
    {
      "cell_type": "code",
      "source": [
        "import tensorflow as tf\n",
        "from tensorflow import keras\n",
        "from keras.layers import Input\n",
        "\n",
        "# Define a simple Sequential model with one hidden layer\n",
        "model = keras.Sequential([\n",
        "    Input(shape=(784,)), # Input layer for flattened images (e.g., 28x28)\n",
        "    keras.layers.Dense(128, activation='relu'), # Hidden layer with 128 neurons and ReLU activation\n",
        "    keras.layers.Dense(10, activation='softmax') # Output layer with 10 neurons (for 10 classes) and softmax activation\n",
        "])\n",
        "\n",
        "# Compile the model\n",
        "model.compile(optimizer='adam',\n",
        "              loss='sparse_categorical_crossentropy',\n",
        "              metrics=['accuracy'])\n",
        "\n",
        "# Print a summary of the model\n",
        "model.summary()"
      ],
      "metadata": {
        "colab": {
          "base_uri": "https://localhost:8080/",
          "height": 193
        },
        "id": "SBuolBbl9kOm",
        "outputId": "76d91f29-00e3-4b99-ca92-60dce58fa137"
      },
      "execution_count": 30,
      "outputs": [
        {
          "output_type": "display_data",
          "data": {
            "text/plain": [
              "\u001b[1mModel: \"sequential_9\"\u001b[0m\n"
            ],
            "text/html": [
              "<pre style=\"white-space:pre;overflow-x:auto;line-height:normal;font-family:Menlo,'DejaVu Sans Mono',consolas,'Courier New',monospace\"><span style=\"font-weight: bold\">Model: \"sequential_9\"</span>\n",
              "</pre>\n"
            ]
          },
          "metadata": {}
        },
        {
          "output_type": "display_data",
          "data": {
            "text/plain": [
              "┏━━━━━━━━━━━━━━━━━━━━━━━━━━━━━━━━━┳━━━━━━━━━━━━━━━━━━━━━━━━┳━━━━━━━━━━━━━━━┓\n",
              "┃\u001b[1m \u001b[0m\u001b[1mLayer (type)                   \u001b[0m\u001b[1m \u001b[0m┃\u001b[1m \u001b[0m\u001b[1mOutput Shape          \u001b[0m\u001b[1m \u001b[0m┃\u001b[1m \u001b[0m\u001b[1m      Param #\u001b[0m\u001b[1m \u001b[0m┃\n",
              "┡━━━━━━━━━━━━━━━━━━━━━━━━━━━━━━━━━╇━━━━━━━━━━━━━━━━━━━━━━━━╇━━━━━━━━━━━━━━━┩\n",
              "│ dense_18 (\u001b[38;5;33mDense\u001b[0m)                │ (\u001b[38;5;45mNone\u001b[0m, \u001b[38;5;34m128\u001b[0m)            │       \u001b[38;5;34m100,480\u001b[0m │\n",
              "├─────────────────────────────────┼────────────────────────┼───────────────┤\n",
              "│ dense_19 (\u001b[38;5;33mDense\u001b[0m)                │ (\u001b[38;5;45mNone\u001b[0m, \u001b[38;5;34m10\u001b[0m)             │         \u001b[38;5;34m1,290\u001b[0m │\n",
              "└─────────────────────────────────┴────────────────────────┴───────────────┘\n"
            ],
            "text/html": [
              "<pre style=\"white-space:pre;overflow-x:auto;line-height:normal;font-family:Menlo,'DejaVu Sans Mono',consolas,'Courier New',monospace\">┏━━━━━━━━━━━━━━━━━━━━━━━━━━━━━━━━━┳━━━━━━━━━━━━━━━━━━━━━━━━┳━━━━━━━━━━━━━━━┓\n",
              "┃<span style=\"font-weight: bold\"> Layer (type)                    </span>┃<span style=\"font-weight: bold\"> Output Shape           </span>┃<span style=\"font-weight: bold\">       Param # </span>┃\n",
              "┡━━━━━━━━━━━━━━━━━━━━━━━━━━━━━━━━━╇━━━━━━━━━━━━━━━━━━━━━━━━╇━━━━━━━━━━━━━━━┩\n",
              "│ dense_18 (<span style=\"color: #0087ff; text-decoration-color: #0087ff\">Dense</span>)                │ (<span style=\"color: #00d7ff; text-decoration-color: #00d7ff\">None</span>, <span style=\"color: #00af00; text-decoration-color: #00af00\">128</span>)            │       <span style=\"color: #00af00; text-decoration-color: #00af00\">100,480</span> │\n",
              "├─────────────────────────────────┼────────────────────────┼───────────────┤\n",
              "│ dense_19 (<span style=\"color: #0087ff; text-decoration-color: #0087ff\">Dense</span>)                │ (<span style=\"color: #00d7ff; text-decoration-color: #00d7ff\">None</span>, <span style=\"color: #00af00; text-decoration-color: #00af00\">10</span>)             │         <span style=\"color: #00af00; text-decoration-color: #00af00\">1,290</span> │\n",
              "└─────────────────────────────────┴────────────────────────┴───────────────┘\n",
              "</pre>\n"
            ]
          },
          "metadata": {}
        },
        {
          "output_type": "display_data",
          "data": {
            "text/plain": [
              "\u001b[1m Total params: \u001b[0m\u001b[38;5;34m101,770\u001b[0m (397.54 KB)\n"
            ],
            "text/html": [
              "<pre style=\"white-space:pre;overflow-x:auto;line-height:normal;font-family:Menlo,'DejaVu Sans Mono',consolas,'Courier New',monospace\"><span style=\"font-weight: bold\"> Total params: </span><span style=\"color: #00af00; text-decoration-color: #00af00\">101,770</span> (397.54 KB)\n",
              "</pre>\n"
            ]
          },
          "metadata": {}
        },
        {
          "output_type": "display_data",
          "data": {
            "text/plain": [
              "\u001b[1m Trainable params: \u001b[0m\u001b[38;5;34m101,770\u001b[0m (397.54 KB)\n"
            ],
            "text/html": [
              "<pre style=\"white-space:pre;overflow-x:auto;line-height:normal;font-family:Menlo,'DejaVu Sans Mono',consolas,'Courier New',monospace\"><span style=\"font-weight: bold\"> Trainable params: </span><span style=\"color: #00af00; text-decoration-color: #00af00\">101,770</span> (397.54 KB)\n",
              "</pre>\n"
            ]
          },
          "metadata": {}
        },
        {
          "output_type": "display_data",
          "data": {
            "text/plain": [
              "\u001b[1m Non-trainable params: \u001b[0m\u001b[38;5;34m0\u001b[0m (0.00 B)\n"
            ],
            "text/html": [
              "<pre style=\"white-space:pre;overflow-x:auto;line-height:normal;font-family:Menlo,'DejaVu Sans Mono',consolas,'Courier New',monospace\"><span style=\"font-weight: bold\"> Non-trainable params: </span><span style=\"color: #00af00; text-decoration-color: #00af00\">0</span> (0.00 B)\n",
              "</pre>\n"
            ]
          },
          "metadata": {}
        }
      ]
    },
    {
      "cell_type": "markdown",
      "source": [
        "**4. How can you visualize the training progress using TensorFlow and Matplotlib?**"
      ],
      "metadata": {
        "id": "usoH8fbt9yG-"
      }
    },
    {
      "cell_type": "code",
      "source": [
        "import tensorflow as tf\n",
        "from tensorflow import keras\n",
        "import matplotlib.pyplot as plt\n",
        "import numpy as np\n",
        "\n",
        "# Define a simple Sequential model (reusing one from previous examples)\n",
        "model = keras.Sequential([\n",
        "    keras.layers.Input(shape=(28, 28)),\n",
        "    keras.layers.Flatten(),\n",
        "    keras.layers.Dense(128, activation='relu'),\n",
        "    keras.layers.Dropout(0.2),\n",
        "    keras.layers.Dense(10, activation='softmax')\n",
        "])\n",
        "\n",
        "model.compile(optimizer='adam',\n",
        "              loss='sparse_categorical_crossentropy',\n",
        "              metrics=['accuracy'])\n",
        "\n",
        "# Load dummy data (MNIST)\n",
        "(x_train, y_train), (x_test, y_test) = keras.datasets.mnist.load_data()\n",
        "x_train = x_train / 255.0\n",
        "x_test = x_test / 255.0\n",
        "\n",
        "# Train the model and capture the history\n",
        "print(\"Training the model...\")\n",
        "history = model.fit(x_train, y_train, epochs=5, validation_data=(x_test, y_test))\n",
        "\n",
        "# Plot training & validation accuracy values\n",
        "plt.figure(figsize=(12, 4))\n",
        "plt.subplot(1, 2, 1)\n",
        "plt.plot(history.history['accuracy'])\n",
        "plt.plot(history.history['val_accuracy'])\n",
        "plt.title('Model accuracy')\n",
        "plt.ylabel('Accuracy')\n",
        "plt.xlabel('Epoch')\n",
        "plt.legend(['Train', 'Test'], loc='upper left')\n",
        "\n",
        "# Plot training & validation loss values\n",
        "plt.subplot(1, 2, 2)\n",
        "plt.plot(history.history['loss'])\n",
        "plt.plot(history.history['val_loss'])\n",
        "plt.title('Model loss')\n",
        "plt.ylabel('Loss')\n",
        "plt.xlabel('Epoch')\n",
        "plt.legend(['Train', 'Test'], loc='upper left')\n",
        "\n",
        "plt.show()"
      ],
      "metadata": {
        "colab": {
          "base_uri": "https://localhost:8080/",
          "height": 601
        },
        "id": "GvNtatof9uDC",
        "outputId": "2185ef5b-e7e6-4f1a-efe3-4467f9cbb460"
      },
      "execution_count": 31,
      "outputs": [
        {
          "output_type": "stream",
          "name": "stdout",
          "text": [
            "Training the model...\n",
            "Epoch 1/5\n",
            "\u001b[1m1875/1875\u001b[0m \u001b[32m━━━━━━━━━━━━━━━━━━━━\u001b[0m\u001b[37m\u001b[0m \u001b[1m11s\u001b[0m 5ms/step - accuracy: 0.8603 - loss: 0.4841 - val_accuracy: 0.9585 - val_loss: 0.1388\n",
            "Epoch 2/5\n",
            "\u001b[1m1875/1875\u001b[0m \u001b[32m━━━━━━━━━━━━━━━━━━━━\u001b[0m\u001b[37m\u001b[0m \u001b[1m11s\u001b[0m 6ms/step - accuracy: 0.9555 - loss: 0.1516 - val_accuracy: 0.9691 - val_loss: 0.1022\n",
            "Epoch 3/5\n",
            "\u001b[1m1875/1875\u001b[0m \u001b[32m━━━━━━━━━━━━━━━━━━━━\u001b[0m\u001b[37m\u001b[0m \u001b[1m9s\u001b[0m 5ms/step - accuracy: 0.9678 - loss: 0.1080 - val_accuracy: 0.9737 - val_loss: 0.0869\n",
            "Epoch 4/5\n",
            "\u001b[1m1875/1875\u001b[0m \u001b[32m━━━━━━━━━━━━━━━━━━━━\u001b[0m\u001b[37m\u001b[0m \u001b[1m9s\u001b[0m 5ms/step - accuracy: 0.9740 - loss: 0.0866 - val_accuracy: 0.9751 - val_loss: 0.0836\n",
            "Epoch 5/5\n",
            "\u001b[1m1875/1875\u001b[0m \u001b[32m━━━━━━━━━━━━━━━━━━━━\u001b[0m\u001b[37m\u001b[0m \u001b[1m9s\u001b[0m 5ms/step - accuracy: 0.9758 - loss: 0.0741 - val_accuracy: 0.9790 - val_loss: 0.0692\n"
          ]
        },
        {
          "output_type": "display_data",
          "data": {
            "text/plain": [
              "<Figure size 1200x400 with 2 Axes>"
            ],
            "image/png": "[encoded data removed]"
          },
          "metadata": {}
        }
      ]
    },
    {
      "cell_type": "markdown",
      "source": [
        "**5. How do you install PyTorch and verify the PyTorch installation?**"
      ],
      "metadata": {
        "id": "2fAbHZCM9_Dl"
      }
    },
    {
      "cell_type": "code",
      "source": [
        "# Install PyTorch (this command installs the CPU version)\n",
        "# For CUDA support, you'll need to follow instructions on the PyTorch website\n",
        "!pip install torch torchvision torchaudio\n",
        "\n",
        "# Verify installation\n",
        "import torch\n",
        "print(\"PyTorch version:\", torch.__version__)\n",
        "\n",
        "# Check if CUDA is available (for GPU support)\n",
        "if torch.cuda.is_available():\n",
        "    print(\"CUDA is available. GPU will be used.\")\n",
        "    print(\"CUDA version:\", torch.version.cuda)\n",
        "    print(\"GPU Name:\", torch.cuda.get_device_name(0))\n",
        "else:\n",
        "    print(\"CUDA is not available. PyTorch will use CPU.\")"
      ],
      "metadata": {
        "colab": {
          "base_uri": "https://localhost:8080/"
        },
        "id": "24qBom80-CMR",
        "outputId": "35b8765e-36a6-413a-f405-5202212dd31f"
      },
      "execution_count": 32,
      "outputs": [
        {
          "output_type": "stream",
          "name": "stdout",
          "text": [
            "Requirement already satisfied: torch in /usr/local/lib/python3.12/dist-packages (2.8.0+cu126)\n",
            "Requirement already satisfied: torchvision in /usr/local/lib/python3.12/dist-packages (0.23.0+cu126)\n",
            "Requirement already satisfied: torchaudio in /usr/local/lib/python3.12/dist-packages (2.8.0+cu126)\n",
            "Requirement already satisfied: filelock in /usr/local/lib/python3.12/dist-packages (from torch) (3.19.1)\n",
            "Requirement already satisfied: typing-extensions>=4.10.0 in /usr/local/lib/python3.12/dist-packages (from torch) (4.15.0)\n",
            "Requirement already satisfied: setuptools in /usr/local/lib/python3.12/dist-packages (from torch) (75.2.0)\n",
            "Requirement already satisfied: sympy>=1.13.3 in /usr/local/lib/python3.12/dist-packages (from torch) (1.13.3)\n",
            "Requirement already satisfied: networkx in /usr/local/lib/python3.12/dist-packages (from torch) (3.5)\n",
            "Requirement already satisfied: jinja2 in /usr/local/lib/python3.12/dist-packages (from torch) (3.1.6)\n",
            "Requirement already satisfied: fsspec in /usr/local/lib/python3.12/dist-packages (from torch) (2025.3.0)\n",
            "Requirement already satisfied: nvidia-cuda-nvrtc-cu12==12.6.77 in /usr/local/lib/python3.12/dist-packages (from torch) (12.6.77)\n",
            "Requirement already satisfied: nvidia-cuda-runtime-cu12==12.6.77 in /usr/local/lib/python3.12/dist-packages (from torch) (12.6.77)\n",
            "Requirement already satisfied: nvidia-cuda-cupti-cu12==12.6.80 in /usr/local/lib/python3.12/dist-packages (from torch) (12.6.80)\n",
            "Requirement already satisfied: nvidia-cudnn-cu12==9.10.2.21 in /usr/local/lib/python3.12/dist-packages (from torch) (9.10.2.21)\n",
            "Requirement already satisfied: nvidia-cublas-cu12==12.6.4.1 in /usr/local/lib/python3.12/dist-packages (from torch) (12.6.4.1)\n",
            "Requirement already satisfied: nvidia-cufft-cu12==11.3.0.4 in /usr/local/lib/python3.12/dist-packages (from torch) (11.3.0.4)\n",
            "Requirement already satisfied: nvidia-curand-cu12==10.3.7.77 in /usr/local/lib/python3.12/dist-packages (from torch) (10.3.7.77)\n",
            "Requirement already satisfied: nvidia-cusolver-cu12==11.7.1.2 in /usr/local/lib/python3.12/dist-packages (from torch) (11.7.1.2)\n",
            "Requirement already satisfied: nvidia-cusparse-cu12==12.5.4.2 in /usr/local/lib/python3.12/dist-packages (from torch) (12.5.4.2)\n",
            "Requirement already satisfied: nvidia-cusparselt-cu12==0.7.1 in /usr/local/lib/python3.12/dist-packages (from torch) (0.7.1)\n",
            "Requirement already satisfied: nvidia-nccl-cu12==2.27.3 in /usr/local/lib/python3.12/dist-packages (from torch) (2.27.3)\n",
            "Requirement already satisfied: nvidia-nvtx-cu12==12.6.77 in /usr/local/lib/python3.12/dist-packages (from torch) (12.6.77)\n",
            "Requirement already satisfied: nvidia-nvjitlink-cu12==12.6.85 in /usr/local/lib/python3.12/dist-packages (from torch) (12.6.85)\n",
            "Requirement already satisfied: nvidia-cufile-cu12==1.11.1.6 in /usr/local/lib/python3.12/dist-packages (from torch) (1.11.1.6)\n",
            "Requirement already satisfied: triton==3.4.0 in /usr/local/lib/python3.12/dist-packages (from torch) (3.4.0)\n",
            "Requirement already satisfied: numpy in /usr/local/lib/python3.12/dist-packages (from torchvision) (2.0.2)\n",
            "Requirement already satisfied: pillow!=8.3.*,>=5.3.0 in /usr/local/lib/python3.12/dist-packages (from torchvision) (11.3.0)\n",
            "Requirement already satisfied: mpmath<1.4,>=1.1.0 in /usr/local/lib/python3.12/dist-packages (from sympy>=1.13.3->torch) (1.3.0)\n",
            "Requirement already satisfied: MarkupSafe>=2.0 in /usr/local/lib/python3.12/dist-packages (from jinja2->torch) (3.0.2)\n",
            "PyTorch version: 2.8.0+cu126\n",
            "CUDA is not available. PyTorch will use CPU.\n"
          ]
        }
      ]
    },
    {
      "cell_type": "markdown",
      "source": [
        "**6. How do you create a simple neural network in PyTorch?**"
      ],
      "metadata": {
        "id": "okgn9YXa-kQG"
      }
    },
    {
      "cell_type": "code",
      "source": [
        "import torch\n",
        "import torch.nn as nn\n",
        "import torch.nn.functional as F\n",
        "\n",
        "# Define a simple neural network\n",
        "class SimpleNN(nn.Module):\n",
        "    def __init__(self, input_size, hidden_size, num_classes):\n",
        "        super(SimpleNN, self).__init__()\n",
        "        self.fc1 = nn.Linear(input_size, hidden_size) # First fully connected layer\n",
        "        self.relu = nn.ReLU() # ReLU activation\n",
        "        self.fc2 = nn.Linear(hidden_size, num_classes) # Second fully connected layer\n",
        "\n",
        "    def forward(self, x):\n",
        "        out = self.fc1(x)\n",
        "        out = self.relu(out)\n",
        "        out = self.fc2(out)\n",
        "        return out\n",
        "\n",
        "# Example usage:\n",
        "input_size = 784  # e.g., for a flattened image of 28x28\n",
        "hidden_size = 128\n",
        "num_classes = 10\n",
        "\n",
        "model = SimpleNN(input_size, hidden_size, num_classes)\n",
        "\n",
        "# Print the model architecture\n",
        "print(model)"
      ],
      "metadata": {
        "colab": {
          "base_uri": "https://localhost:8080/"
        },
        "id": "HzeK50M6-oD0",
        "outputId": "30253780-b7d7-4c74-f4c9-53867df117d7"
      },
      "execution_count": 33,
      "outputs": [
        {
          "output_type": "stream",
          "name": "stdout",
          "text": [
            "SimpleNN(\n",
            "  (fc1): Linear(in_features=784, out_features=128, bias=True)\n",
            "  (relu): ReLU()\n",
            "  (fc2): Linear(in_features=128, out_features=10, bias=True)\n",
            ")\n"
          ]
        }
      ]
    },
    {
      "cell_type": "markdown",
      "source": [
        "**7. How do you define a loss function and optimizer in PyTorch?**"
      ],
      "metadata": {
        "id": "CRS5z_rf-vrd"
      }
    },
    {
      "cell_type": "code",
      "source": [
        "import torch\n",
        "import torch.nn as nn\n",
        "import torch.optim as optim\n",
        "\n",
        "# Assume you have a model defined (e.g., the SimpleNN from question 12)\n",
        "# For demonstration, let's use a dummy model structure\n",
        "class DummyModel(nn.Module):\n",
        "    def __init__(self, input_size, num_classes):\n",
        "        super(DummyModel, self).__init__()\n",
        "        self.linear = nn.Linear(input_size, num_classes)\n",
        "\n",
        "    def forward(self, x):\n",
        "        return self.linear(x)\n",
        "\n",
        "input_size = 10\n",
        "num_classes = 2\n",
        "model = DummyModel(input_size, num_classes)\n",
        "\n",
        "\n",
        "# 1. Define a Loss Function\n",
        "# Common loss functions include:\n",
        "# - nn.CrossEntropyLoss (for classification)\n",
        "# - nn.MSELoss (for regression)\n",
        "# - nn.BCELoss (for binary classification)\n",
        "criterion = nn.CrossEntropyLoss()\n",
        "print(\"Defined Loss Function:\", criterion)\n",
        "\n",
        "# 2. Define an Optimizer\n",
        "# Common optimizers include:\n",
        "# - optim.SGD (Stochastic Gradient Descent)\n",
        "# - optim.Adam\n",
        "# - optim.RMSprop\n",
        "# - optim.Adagrad\n",
        "optimizer = optim.Adam(model.parameters(), lr=0.001) # Pass model parameters to the optimizer\n",
        "print(\"Defined Optimizer:\", optimizer)\n",
        "\n",
        "# Example of a dummy training step (conceptual)\n",
        "# In a real scenario, you would have input data and ground truth labels\n",
        "\n",
        "# Dummy input data and labels\n",
        "dummy_input = torch.randn(5, input_size) # Batch size of 5\n",
        "dummy_labels = torch.randint(0, num_classes, (5,))\n",
        "\n",
        "# Forward pass\n",
        "outputs = model(dummy_input)\n",
        "\n",
        "# Calculate loss\n",
        "loss = criterion(outputs, dummy_labels)\n",
        "print(\"Dummy Loss:\", loss.item())\n",
        "\n",
        "# Backward pass (compute gradients)\n",
        "loss.backward()\n",
        "\n",
        "# Update model parameters\n",
        "optimizer.step()\n",
        "\n",
        "# Zero the gradients (important for the next iteration)\n",
        "optimizer.zero_grad()\n",
        "\n",
        "print(\"\\nDefined loss function and optimizer and performed a dummy step.\")"
      ],
      "metadata": {
        "colab": {
          "base_uri": "https://localhost:8080/"
        },
        "id": "888RQq1e-xVo",
        "outputId": "0da87494-a6a3-4ab2-edd1-2815adc65560"
      },
      "execution_count": 34,
      "outputs": [
        {
          "output_type": "stream",
          "name": "stdout",
          "text": [
            "Defined Loss Function: CrossEntropyLoss()\n",
            "Defined Optimizer: Adam (\n",
            "Parameter Group 0\n",
            "    amsgrad: False\n",
            "    betas: (0.9, 0.999)\n",
            "    capturable: False\n",
            "    decoupled_weight_decay: False\n",
            "    differentiable: False\n",
            "    eps: 1e-08\n",
            "    foreach: None\n",
            "    fused: None\n",
            "    lr: 0.001\n",
            "    maximize: False\n",
            "    weight_decay: 0\n",
            ")\n",
            "Dummy Loss: 0.8362125158309937\n",
            "\n",
            "Defined loss function and optimizer and performed a dummy step.\n"
          ]
        }
      ]
    },
    {
      "cell_type": "markdown",
      "source": [
        "**8. How do you implement a custom loss function in PyTorch?**"
      ],
      "metadata": {
        "id": "EzazLOTP-8CW"
      }
    },
    {
      "cell_type": "code",
      "source": [
        "import torch\n",
        "import torch.nn as nn\n",
        "import torch.nn.functional as F\n",
        "\n",
        "# Method 1: Implement as a Python function\n",
        "def custom_mse_loss(outputs, targets):\n",
        "    \"\"\"Calculates Mean Squared Error loss.\"\"\"\n",
        "    return torch.mean((outputs - targets) ** 2)\n",
        "\n",
        "# Method 2: Implement as an nn.Module subclass\n",
        "class CustomL1Loss(nn.Module):\n",
        "    \"\"\"Calculates Mean Absolute Error loss.\"\"\"\n",
        "    def __init__(self):\n",
        "        super(CustomL1Loss, self).__init__()\n",
        "\n",
        "    def forward(self, outputs, targets):\n",
        "        return torch.mean(torch.abs(outputs - targets))\n",
        "\n",
        "outputs = torch.randn(5, 1, requires_grad=True)\n",
        "targets = torch.randn(5, 1)\n",
        "\n",
        "loss_mse = custom_mse_loss(outputs, targets)\n",
        "print(f\"Custom MSE Loss: {loss_mse.item()}\")\n",
        "\n",
        "custom_l1 = CustomL1Loss()\n",
        "loss_l1 = custom_l1(outputs, targets)\n",
        "print(f\"Custom L1 Loss: {loss_l1.item()}\")\n",
        "\n",
        "loss_mse.backward()\n",
        "print(\"Gradients of outputs after MSE loss:\", outputs.grad)"
      ],
      "metadata": {
        "colab": {
          "base_uri": "https://localhost:8080/"
        },
        "id": "kelrY8hM--xI",
        "outputId": "6d1c1244-4f7f-4223-c538-c850ecff58f1"
      },
      "execution_count": 36,
      "outputs": [
        {
          "output_type": "stream",
          "name": "stdout",
          "text": [
            "Custom MSE Loss: 0.8710001111030579\n",
            "Custom L1 Loss: 0.7930639386177063\n",
            "Gradients of outputs after MSE loss: tensor([[ 0.6518],\n",
            "        [ 0.4175],\n",
            "        [-0.2289],\n",
            "        [-0.1006],\n",
            "        [-0.1873]])\n"
          ]
        }
      ]
    },
    {
      "cell_type": "markdown",
      "source": [
        "**9. How do you save and load a TensorFlow model?**"
      ],
      "metadata": {
        "id": "F1qwjW73_QLF"
      }
    },
    {
      "cell_type": "code",
      "source": [
        "import tensorflow as tf\n",
        "from tensorflow import keras\n",
        "import os\n",
        "\n",
        "# Assume you have a trained Keras model (reusing the one from previous examples)\n",
        "model = keras.Sequential([\n",
        "    keras.layers.Input(shape=(28, 28)),\n",
        "    keras.layers.Flatten(),\n",
        "    keras.layers.Dense(128, activation='relu'),\n",
        "    keras.layers.Dropout(0.2),\n",
        "    keras.layers.Dense(10, activation='softmax')\n",
        "])\n",
        "\n",
        "model.compile(optimizer='adam',\n",
        "              loss='sparse_categorical_crossentropy',\n",
        "              metrics=['accuracy'])\n",
        "\n",
        "# For demonstration, let's train the model briefly\n",
        "# Load dummy data (MNIST)\n",
        "(x_train, y_train), (x_test, y_test) = keras.datasets.mnist.load_data()\n",
        "x_train = x_train / 255.0\n",
        "y_train = y_train # Keep as sparse labels for sparse_categorical_crossentropy\n",
        "\n",
        "print(\"Training model briefly for saving demonstration...\")\n",
        "model.fit(x_train[:1000], y_train[:1000], epochs=1)\n",
        "\n",
        "\n",
        "# 1. Save the model\n",
        "save_path = \"./my_tensorflow_model.keras\"\n",
        "model.save(save_path)\n",
        "print(f\"\\nTensorFlow model saved to: {save_path}\")\n",
        "\n",
        "# 2. Load the model\n",
        "loaded_model = keras.models.load_model(save_path)\n",
        "print(\"\\nTensorFlow model loaded successfully!\")\n",
        "\n",
        "dummy_input = x_test[:1]\n",
        "predictions = loaded_model.predict(dummy_input)\n",
        "print(\"\\nPrediction using loaded model:\", predictions)\n",
        "\n",
        "loaded_model.summary()"
      ],
      "metadata": {
        "colab": {
          "base_uri": "https://localhost:8080/",
          "height": 429
        },
        "id": "S2rp4GaT_Tlr",
        "outputId": "ec2afe12-90e8-4dc1-8986-787600764c21"
      },
      "execution_count": 39,
      "outputs": [
        {
          "output_type": "stream",
          "name": "stdout",
          "text": [
            "Training model briefly for saving demonstration...\n",
            "\u001b[1m32/32\u001b[0m \u001b[32m━━━━━━━━━━━━━━━━━━━━\u001b[0m\u001b[37m\u001b[0m \u001b[1m1s\u001b[0m 4ms/step - accuracy: 0.4001 - loss: 1.8794\n",
            "\n",
            "TensorFlow model saved to: ./my_tensorflow_model.keras\n",
            "\n",
            "TensorFlow model loaded successfully!\n",
            "\u001b[1m1/1\u001b[0m \u001b[32m━━━━━━━━━━━━━━━━━━━━\u001b[0m\u001b[37m\u001b[0m \u001b[1m0s\u001b[0m 70ms/step\n",
            "\n",
            "Prediction using loaded model: [[0. 0. 0. 0. 0. 0. 0. 1. 0. 0.]]\n"
          ]
        },
        {
          "output_type": "display_data",
          "data": {
            "text/plain": [
              "\u001b[1mModel: \"sequential_13\"\u001b[0m\n"
            ],
            "text/html": [
              "<pre style=\"white-space:pre;overflow-x:auto;line-height:normal;font-family:Menlo,'DejaVu Sans Mono',consolas,'Courier New',monospace\"><span style=\"font-weight: bold\">Model: \"sequential_13\"</span>\n",
              "</pre>\n"
            ]
          },
          "metadata": {}
        },
        {
          "output_type": "display_data",
          "data": {
            "text/plain": [
              "┏━━━━━━━━━━━━━━━━━━━━━━━━━━━━━━━━━┳━━━━━━━━━━━━━━━━━━━━━━━━┳━━━━━━━━━━━━━━━┓\n",
              "┃\u001b[1m \u001b[0m\u001b[1mLayer (type)                   \u001b[0m\u001b[1m \u001b[0m┃\u001b[1m \u001b[0m\u001b[1mOutput Shape          \u001b[0m\u001b[1m \u001b[0m┃\u001b[1m \u001b[0m\u001b[1m      Param #\u001b[0m\u001b[1m \u001b[0m┃\n",
              "┡━━━━━━━━━━━━━━━━━━━━━━━━━━━━━━━━━╇━━━━━━━━━━━━━━━━━━━━━━━━╇━━━━━━━━━━━━━━━┩\n",
              "│ flatten_11 (\u001b[38;5;33mFlatten\u001b[0m)            │ (\u001b[38;5;45mNone\u001b[0m, \u001b[38;5;34m784\u001b[0m)            │             \u001b[38;5;34m0\u001b[0m │\n",
              "├─────────────────────────────────┼────────────────────────┼───────────────┤\n",
              "│ dense_26 (\u001b[38;5;33mDense\u001b[0m)                │ (\u001b[38;5;45mNone\u001b[0m, \u001b[38;5;34m128\u001b[0m)            │       \u001b[38;5;34m100,480\u001b[0m │\n",
              "├─────────────────────────────────┼────────────────────────┼───────────────┤\n",
              "│ dropout_9 (\u001b[38;5;33mDropout\u001b[0m)             │ (\u001b[38;5;45mNone\u001b[0m, \u001b[38;5;34m128\u001b[0m)            │             \u001b[38;5;34m0\u001b[0m │\n",
              "├─────────────────────────────────┼────────────────────────┼───────────────┤\n",
              "│ dense_27 (\u001b[38;5;33mDense\u001b[0m)                │ (\u001b[38;5;45mNone\u001b[0m, \u001b[38;5;34m10\u001b[0m)             │         \u001b[38;5;34m1,290\u001b[0m │\n",
              "└─────────────────────────────────┴────────────────────────┴───────────────┘\n"
            ],
            "text/html": [
              "<pre style=\"white-space:pre;overflow-x:auto;line-height:normal;font-family:Menlo,'DejaVu Sans Mono',consolas,'Courier New',monospace\">┏━━━━━━━━━━━━━━━━━━━━━━━━━━━━━━━━━┳━━━━━━━━━━━━━━━━━━━━━━━━┳━━━━━━━━━━━━━━━┓\n",
              "┃<span style=\"font-weight: bold\"> Layer (type)                    </span>┃<span style=\"font-weight: bold\"> Output Shape           </span>┃<span style=\"font-weight: bold\">       Param # </span>┃\n",
              "┡━━━━━━━━━━━━━━━━━━━━━━━━━━━━━━━━━╇━━━━━━━━━━━━━━━━━━━━━━━━╇━━━━━━━━━━━━━━━┩\n",
              "│ flatten_11 (<span style=\"color: #0087ff; text-decoration-color: #0087ff\">Flatten</span>)            │ (<span style=\"color: #00d7ff; text-decoration-color: #00d7ff\">None</span>, <span style=\"color: #00af00; text-decoration-color: #00af00\">784</span>)            │             <span style=\"color: #00af00; text-decoration-color: #00af00\">0</span> │\n",
              "├─────────────────────────────────┼────────────────────────┼───────────────┤\n",
              "│ dense_26 (<span style=\"color: #0087ff; text-decoration-color: #0087ff\">Dense</span>)                │ (<span style=\"color: #00d7ff; text-decoration-color: #00d7ff\">None</span>, <span style=\"color: #00af00; text-decoration-color: #00af00\">128</span>)            │       <span style=\"color: #00af00; text-decoration-color: #00af00\">100,480</span> │\n",
              "├─────────────────────────────────┼────────────────────────┼───────────────┤\n",
              "│ dropout_9 (<span style=\"color: #0087ff; text-decoration-color: #0087ff\">Dropout</span>)             │ (<span style=\"color: #00d7ff; text-decoration-color: #00d7ff\">None</span>, <span style=\"color: #00af00; text-decoration-color: #00af00\">128</span>)            │             <span style=\"color: #00af00; text-decoration-color: #00af00\">0</span> │\n",
              "├─────────────────────────────────┼────────────────────────┼───────────────┤\n",
              "│ dense_27 (<span style=\"color: #0087ff; text-decoration-color: #0087ff\">Dense</span>)                │ (<span style=\"color: #00d7ff; text-decoration-color: #00d7ff\">None</span>, <span style=\"color: #00af00; text-decoration-color: #00af00\">10</span>)             │         <span style=\"color: #00af00; text-decoration-color: #00af00\">1,290</span> │\n",
              "└─────────────────────────────────┴────────────────────────┴───────────────┘\n",
              "</pre>\n"
            ]
          },
          "metadata": {}
        },
        {
          "output_type": "display_data",
          "data": {
            "text/plain": [
              "\u001b[1m Total params: \u001b[0m\u001b[38;5;34m305,312\u001b[0m (1.16 MB)\n"
            ],
            "text/html": [
              "<pre style=\"white-space:pre;overflow-x:auto;line-height:normal;font-family:Menlo,'DejaVu Sans Mono',consolas,'Courier New',monospace\"><span style=\"font-weight: bold\"> Total params: </span><span style=\"color: #00af00; text-decoration-color: #00af00\">305,312</span> (1.16 MB)\n",
              "</pre>\n"
            ]
          },
          "metadata": {}
        },
        {
          "output_type": "display_data",
          "data": {
            "text/plain": [
              "\u001b[1m Trainable params: \u001b[0m\u001b[38;5;34m101,770\u001b[0m (397.54 KB)\n"
            ],
            "text/html": [
              "<pre style=\"white-space:pre;overflow-x:auto;line-height:normal;font-family:Menlo,'DejaVu Sans Mono',consolas,'Courier New',monospace\"><span style=\"font-weight: bold\"> Trainable params: </span><span style=\"color: #00af00; text-decoration-color: #00af00\">101,770</span> (397.54 KB)\n",
              "</pre>\n"
            ]
          },
          "metadata": {}
        },
        {
          "output_type": "display_data",
          "data": {
            "text/plain": [
              "\u001b[1m Non-trainable params: \u001b[0m\u001b[38;5;34m0\u001b[0m (0.00 B)\n"
            ],
            "text/html": [
              "<pre style=\"white-space:pre;overflow-x:auto;line-height:normal;font-family:Menlo,'DejaVu Sans Mono',consolas,'Courier New',monospace\"><span style=\"font-weight: bold\"> Non-trainable params: </span><span style=\"color: #00af00; text-decoration-color: #00af00\">0</span> (0.00 B)\n",
              "</pre>\n"
            ]
          },
          "metadata": {}
        },
        {
          "output_type": "display_data",
          "data": {
            "text/plain": [
              "\u001b[1m Optimizer params: \u001b[0m\u001b[38;5;34m203,542\u001b[0m (795.09 KB)\n"
            ],
            "text/html": [
              "<pre style=\"white-space:pre;overflow-x:auto;line-height:normal;font-family:Menlo,'DejaVu Sans Mono',consolas,'Courier New',monospace\"><span style=\"font-weight: bold\"> Optimizer params: </span><span style=\"color: #00af00; text-decoration-color: #00af00\">203,542</span> (795.09 KB)\n",
              "</pre>\n"
            ]
          },
          "metadata": {}
        }
      ]
    },
    {
      "cell_type": "code",
      "source": [],
      "metadata": {
        "id": "CwO0_k8YAF0Q"
      },
      "execution_count": null,
      "outputs": []
    }
  ]
}