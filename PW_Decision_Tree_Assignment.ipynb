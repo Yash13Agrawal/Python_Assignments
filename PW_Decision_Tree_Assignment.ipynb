{
  "cells": [
    {
      "cell_type": "markdown",
      "id": "8ca48d2f",
      "metadata": {
        "id": "8ca48d2f"
      },
      "source": [
        "# Decision Trees – Theoretical & Practical (Q&A)\n",
        "\n",
        "This notebook contains concise theoretical answers and runnable Python code for practical questions using **scikit-learn**."
      ]
    },
    {
      "cell_type": "markdown",
      "id": "1fa0acd9",
      "metadata": {
        "id": "1fa0acd9"
      },
      "source": [
        "## Theoretical"
      ]
    },
    {
      "cell_type": "markdown",
      "id": "45c30f21",
      "metadata": {
        "id": "45c30f21"
      },
      "source": [
        "**T1. What is a Decision Tree, and how does it work?**"
      ]
    },
    {
      "cell_type": "markdown",
      "id": "f16aa829",
      "metadata": {
        "id": "f16aa829"
      },
      "source": [
        "A Decision Tree is a supervised learning model that splits the feature space into regions using a series of **if–else** rules.\n",
        "Each internal node tests a feature (e.g., `petal_length ≤ 2.45`), branches represent outcomes, and leaves output a class (classification) or a value (regression).\n",
        "It selects splits greedily to maximize purity (minimize impurity) of the resulting child nodes."
      ]
    },
    {
      "cell_type": "markdown",
      "id": "106eb208",
      "metadata": {
        "id": "106eb208"
      },
      "source": [
        "**T2. What are impurity measures in Decision Trees?**"
      ]
    },
    {
      "cell_type": "markdown",
      "id": "978358f4",
      "metadata": {
        "id": "978358f4"
      },
      "source": [
        "Metrics that quantify how mixed the classes are in a node. Common measures: **Gini impurity**, **Entropy (Information Gain)**, and for regression **variance/MSE**."
      ]
    },
    {
      "cell_type": "markdown",
      "id": "fa3a77fb",
      "metadata": {
        "id": "fa3a77fb"
      },
      "source": [
        "**T3. What is the mathematical formula for Gini impurity?**"
      ]
    },
    {
      "cell_type": "markdown",
      "id": "ec4e6b66",
      "metadata": {
        "id": "ec4e6b66"
      },
      "source": [
        "For a node with class probabilities \\(p_k\\):  \n",
        "\\(\\displaystyle \\text{Gini}(t) = \\sum_{k=1}^{K} p_k(1-p_k) = 1 - \\sum_{k=1}^{K} p_k^2\\)."
      ]
    },
    {
      "cell_type": "markdown",
      "id": "633350a1",
      "metadata": {
        "id": "633350a1"
      },
      "source": [
        "**T4. What is the mathematical formula for Entropy?**"
      ]
    },
    {
      "cell_type": "markdown",
      "id": "08e24371",
      "metadata": {
        "id": "08e24371"
      },
      "source": [
        "For class probabilities \\(p_k\\):  \n",
        "\\(\\displaystyle H(t) = -\\sum_{k=1}^{K} p_k \\log_2 p_k\\) (define \\(0 \\log 0 = 0\\))."
      ]
    },
    {
      "cell_type": "markdown",
      "id": "a3e390ca",
      "metadata": {
        "id": "a3e390ca"
      },
      "source": [
        "**T5. What is Information Gain, and how is it used in Decision Trees?**"
      ]
    },
    {
      "cell_type": "markdown",
      "id": "0c038add",
      "metadata": {
        "id": "0c038add"
      },
      "source": [
        "Information Gain is the reduction in impurity after a split:  \n",
        "\\(\\text{IG} = \\text{Impurity(parent)} - \\sum_{j \\in \\{L,R\\}} \\frac{N_j}{N} \\text{Impurity}(j)\\).  \n",
        "Trees choose the feature/threshold with the **highest** IG (or equivalently the lowest weighted child impurity)."
      ]
    },
    {
      "cell_type": "markdown",
      "id": "20d187c4",
      "metadata": {
        "id": "20d187c4"
      },
      "source": [
        "**T6. Difference between Gini and Entropy?**"
      ]
    },
    {
      "cell_type": "markdown",
      "id": "d1de46d6",
      "metadata": {
        "id": "d1de46d6"
      },
      "source": [
        "Both measure node impurity and often yield similar trees. Gini is slightly faster (no log) and tends to isolate the most frequent class; Entropy is more information-theoretic and can be more sensitive to class distribution differences."
      ]
    },
    {
      "cell_type": "markdown",
      "id": "44976bb8",
      "metadata": {
        "id": "44976bb8"
      },
      "source": [
        "**T7. Mathematical explanation behind Decision Trees?**"
      ]
    },
    {
      "cell_type": "markdown",
      "id": "72464a12",
      "metadata": {
        "id": "72464a12"
      },
      "source": [
        "They perform a **greedy recursive binary partitioning** of the feature space. At each node, pick the split that minimizes expected impurity of children. The process continues until stopping criteria are met (e.g., max depth, min samples per leaf)."
      ]
    },
    {
      "cell_type": "markdown",
      "id": "99461c99",
      "metadata": {
        "id": "99461c99"
      },
      "source": [
        "**T8. What is Pre-Pruning in Decision Trees?**"
      ]
    },
    {
      "cell_type": "markdown",
      "id": "62ed2976",
      "metadata": {
        "id": "62ed2976"
      },
      "source": [
        "Stopping tree growth early via constraints like `max_depth`, `min_samples_split`, `min_samples_leaf`, or a minimum impurity decrease. Prevents overfitting by limiting complexity during training."
      ]
    },
    {
      "cell_type": "markdown",
      "id": "8f8c232e",
      "metadata": {
        "id": "8f8c232e"
      },
      "source": [
        "**T9. What is Post-Pruning in Decision Trees?**"
      ]
    },
    {
      "cell_type": "markdown",
      "id": "f26f12b9",
      "metadata": {
        "id": "f26f12b9"
      },
      "source": [
        "Grow a full tree and then **prune back** subtrees using a criterion such as **Cost-Complexity Pruning** (α-penalized tree size). Helps simplify the model after it potentially overfits."
      ]
    },
    {
      "cell_type": "markdown",
      "id": "29b6d2c8",
      "metadata": {
        "id": "29b6d2c8"
      },
      "source": [
        "**T10. What is the difference between Pre-Pruning and Post-Pruning?**"
      ]
    },
    {
      "cell_type": "markdown",
      "id": "5a26cd47",
      "metadata": {
        "id": "5a26cd47"
      },
      "source": [
        "Pre-pruning restricts growth **during** training; post-pruning **reduces** a grown tree afterward. Pre-pruning is cheaper but may underfit; post-pruning can better balance fit vs. complexity via validation but costs extra computation."
      ]
    },
    {
      "cell_type": "markdown",
      "id": "6e68c315",
      "metadata": {
        "id": "6e68c315"
      },
      "source": [
        "**T11. What is a Decision Tree Regressor?**"
      ]
    },
    {
      "cell_type": "markdown",
      "id": "1c27da37",
      "metadata": {
        "id": "1c27da37"
      },
      "source": [
        "A tree that predicts continuous values by minimizing squared error (variance) within leaves. Splits aim to reduce target variance; predictions are typically the mean of training targets in a leaf."
      ]
    },
    {
      "cell_type": "markdown",
      "id": "65b35c46",
      "metadata": {
        "id": "65b35c46"
      },
      "source": [
        "**T12. Advantages and disadvantages of Decision Trees?**"
      ]
    },
    {
      "cell_type": "markdown",
      "id": "18032529",
      "metadata": {
        "id": "18032529"
      },
      "source": [
        "**Advantages:** easy to interpret, little data prep, handles mixed types/nonlinear interactions, invariant to monotonic transforms.  \n",
        "**Disadvantages:** prone to overfitting, unstable to small data changes, biased toward features with many split points, lower predictive accuracy than ensembles (RF/GBMs)."
      ]
    },
    {
      "cell_type": "markdown",
      "id": "fe8408a0",
      "metadata": {
        "id": "fe8408a0"
      },
      "source": [
        "**T13. How does a Decision Tree handle missing values?**"
      ]
    },
    {
      "cell_type": "markdown",
      "id": "32b03db9",
      "metadata": {
        "id": "32b03db9"
      },
      "source": [
        "Scikit-learn trees require imputation beforehand. Some libraries support surrogate splits; otherwise typical approaches are **impute** (mean/median/mode), or add a missing-indicator feature."
      ]
    },
    {
      "cell_type": "markdown",
      "id": "4c7c5f9f",
      "metadata": {
        "id": "4c7c5f9f"
      },
      "source": [
        "**T14. How does a Decision Tree handle categorical features?**"
      ]
    },
    {
      "cell_type": "markdown",
      "id": "565a3e34",
      "metadata": {
        "id": "565a3e34"
      },
      "source": [
        "In scikit-learn, categorical features must be **encoded** (e.g., one-hot). Some libraries support native categorical splits; otherwise encode first."
      ]
    },
    {
      "cell_type": "markdown",
      "id": "57921808",
      "metadata": {
        "id": "57921808"
      },
      "source": [
        "**T15. What are some real-world applications of Decision Trees?**"
      ]
    },
    {
      "cell_type": "markdown",
      "id": "6fb96725",
      "metadata": {
        "id": "6fb96725"
      },
      "source": [
        "Credit risk, churn prediction, medical diagnosis, fraud detection, pricing, recommendation pre-modeling, customer segmentation, and as base learners in **Random Forests/Gradient Boosting**."
      ]
    },
    {
      "cell_type": "markdown",
      "id": "8fd8a17e",
      "metadata": {
        "id": "8fd8a17e"
      },
      "source": [
        "## Practical\n",
        "All code uses scikit-learn. Run the first setup cell once."
      ]
    },
    {
      "cell_type": "code",
      "execution_count": 1,
      "id": "ff11453f",
      "metadata": {
        "id": "ff11453f"
      },
      "outputs": [],
      "source": [
        "# Setup: install/ imports\n",
        "!pip -q install graphviz\n",
        "\n",
        "import numpy as np\n",
        "import pandas as pd\n",
        "import matplotlib.pyplot as plt\n",
        "import seaborn as sns\n",
        "\n",
        "from sklearn.datasets import load_iris, fetch_california_housing\n",
        "from sklearn.tree import DecisionTreeClassifier, DecisionTreeRegressor, plot_tree, export_graphviz\n",
        "from sklearn.model_selection import train_test_split, GridSearchCV\n",
        "from sklearn.metrics import accuracy_score, mean_squared_error, classification_report, confusion_matrix\n",
        "from sklearn.preprocessing import StandardScaler\n",
        "import graphviz\n",
        "\n",
        "np.random.seed(42)\n"
      ]
    },
    {
      "cell_type": "code",
      "execution_count": 2,
      "id": "f00515a3",
      "metadata": {
        "id": "f00515a3"
      },
      "outputs": [],
      "source": [
        "def show_feature_importances(model, feature_names, top=10):\n",
        "    importances = pd.Series(model.feature_importances_, index=feature_names).sort_values(ascending=False)\n",
        "    display(importances.head(top))"
      ]
    },
    {
      "cell_type": "markdown",
      "id": "1f2ae732",
      "metadata": {
        "id": "1f2ae732"
      },
      "source": [
        "**P16. Train a Decision Tree Classifier on the Iris dataset and print model accuracy.**"
      ]
    },
    {
      "cell_type": "code",
      "execution_count": 3,
      "id": "8682de68",
      "metadata": {
        "colab": {
          "base_uri": "https://localhost:8080/"
        },
        "id": "8682de68",
        "outputId": "a7702552-6d0f-4f30-e3c7-eda7bf83a446"
      },
      "outputs": [
        {
          "output_type": "stream",
          "name": "stdout",
          "text": [
            "Test Accuracy (Gini): 0.9333333333333333\n"
          ]
        }
      ],
      "source": [
        "iris = load_iris(as_frame=True)\n",
        "X, y = iris.data, iris.target\n",
        "X_train, X_test, y_train, y_test = train_test_split(X, y, test_size=0.2, stratify=y, random_state=42)\n",
        "\n",
        "clf_gini = DecisionTreeClassifier(criterion='gini', random_state=42)\n",
        "clf_gini.fit(X_train, y_train)\n",
        "pred = clf_gini.predict(X_test)\n",
        "acc = accuracy_score(y_test, pred)\n",
        "print(\"Test Accuracy (Gini):\", acc)"
      ]
    },
    {
      "cell_type": "markdown",
      "id": "76e82039",
      "metadata": {
        "id": "76e82039"
      },
      "source": [
        "**P17. Train Decision Tree Classifier using Gini and print feature importances.**"
      ]
    },
    {
      "cell_type": "code",
      "execution_count": 4,
      "id": "22582e31",
      "metadata": {
        "colab": {
          "base_uri": "https://localhost:8080/",
          "height": 209
        },
        "id": "22582e31",
        "outputId": "8de2bd63-1abe-4e0e-9ad5-0c61b2b790ad"
      },
      "outputs": [
        {
          "output_type": "display_data",
          "data": {
            "text/plain": [
              "petal length (cm)    0.558568\n",
              "petal width (cm)     0.406015\n",
              "sepal width (cm)     0.029167\n",
              "sepal length (cm)    0.006250\n",
              "dtype: float64"
            ],
            "text/html": [
              "<div>\n",
              "<style scoped>\n",
              "    .dataframe tbody tr th:only-of-type {\n",
              "        vertical-align: middle;\n",
              "    }\n",
              "\n",
              "    .dataframe tbody tr th {\n",
              "        vertical-align: top;\n",
              "    }\n",
              "\n",
              "    .dataframe thead th {\n",
              "        text-align: right;\n",
              "    }\n",
              "</style>\n",
              "<table border=\"1\" class=\"dataframe\">\n",
              "  <thead>\n",
              "    <tr style=\"text-align: right;\">\n",
              "      <th></th>\n",
              "      <th>0</th>\n",
              "    </tr>\n",
              "  </thead>\n",
              "  <tbody>\n",
              "    <tr>\n",
              "      <th>petal length (cm)</th>\n",
              "      <td>0.558568</td>\n",
              "    </tr>\n",
              "    <tr>\n",
              "      <th>petal width (cm)</th>\n",
              "      <td>0.406015</td>\n",
              "    </tr>\n",
              "    <tr>\n",
              "      <th>sepal width (cm)</th>\n",
              "      <td>0.029167</td>\n",
              "    </tr>\n",
              "    <tr>\n",
              "      <th>sepal length (cm)</th>\n",
              "      <td>0.006250</td>\n",
              "    </tr>\n",
              "  </tbody>\n",
              "</table>\n",
              "</div><br><label><b>dtype:</b> float64</label>"
            ]
          },
          "metadata": {}
        }
      ],
      "source": [
        "show_feature_importances(clf_gini, iris.feature_names)"
      ]
    },
    {
      "cell_type": "markdown",
      "id": "75041197",
      "metadata": {
        "id": "75041197"
      },
      "source": [
        "**P18. Train Decision Tree Classifier using Entropy and print model accuracy.**"
      ]
    },
    {
      "cell_type": "code",
      "execution_count": 5,
      "id": "e279dffc",
      "metadata": {
        "colab": {
          "base_uri": "https://localhost:8080/"
        },
        "id": "e279dffc",
        "outputId": "ba2ee969-7ad0-4fda-f0ce-bb711a8d4595"
      },
      "outputs": [
        {
          "output_type": "stream",
          "name": "stdout",
          "text": [
            "Test Accuracy (Entropy): 0.9333333333333333\n"
          ]
        }
      ],
      "source": [
        "clf_entropy = DecisionTreeClassifier(criterion='entropy', random_state=42)\n",
        "clf_entropy.fit(X_train, y_train)\n",
        "pred_e = clf_entropy.predict(X_test)\n",
        "print(\"Test Accuracy (Entropy):\", accuracy_score(y_test, pred_e))"
      ]
    },
    {
      "cell_type": "markdown",
      "id": "65cae2a2",
      "metadata": {
        "id": "65cae2a2"
      },
      "source": [
        "**P19. Train a Decision Tree Regressor on a housing dataset and evaluate MSE.**"
      ]
    },
    {
      "cell_type": "code",
      "execution_count": 6,
      "id": "9cce4fc2",
      "metadata": {
        "colab": {
          "base_uri": "https://localhost:8080/"
        },
        "id": "9cce4fc2",
        "outputId": "bc4cd452-d510-4d03-8c14-caf7c48e1ab2"
      },
      "outputs": [
        {
          "output_type": "stream",
          "name": "stdout",
          "text": [
            "Decision Tree Regressor MSE: 0.495235205629094\n"
          ]
        }
      ],
      "source": [
        "housing = fetch_california_housing(as_frame=True)\n",
        "Xh, yh = housing.data, housing.target\n",
        "Xh_train, Xh_test, yh_train, yh_test = train_test_split(Xh, yh, test_size=0.2, random_state=42)\n",
        "reg = DecisionTreeRegressor(random_state=42)\n",
        "reg.fit(Xh_train, yh_train)\n",
        "pred_h = reg.predict(Xh_test)\n",
        "print(\"Decision Tree Regressor MSE:\", mean_squared_error(yh_test, pred_h))"
      ]
    },
    {
      "cell_type": "markdown",
      "id": "cc0dd71b",
      "metadata": {
        "id": "cc0dd71b"
      },
      "source": [
        "**P20. Train a Decision Tree Classifier and visualize using graphviz.**"
      ]
    },
    {
      "cell_type": "code",
      "execution_count": 7,
      "id": "82ca6b47",
      "metadata": {
        "colab": {
          "base_uri": "https://localhost:8080/",
          "height": 916
        },
        "id": "82ca6b47",
        "outputId": "4464b75a-319b-42fa-d036-ed8c4d53f27b"
      },
      "outputs": [
        {
          "output_type": "execute_result",
          "data": {
            "image/svg+xml": "<?xml version=\"1.0\" encoding=\"UTF-8\" standalone=\"no\"?>\n<!DOCTYPE svg PUBLIC \"-//W3C//DTD SVG 1.1//EN\"\n \"http://www.w3.org/Graphics/SVG/1.1/DTD/svg11.dtd\">\n<!-- Generated by graphviz version 2.43.0 (0)\n -->\n<!-- Title: Tree Pages: 1 -->\n<svg width=\"658pt\" height=\"671pt\"\n viewBox=\"0.00 0.00 658.00 671.00\" xmlns=\"http://www.w3.org/2000/svg\" xmlns:xlink=\"http://www.w3.org/1999/xlink\">\n<g id=\"graph0\" class=\"graph\" transform=\"scale(1 1) rotate(0) translate(4 667)\">\n<title>Tree</title>\n<polygon fill=\"white\" stroke=\"transparent\" points=\"-4,4 -4,-667 654,-667 654,4 -4,4\"/>\n<!-- 0 -->\n<g id=\"node1\" class=\"node\">\n<title>0</title>\n<path fill=\"#ffffff\" stroke=\"black\" d=\"M343,-663C343,-663 208,-663 208,-663 202,-663 196,-657 196,-651 196,-651 196,-592 196,-592 196,-586 202,-580 208,-580 208,-580 343,-580 343,-580 349,-580 355,-586 355,-592 355,-592 355,-651 355,-651 355,-657 349,-663 343,-663\"/>\n<text text-anchor=\"start\" x=\"204\" y=\"-647.8\" font-family=\"Helvetica,sans-Serif\" font-size=\"14.00\">petal length (cm) ≤ 2.45</text>\n<text text-anchor=\"start\" x=\"240\" y=\"-632.8\" font-family=\"Helvetica,sans-Serif\" font-size=\"14.00\">gini = 0.667</text>\n<text text-anchor=\"start\" x=\"230.5\" y=\"-617.8\" font-family=\"Helvetica,sans-Serif\" font-size=\"14.00\">samples = 120</text>\n<text text-anchor=\"start\" x=\"217.5\" y=\"-602.8\" font-family=\"Helvetica,sans-Serif\" font-size=\"14.00\">value = [40, 40, 40]</text>\n<text text-anchor=\"start\" x=\"232\" y=\"-587.8\" font-family=\"Helvetica,sans-Serif\" font-size=\"14.00\">class = setosa</text>\n</g>\n<!-- 1 -->\n<g id=\"node2\" class=\"node\">\n<title>1</title>\n<path fill=\"#e58139\" stroke=\"black\" d=\"M245,-536.5C245,-536.5 152,-536.5 152,-536.5 146,-536.5 140,-530.5 140,-524.5 140,-524.5 140,-480.5 140,-480.5 140,-474.5 146,-468.5 152,-468.5 152,-468.5 245,-468.5 245,-468.5 251,-468.5 257,-474.5 257,-480.5 257,-480.5 257,-524.5 257,-524.5 257,-530.5 251,-536.5 245,-536.5\"/>\n<text text-anchor=\"start\" x=\"170.5\" y=\"-521.3\" font-family=\"Helvetica,sans-Serif\" font-size=\"14.00\">gini = 0.0</text>\n<text text-anchor=\"start\" x=\"157.5\" y=\"-506.3\" font-family=\"Helvetica,sans-Serif\" font-size=\"14.00\">samples = 40</text>\n<text text-anchor=\"start\" x=\"148\" y=\"-491.3\" font-family=\"Helvetica,sans-Serif\" font-size=\"14.00\">value = [40, 0, 0]</text>\n<text text-anchor=\"start\" x=\"155\" y=\"-476.3\" font-family=\"Helvetica,sans-Serif\" font-size=\"14.00\">class = setosa</text>\n</g>\n<!-- 0&#45;&gt;1 -->\n<g id=\"edge1\" class=\"edge\">\n<title>0&#45;&gt;1</title>\n<path fill=\"none\" stroke=\"black\" d=\"M248.79,-579.91C241.38,-568.65 233.33,-556.42 225.88,-545.11\"/>\n<polygon fill=\"black\" stroke=\"black\" points=\"228.75,-543.1 220.33,-536.67 222.9,-546.94 228.75,-543.1\"/>\n<text text-anchor=\"middle\" x=\"215.28\" y=\"-557.45\" font-family=\"Helvetica,sans-Serif\" font-size=\"14.00\">True</text>\n</g>\n<!-- 2 -->\n<g id=\"node3\" class=\"node\">\n<title>2</title>\n<path fill=\"#ffffff\" stroke=\"black\" d=\"M417.5,-544C417.5,-544 287.5,-544 287.5,-544 281.5,-544 275.5,-538 275.5,-532 275.5,-532 275.5,-473 275.5,-473 275.5,-467 281.5,-461 287.5,-461 287.5,-461 417.5,-461 417.5,-461 423.5,-461 429.5,-467 429.5,-473 429.5,-473 429.5,-532 429.5,-532 429.5,-538 423.5,-544 417.5,-544\"/>\n<text text-anchor=\"start\" x=\"283.5\" y=\"-528.8\" font-family=\"Helvetica,sans-Serif\" font-size=\"14.00\">petal width (cm) ≤ 1.65</text>\n<text text-anchor=\"start\" x=\"324.5\" y=\"-513.8\" font-family=\"Helvetica,sans-Serif\" font-size=\"14.00\">gini = 0.5</text>\n<text text-anchor=\"start\" x=\"311.5\" y=\"-498.8\" font-family=\"Helvetica,sans-Serif\" font-size=\"14.00\">samples = 80</text>\n<text text-anchor=\"start\" x=\"298\" y=\"-483.8\" font-family=\"Helvetica,sans-Serif\" font-size=\"14.00\">value = [0, 40, 40]</text>\n<text text-anchor=\"start\" x=\"300\" y=\"-468.8\" font-family=\"Helvetica,sans-Serif\" font-size=\"14.00\">class = versicolor</text>\n</g>\n<!-- 0&#45;&gt;2 -->\n<g id=\"edge2\" class=\"edge\">\n<title>0&#45;&gt;2</title>\n<path fill=\"none\" stroke=\"black\" d=\"M302.21,-579.91C308.01,-571.1 314.2,-561.7 320.18,-552.61\"/>\n<polygon fill=\"black\" stroke=\"black\" points=\"323.26,-554.3 325.83,-544.02 317.41,-550.45 323.26,-554.3\"/>\n<text text-anchor=\"middle\" x=\"330.88\" y=\"-564.81\" font-family=\"Helvetica,sans-Serif\" font-size=\"14.00\">False</text>\n</g>\n<!-- 3 -->\n<g id=\"node4\" class=\"node\">\n<title>3</title>\n<path fill=\"#48e78b\" stroke=\"black\" d=\"M332,-425C332,-425 197,-425 197,-425 191,-425 185,-419 185,-413 185,-413 185,-354 185,-354 185,-348 191,-342 197,-342 197,-342 332,-342 332,-342 338,-342 344,-348 344,-354 344,-354 344,-413 344,-413 344,-419 338,-425 332,-425\"/>\n<text text-anchor=\"start\" x=\"193\" y=\"-409.8\" font-family=\"Helvetica,sans-Serif\" font-size=\"14.00\">petal length (cm) ≤ 4.95</text>\n<text text-anchor=\"start\" x=\"229\" y=\"-394.8\" font-family=\"Helvetica,sans-Serif\" font-size=\"14.00\">gini = 0.133</text>\n<text text-anchor=\"start\" x=\"223.5\" y=\"-379.8\" font-family=\"Helvetica,sans-Serif\" font-size=\"14.00\">samples = 42</text>\n<text text-anchor=\"start\" x=\"214\" y=\"-364.8\" font-family=\"Helvetica,sans-Serif\" font-size=\"14.00\">value = [0, 39, 3]</text>\n<text text-anchor=\"start\" x=\"212\" y=\"-349.8\" font-family=\"Helvetica,sans-Serif\" font-size=\"14.00\">class = versicolor</text>\n</g>\n<!-- 2&#45;&gt;3 -->\n<g id=\"edge3\" class=\"edge\">\n<title>2&#45;&gt;3</title>\n<path fill=\"none\" stroke=\"black\" d=\"M321.97,-460.91C315.21,-451.92 307.98,-442.32 301.02,-433.05\"/>\n<polygon fill=\"black\" stroke=\"black\" points=\"303.79,-430.91 294.98,-425.02 298.19,-435.12 303.79,-430.91\"/>\n</g>\n<!-- 10 -->\n<g id=\"node11\" class=\"node\">\n<title>10</title>\n<path fill=\"#843ee6\" stroke=\"black\" d=\"M509,-425C509,-425 374,-425 374,-425 368,-425 362,-419 362,-413 362,-413 362,-354 362,-354 362,-348 368,-342 374,-342 374,-342 509,-342 509,-342 515,-342 521,-348 521,-354 521,-354 521,-413 521,-413 521,-419 515,-425 509,-425\"/>\n<text text-anchor=\"start\" x=\"370\" y=\"-409.8\" font-family=\"Helvetica,sans-Serif\" font-size=\"14.00\">petal length (cm) ≤ 4.85</text>\n<text text-anchor=\"start\" x=\"406\" y=\"-394.8\" font-family=\"Helvetica,sans-Serif\" font-size=\"14.00\">gini = 0.051</text>\n<text text-anchor=\"start\" x=\"400.5\" y=\"-379.8\" font-family=\"Helvetica,sans-Serif\" font-size=\"14.00\">samples = 38</text>\n<text text-anchor=\"start\" x=\"391\" y=\"-364.8\" font-family=\"Helvetica,sans-Serif\" font-size=\"14.00\">value = [0, 1, 37]</text>\n<text text-anchor=\"start\" x=\"393\" y=\"-349.8\" font-family=\"Helvetica,sans-Serif\" font-size=\"14.00\">class = virginica</text>\n</g>\n<!-- 2&#45;&gt;10 -->\n<g id=\"edge10\" class=\"edge\">\n<title>2&#45;&gt;10</title>\n<path fill=\"none\" stroke=\"black\" d=\"M383.38,-460.91C390.21,-451.92 397.52,-442.32 404.57,-433.05\"/>\n<polygon fill=\"black\" stroke=\"black\" points=\"407.41,-435.1 410.68,-425.02 401.84,-430.86 407.41,-435.1\"/>\n</g>\n<!-- 4 -->\n<g id=\"node5\" class=\"node\">\n<title>4</title>\n<path fill=\"#39e581\" stroke=\"black\" d=\"M154,-298.5C154,-298.5 57,-298.5 57,-298.5 51,-298.5 45,-292.5 45,-286.5 45,-286.5 45,-242.5 45,-242.5 45,-236.5 51,-230.5 57,-230.5 57,-230.5 154,-230.5 154,-230.5 160,-230.5 166,-236.5 166,-242.5 166,-242.5 166,-286.5 166,-286.5 166,-292.5 160,-298.5 154,-298.5\"/>\n<text text-anchor=\"start\" x=\"77.5\" y=\"-283.3\" font-family=\"Helvetica,sans-Serif\" font-size=\"14.00\">gini = 0.0</text>\n<text text-anchor=\"start\" x=\"64.5\" y=\"-268.3\" font-family=\"Helvetica,sans-Serif\" font-size=\"14.00\">samples = 38</text>\n<text text-anchor=\"start\" x=\"55\" y=\"-253.3\" font-family=\"Helvetica,sans-Serif\" font-size=\"14.00\">value = [0, 38, 0]</text>\n<text text-anchor=\"start\" x=\"53\" y=\"-238.3\" font-family=\"Helvetica,sans-Serif\" font-size=\"14.00\">class = versicolor</text>\n</g>\n<!-- 3&#45;&gt;4 -->\n<g id=\"edge4\" class=\"edge\">\n<title>3&#45;&gt;4</title>\n<path fill=\"none\" stroke=\"black\" d=\"M209.34,-341.91C192.99,-329.88 175.13,-316.73 158.9,-304.79\"/>\n<polygon fill=\"black\" stroke=\"black\" points=\"160.7,-301.77 150.57,-298.67 156.55,-307.41 160.7,-301.77\"/>\n</g>\n<!-- 5 -->\n<g id=\"node6\" class=\"node\">\n<title>5</title>\n<path fill=\"#ab7bee\" stroke=\"black\" d=\"M334.5,-306C334.5,-306 196.5,-306 196.5,-306 190.5,-306 184.5,-300 184.5,-294 184.5,-294 184.5,-235 184.5,-235 184.5,-229 190.5,-223 196.5,-223 196.5,-223 334.5,-223 334.5,-223 340.5,-223 346.5,-229 346.5,-235 346.5,-235 346.5,-294 346.5,-294 346.5,-300 340.5,-306 334.5,-306\"/>\n<text text-anchor=\"start\" x=\"192.5\" y=\"-290.8\" font-family=\"Helvetica,sans-Serif\" font-size=\"14.00\">sepal length (cm) ≤ 6.15</text>\n<text text-anchor=\"start\" x=\"230\" y=\"-275.8\" font-family=\"Helvetica,sans-Serif\" font-size=\"14.00\">gini = 0.375</text>\n<text text-anchor=\"start\" x=\"228\" y=\"-260.8\" font-family=\"Helvetica,sans-Serif\" font-size=\"14.00\">samples = 4</text>\n<text text-anchor=\"start\" x=\"218.5\" y=\"-245.8\" font-family=\"Helvetica,sans-Serif\" font-size=\"14.00\">value = [0, 1, 3]</text>\n<text text-anchor=\"start\" x=\"217\" y=\"-230.8\" font-family=\"Helvetica,sans-Serif\" font-size=\"14.00\">class = virginica</text>\n</g>\n<!-- 3&#45;&gt;5 -->\n<g id=\"edge5\" class=\"edge\">\n<title>3&#45;&gt;5</title>\n<path fill=\"none\" stroke=\"black\" d=\"M264.85,-341.91C264.92,-333.65 264.99,-324.86 265.07,-316.3\"/>\n<polygon fill=\"black\" stroke=\"black\" points=\"268.57,-316.05 265.15,-306.02 261.57,-315.99 268.57,-316.05\"/>\n</g>\n<!-- 6 -->\n<g id=\"node7\" class=\"node\">\n<title>6</title>\n<path fill=\"#ffffff\" stroke=\"black\" d=\"M190,-187C190,-187 57,-187 57,-187 51,-187 45,-181 45,-175 45,-175 45,-116 45,-116 45,-110 51,-104 57,-104 57,-104 190,-104 190,-104 196,-104 202,-110 202,-116 202,-116 202,-175 202,-175 202,-181 196,-187 190,-187\"/>\n<text text-anchor=\"start\" x=\"53\" y=\"-171.8\" font-family=\"Helvetica,sans-Serif\" font-size=\"14.00\">sepal width (cm) ≤ 2.45</text>\n<text text-anchor=\"start\" x=\"95.5\" y=\"-156.8\" font-family=\"Helvetica,sans-Serif\" font-size=\"14.00\">gini = 0.5</text>\n<text text-anchor=\"start\" x=\"86\" y=\"-141.8\" font-family=\"Helvetica,sans-Serif\" font-size=\"14.00\">samples = 2</text>\n<text text-anchor=\"start\" x=\"76.5\" y=\"-126.8\" font-family=\"Helvetica,sans-Serif\" font-size=\"14.00\">value = [0, 1, 1]</text>\n<text text-anchor=\"start\" x=\"71\" y=\"-111.8\" font-family=\"Helvetica,sans-Serif\" font-size=\"14.00\">class = versicolor</text>\n</g>\n<!-- 5&#45;&gt;6 -->\n<g id=\"edge6\" class=\"edge\">\n<title>5&#45;&gt;6</title>\n<path fill=\"none\" stroke=\"black\" d=\"M216.23,-222.91C204.78,-213.47 192.49,-203.34 180.72,-193.65\"/>\n<polygon fill=\"black\" stroke=\"black\" points=\"182.62,-190.68 172.68,-187.02 178.17,-196.08 182.62,-190.68\"/>\n</g>\n<!-- 9 -->\n<g id=\"node10\" class=\"node\">\n<title>9</title>\n<path fill=\"#8139e5\" stroke=\"black\" d=\"M321,-179.5C321,-179.5 232,-179.5 232,-179.5 226,-179.5 220,-173.5 220,-167.5 220,-167.5 220,-123.5 220,-123.5 220,-117.5 226,-111.5 232,-111.5 232,-111.5 321,-111.5 321,-111.5 327,-111.5 333,-117.5 333,-123.5 333,-123.5 333,-167.5 333,-167.5 333,-173.5 327,-179.5 321,-179.5\"/>\n<text text-anchor=\"start\" x=\"248.5\" y=\"-164.3\" font-family=\"Helvetica,sans-Serif\" font-size=\"14.00\">gini = 0.0</text>\n<text text-anchor=\"start\" x=\"239\" y=\"-149.3\" font-family=\"Helvetica,sans-Serif\" font-size=\"14.00\">samples = 2</text>\n<text text-anchor=\"start\" x=\"229.5\" y=\"-134.3\" font-family=\"Helvetica,sans-Serif\" font-size=\"14.00\">value = [0, 0, 2]</text>\n<text text-anchor=\"start\" x=\"228\" y=\"-119.3\" font-family=\"Helvetica,sans-Serif\" font-size=\"14.00\">class = virginica</text>\n</g>\n<!-- 5&#45;&gt;9 -->\n<g id=\"edge9\" class=\"edge\">\n<title>5&#45;&gt;9</title>\n<path fill=\"none\" stroke=\"black\" d=\"M269.32,-222.91C270.32,-212.2 271.41,-200.62 272.43,-189.78\"/>\n<polygon fill=\"black\" stroke=\"black\" points=\"275.93,-189.95 273.38,-179.67 268.96,-189.3 275.93,-189.95\"/>\n</g>\n<!-- 7 -->\n<g id=\"node8\" class=\"node\">\n<title>7</title>\n<path fill=\"#8139e5\" stroke=\"black\" d=\"M101,-68C101,-68 12,-68 12,-68 6,-68 0,-62 0,-56 0,-56 0,-12 0,-12 0,-6 6,0 12,0 12,0 101,0 101,0 107,0 113,-6 113,-12 113,-12 113,-56 113,-56 113,-62 107,-68 101,-68\"/>\n<text text-anchor=\"start\" x=\"28.5\" y=\"-52.8\" font-family=\"Helvetica,sans-Serif\" font-size=\"14.00\">gini = 0.0</text>\n<text text-anchor=\"start\" x=\"19\" y=\"-37.8\" font-family=\"Helvetica,sans-Serif\" font-size=\"14.00\">samples = 1</text>\n<text text-anchor=\"start\" x=\"9.5\" y=\"-22.8\" font-family=\"Helvetica,sans-Serif\" font-size=\"14.00\">value = [0, 0, 1]</text>\n<text text-anchor=\"start\" x=\"8\" y=\"-7.8\" font-family=\"Helvetica,sans-Serif\" font-size=\"14.00\">class = virginica</text>\n</g>\n<!-- 6&#45;&gt;7 -->\n<g id=\"edge7\" class=\"edge\">\n<title>6&#45;&gt;7</title>\n<path fill=\"none\" stroke=\"black\" d=\"M98.55,-103.73C93.19,-94.97 87.52,-85.7 82.14,-76.91\"/>\n<polygon fill=\"black\" stroke=\"black\" points=\"85.08,-75 76.88,-68.3 79.11,-78.66 85.08,-75\"/>\n</g>\n<!-- 8 -->\n<g id=\"node9\" class=\"node\">\n<title>8</title>\n<path fill=\"#39e581\" stroke=\"black\" d=\"M240,-68C240,-68 143,-68 143,-68 137,-68 131,-62 131,-56 131,-56 131,-12 131,-12 131,-6 137,0 143,0 143,0 240,0 240,0 246,0 252,-6 252,-12 252,-12 252,-56 252,-56 252,-62 246,-68 240,-68\"/>\n<text text-anchor=\"start\" x=\"163.5\" y=\"-52.8\" font-family=\"Helvetica,sans-Serif\" font-size=\"14.00\">gini = 0.0</text>\n<text text-anchor=\"start\" x=\"154\" y=\"-37.8\" font-family=\"Helvetica,sans-Serif\" font-size=\"14.00\">samples = 1</text>\n<text text-anchor=\"start\" x=\"144.5\" y=\"-22.8\" font-family=\"Helvetica,sans-Serif\" font-size=\"14.00\">value = [0, 1, 0]</text>\n<text text-anchor=\"start\" x=\"139\" y=\"-7.8\" font-family=\"Helvetica,sans-Serif\" font-size=\"14.00\">class = versicolor</text>\n</g>\n<!-- 6&#45;&gt;8 -->\n<g id=\"edge8\" class=\"edge\">\n<title>6&#45;&gt;8</title>\n<path fill=\"none\" stroke=\"black\" d=\"M148.82,-103.73C154.26,-94.97 160.01,-85.7 165.48,-76.91\"/>\n<polygon fill=\"black\" stroke=\"black\" points=\"168.52,-78.64 170.82,-68.3 162.57,-74.95 168.52,-78.64\"/>\n</g>\n<!-- 11 -->\n<g id=\"node12\" class=\"node\">\n<title>11</title>\n<path fill=\"#c09cf2\" stroke=\"black\" d=\"M503,-306C503,-306 378,-306 378,-306 372,-306 366,-300 366,-294 366,-294 366,-235 366,-235 366,-229 372,-223 378,-223 378,-223 503,-223 503,-223 509,-223 515,-229 515,-235 515,-235 515,-294 515,-294 515,-300 509,-306 503,-306\"/>\n<text text-anchor=\"start\" x=\"374\" y=\"-290.8\" font-family=\"Helvetica,sans-Serif\" font-size=\"14.00\">sepal width (cm) ≤ 3.0</text>\n<text text-anchor=\"start\" x=\"405\" y=\"-275.8\" font-family=\"Helvetica,sans-Serif\" font-size=\"14.00\">gini = 0.444</text>\n<text text-anchor=\"start\" x=\"403\" y=\"-260.8\" font-family=\"Helvetica,sans-Serif\" font-size=\"14.00\">samples = 3</text>\n<text text-anchor=\"start\" x=\"393.5\" y=\"-245.8\" font-family=\"Helvetica,sans-Serif\" font-size=\"14.00\">value = [0, 1, 2]</text>\n<text text-anchor=\"start\" x=\"392\" y=\"-230.8\" font-family=\"Helvetica,sans-Serif\" font-size=\"14.00\">class = virginica</text>\n</g>\n<!-- 10&#45;&gt;11 -->\n<g id=\"edge11\" class=\"edge\">\n<title>10&#45;&gt;11</title>\n<path fill=\"none\" stroke=\"black\" d=\"M441.15,-341.91C441.08,-333.65 441.01,-324.86 440.93,-316.3\"/>\n<polygon fill=\"black\" stroke=\"black\" points=\"444.43,-315.99 440.85,-306.02 437.43,-316.05 444.43,-315.99\"/>\n</g>\n<!-- 14 -->\n<g id=\"node15\" class=\"node\">\n<title>14</title>\n<path fill=\"#8139e5\" stroke=\"black\" d=\"M638,-298.5C638,-298.5 545,-298.5 545,-298.5 539,-298.5 533,-292.5 533,-286.5 533,-286.5 533,-242.5 533,-242.5 533,-236.5 539,-230.5 545,-230.5 545,-230.5 638,-230.5 638,-230.5 644,-230.5 650,-236.5 650,-242.5 650,-242.5 650,-286.5 650,-286.5 650,-292.5 644,-298.5 638,-298.5\"/>\n<text text-anchor=\"start\" x=\"563.5\" y=\"-283.3\" font-family=\"Helvetica,sans-Serif\" font-size=\"14.00\">gini = 0.0</text>\n<text text-anchor=\"start\" x=\"550.5\" y=\"-268.3\" font-family=\"Helvetica,sans-Serif\" font-size=\"14.00\">samples = 35</text>\n<text text-anchor=\"start\" x=\"541\" y=\"-253.3\" font-family=\"Helvetica,sans-Serif\" font-size=\"14.00\">value = [0, 0, 35]</text>\n<text text-anchor=\"start\" x=\"543\" y=\"-238.3\" font-family=\"Helvetica,sans-Serif\" font-size=\"14.00\">class = virginica</text>\n</g>\n<!-- 10&#45;&gt;14 -->\n<g id=\"edge14\" class=\"edge\">\n<title>10&#45;&gt;14</title>\n<path fill=\"none\" stroke=\"black\" d=\"M493.54,-341.91C508.82,-329.99 525.51,-316.98 540.71,-305.12\"/>\n<polygon fill=\"black\" stroke=\"black\" points=\"543.25,-307.58 548.98,-298.67 538.94,-302.06 543.25,-307.58\"/>\n</g>\n<!-- 12 -->\n<g id=\"node13\" class=\"node\">\n<title>12</title>\n<path fill=\"#8139e5\" stroke=\"black\" d=\"M475,-179.5C475,-179.5 386,-179.5 386,-179.5 380,-179.5 374,-173.5 374,-167.5 374,-167.5 374,-123.5 374,-123.5 374,-117.5 380,-111.5 386,-111.5 386,-111.5 475,-111.5 475,-111.5 481,-111.5 487,-117.5 487,-123.5 487,-123.5 487,-167.5 487,-167.5 487,-173.5 481,-179.5 475,-179.5\"/>\n<text text-anchor=\"start\" x=\"402.5\" y=\"-164.3\" font-family=\"Helvetica,sans-Serif\" font-size=\"14.00\">gini = 0.0</text>\n<text text-anchor=\"start\" x=\"393\" y=\"-149.3\" font-family=\"Helvetica,sans-Serif\" font-size=\"14.00\">samples = 2</text>\n<text text-anchor=\"start\" x=\"383.5\" y=\"-134.3\" font-family=\"Helvetica,sans-Serif\" font-size=\"14.00\">value = [0, 0, 2]</text>\n<text text-anchor=\"start\" x=\"382\" y=\"-119.3\" font-family=\"Helvetica,sans-Serif\" font-size=\"14.00\">class = virginica</text>\n</g>\n<!-- 11&#45;&gt;12 -->\n<g id=\"edge12\" class=\"edge\">\n<title>11&#45;&gt;12</title>\n<path fill=\"none\" stroke=\"black\" d=\"M437.03,-222.91C436.12,-212.2 435.13,-200.62 434.2,-189.78\"/>\n<polygon fill=\"black\" stroke=\"black\" points=\"437.67,-189.33 433.33,-179.67 430.7,-189.93 437.67,-189.33\"/>\n</g>\n<!-- 13 -->\n<g id=\"node14\" class=\"node\">\n<title>13</title>\n<path fill=\"#39e581\" stroke=\"black\" d=\"M614,-179.5C614,-179.5 517,-179.5 517,-179.5 511,-179.5 505,-173.5 505,-167.5 505,-167.5 505,-123.5 505,-123.5 505,-117.5 511,-111.5 517,-111.5 517,-111.5 614,-111.5 614,-111.5 620,-111.5 626,-117.5 626,-123.5 626,-123.5 626,-167.5 626,-167.5 626,-173.5 620,-179.5 614,-179.5\"/>\n<text text-anchor=\"start\" x=\"537.5\" y=\"-164.3\" font-family=\"Helvetica,sans-Serif\" font-size=\"14.00\">gini = 0.0</text>\n<text text-anchor=\"start\" x=\"528\" y=\"-149.3\" font-family=\"Helvetica,sans-Serif\" font-size=\"14.00\">samples = 1</text>\n<text text-anchor=\"start\" x=\"518.5\" y=\"-134.3\" font-family=\"Helvetica,sans-Serif\" font-size=\"14.00\">value = [0, 1, 0]</text>\n<text text-anchor=\"start\" x=\"513\" y=\"-119.3\" font-family=\"Helvetica,sans-Serif\" font-size=\"14.00\">class = versicolor</text>\n</g>\n<!-- 11&#45;&gt;13 -->\n<g id=\"edge13\" class=\"edge\">\n<title>11&#45;&gt;13</title>\n<path fill=\"none\" stroke=\"black\" d=\"M483.87,-222.91C496.36,-211.21 509.99,-198.46 522.47,-186.78\"/>\n<polygon fill=\"black\" stroke=\"black\" points=\"525.16,-189.06 530.07,-179.67 520.37,-183.95 525.16,-189.06\"/>\n</g>\n</g>\n</svg>\n",
            "text/plain": [
              "<graphviz.sources.Source at 0x78dacc3ecda0>"
            ]
          },
          "metadata": {},
          "execution_count": 7
        }
      ],
      "source": [
        "dot = export_graphviz(clf_gini, out_file=None,\n",
        "                     feature_names=iris.feature_names,\n",
        "                     class_names=iris.target_names,\n",
        "                     filled=True, rounded=True, special_characters=True)\n",
        "graph = graphviz.Source(dot)\n",
        "graph"
      ]
    },
    {
      "cell_type": "markdown",
      "id": "adf34cfb",
      "metadata": {
        "id": "adf34cfb"
      },
      "source": [
        "**P21. Decision Tree with `max_depth=3` vs default; compare accuracy.**"
      ]
    },
    {
      "cell_type": "code",
      "execution_count": 8,
      "id": "95e8d80b",
      "metadata": {
        "colab": {
          "base_uri": "https://localhost:8080/"
        },
        "id": "95e8d80b",
        "outputId": "781ee0bf-bd78-42d6-f27a-638f58ae5214"
      },
      "outputs": [
        {
          "output_type": "stream",
          "name": "stdout",
          "text": [
            "Accuracy (max_depth=3): 0.9666666666666667\n",
            "Accuracy (unrestricted - Gini): 0.9333333333333333\n"
          ]
        }
      ],
      "source": [
        "clf_depth3 = DecisionTreeClassifier(max_depth=3, random_state=42)\n",
        "clf_depth3.fit(X_train, y_train)\n",
        "acc_depth3 = accuracy_score(y_test, clf_depth3.predict(X_test))\n",
        "print(\"Accuracy (max_depth=3):\", acc_depth3)\n",
        "print(\"Accuracy (unrestricted - Gini):\", acc)"
      ]
    },
    {
      "cell_type": "markdown",
      "id": "fb9add7b",
      "metadata": {
        "id": "fb9add7b"
      },
      "source": [
        "**P22. Decision Tree with `min_samples_split=5` vs default.**"
      ]
    },
    {
      "cell_type": "code",
      "execution_count": 9,
      "id": "a3a5aeb6",
      "metadata": {
        "colab": {
          "base_uri": "https://localhost:8080/"
        },
        "id": "a3a5aeb6",
        "outputId": "1dbba4d7-0fd1-43c6-fc94-99341b77a857"
      },
      "outputs": [
        {
          "output_type": "stream",
          "name": "stdout",
          "text": [
            "Accuracy (min_samples_split=5): 0.9666666666666667\n",
            "Accuracy (default - Gini): 0.9333333333333333\n"
          ]
        }
      ],
      "source": [
        "clf_mss5 = DecisionTreeClassifier(min_samples_split=5, random_state=42)\n",
        "clf_mss5.fit(X_train, y_train)\n",
        "print(\"Accuracy (min_samples_split=5):\", accuracy_score(y_test, clf_mss5.predict(X_test)))\n",
        "print(\"Accuracy (default - Gini):\", acc)"
      ]
    },
    {
      "cell_type": "markdown",
      "id": "15cbfcd0",
      "metadata": {
        "id": "15cbfcd0"
      },
      "source": [
        "**P23. Apply feature scaling before training and compare accuracy with unscaled data.**"
      ]
    },
    {
      "cell_type": "code",
      "execution_count": 10,
      "id": "e68b2216",
      "metadata": {
        "colab": {
          "base_uri": "https://localhost:8080/"
        },
        "id": "e68b2216",
        "outputId": "71eb6920-fffb-490f-fb69-b5674365ebb0"
      },
      "outputs": [
        {
          "output_type": "stream",
          "name": "stdout",
          "text": [
            "Accuracy (scaled): 0.9333333333333333\n",
            "Accuracy (unscaled - Gini): 0.9333333333333333\n"
          ]
        }
      ],
      "source": [
        "scaler = StandardScaler()\n",
        "Xs = scaler.fit_transform(X)\n",
        "Xs_train, Xs_test, ys_train, ys_test = train_test_split(Xs, y, test_size=0.2, stratify=y, random_state=42)\n",
        "clf_scaled = DecisionTreeClassifier(random_state=42).fit(Xs_train, ys_train)\n",
        "print(\"Accuracy (scaled):\", accuracy_score(ys_test, clf_scaled.predict(Xs_test)))\n",
        "print(\"Accuracy (unscaled - Gini):\", acc)\n",
        "# Note: Trees are scale-invariant; accuracies should be similar.\n"
      ]
    },
    {
      "cell_type": "markdown",
      "id": "61cfeba0",
      "metadata": {
        "id": "61cfeba0"
      },
      "source": [
        "**P24. Train Decision Tree Classifier using One-vs-Rest (OvR) strategy for multiclass.**"
      ]
    },
    {
      "cell_type": "code",
      "execution_count": 11,
      "id": "0ab13219",
      "metadata": {
        "colab": {
          "base_uri": "https://localhost:8080/"
        },
        "id": "0ab13219",
        "outputId": "2aed0988-1450-4c95-d26a-38f5fd5be1b5"
      },
      "outputs": [
        {
          "output_type": "stream",
          "name": "stdout",
          "text": [
            "OvR Accuracy: 0.9666666666666667\n"
          ]
        }
      ],
      "source": [
        "from sklearn.multiclass import OneVsRestClassifier\n",
        "ovr = OneVsRestClassifier(DecisionTreeClassifier(random_state=42))\n",
        "ovr.fit(X_train, y_train)\n",
        "print(\"OvR Accuracy:\", accuracy_score(y_test, ovr.predict(X_test)))"
      ]
    },
    {
      "cell_type": "markdown",
      "id": "e24dd45c",
      "metadata": {
        "id": "e24dd45c"
      },
      "source": [
        "**P25. Train a Decision Tree and display feature importances.**"
      ]
    },
    {
      "cell_type": "code",
      "execution_count": 12,
      "id": "91301638",
      "metadata": {
        "colab": {
          "base_uri": "https://localhost:8080/",
          "height": 209
        },
        "id": "91301638",
        "outputId": "0d47bb2c-f7f3-4fcb-9bcd-b7c450e3f482"
      },
      "outputs": [
        {
          "output_type": "display_data",
          "data": {
            "text/plain": [
              "petal length (cm)    0.558568\n",
              "petal width (cm)     0.406015\n",
              "sepal width (cm)     0.029167\n",
              "sepal length (cm)    0.006250\n",
              "dtype: float64"
            ],
            "text/html": [
              "<div>\n",
              "<style scoped>\n",
              "    .dataframe tbody tr th:only-of-type {\n",
              "        vertical-align: middle;\n",
              "    }\n",
              "\n",
              "    .dataframe tbody tr th {\n",
              "        vertical-align: top;\n",
              "    }\n",
              "\n",
              "    .dataframe thead th {\n",
              "        text-align: right;\n",
              "    }\n",
              "</style>\n",
              "<table border=\"1\" class=\"dataframe\">\n",
              "  <thead>\n",
              "    <tr style=\"text-align: right;\">\n",
              "      <th></th>\n",
              "      <th>0</th>\n",
              "    </tr>\n",
              "  </thead>\n",
              "  <tbody>\n",
              "    <tr>\n",
              "      <th>petal length (cm)</th>\n",
              "      <td>0.558568</td>\n",
              "    </tr>\n",
              "    <tr>\n",
              "      <th>petal width (cm)</th>\n",
              "      <td>0.406015</td>\n",
              "    </tr>\n",
              "    <tr>\n",
              "      <th>sepal width (cm)</th>\n",
              "      <td>0.029167</td>\n",
              "    </tr>\n",
              "    <tr>\n",
              "      <th>sepal length (cm)</th>\n",
              "      <td>0.006250</td>\n",
              "    </tr>\n",
              "  </tbody>\n",
              "</table>\n",
              "</div><br><label><b>dtype:</b> float64</label>"
            ]
          },
          "metadata": {}
        }
      ],
      "source": [
        "show_feature_importances(clf_gini, iris.feature_names)"
      ]
    },
    {
      "cell_type": "markdown",
      "id": "df3c3072",
      "metadata": {
        "id": "df3c3072"
      },
      "source": [
        "**P26. Train Decision Tree with `max_depth=5` and compare with unrestricted.**"
      ]
    },
    {
      "cell_type": "code",
      "execution_count": 13,
      "id": "27f4ddae",
      "metadata": {
        "colab": {
          "base_uri": "https://localhost:8080/"
        },
        "id": "27f4ddae",
        "outputId": "e5eb11f2-adec-4802-c122-c53d714753fe"
      },
      "outputs": [
        {
          "output_type": "stream",
          "name": "stdout",
          "text": [
            "Accuracy (max_depth=5): 0.9333333333333333\n",
            "Accuracy (unrestricted - Gini): 0.9333333333333333\n"
          ]
        }
      ],
      "source": [
        "clf_d5 = DecisionTreeClassifier(max_depth=5, random_state=42)\n",
        "clf_d5.fit(X_train, y_train)\n",
        "print(\"Accuracy (max_depth=5):\", accuracy_score(y_test, clf_d5.predict(X_test)))\n",
        "print(\"Accuracy (unrestricted - Gini):\", acc)"
      ]
    },
    {
      "cell_type": "markdown",
      "id": "9d4f557d",
      "metadata": {
        "id": "9d4f557d"
      },
      "source": [
        "**P27. Apply Cost Complexity Pruning (CCP) and visualize its effect on accuracy.**"
      ]
    },
    {
      "cell_type": "code",
      "execution_count": 14,
      "id": "9371177e",
      "metadata": {
        "colab": {
          "base_uri": "https://localhost:8080/",
          "height": 472
        },
        "id": "9371177e",
        "outputId": "aeaa229f-8cb1-42cb-e173-80997692d440"
      },
      "outputs": [
        {
          "output_type": "display_data",
          "data": {
            "text/plain": [
              "<Figure size 640x480 with 1 Axes>"
            ],
            "image/png": "[encoded data removed]"
          },
          "metadata": {}
        }
      ],
      "source": [
        "path = clf_gini.cost_complexity_pruning_path(X_train, y_train)\n",
        "ccp_alphas = path.ccp_alphas\n",
        "\n",
        "accs = []\n",
        "for a in ccp_alphas:\n",
        "    m = DecisionTreeClassifier(random_state=42, ccp_alpha=a).fit(X_train, y_train)\n",
        "    accs.append(accuracy_score(y_test, m.predict(X_test)))\n",
        "\n",
        "plt.figure()\n",
        "plt.plot(ccp_alphas, accs, marker='o')\n",
        "plt.xlabel('ccp_alpha'); plt.ylabel('Accuracy'); plt.title('CCP Alpha vs Accuracy'); plt.show()"
      ]
    },
    {
      "cell_type": "markdown",
      "id": "12ffb9cd",
      "metadata": {
        "id": "12ffb9cd"
      },
      "source": [
        "**P28. Evaluate precision, recall, and F1-Score of Decision Tree Classifier.**"
      ]
    },
    {
      "cell_type": "code",
      "execution_count": 15,
      "id": "3c3c63ba",
      "metadata": {
        "colab": {
          "base_uri": "https://localhost:8080/"
        },
        "id": "3c3c63ba",
        "outputId": "c735dfb0-5c7d-497c-87db-f0a3dbfbe447"
      },
      "outputs": [
        {
          "output_type": "stream",
          "name": "stdout",
          "text": [
            "              precision    recall  f1-score   support\n",
            "\n",
            "      setosa       1.00      1.00      1.00        10\n",
            "  versicolor       0.90      0.90      0.90        10\n",
            "   virginica       0.90      0.90      0.90        10\n",
            "\n",
            "    accuracy                           0.93        30\n",
            "   macro avg       0.93      0.93      0.93        30\n",
            "weighted avg       0.93      0.93      0.93        30\n",
            "\n"
          ]
        }
      ],
      "source": [
        "print(classification_report(y_test, clf_gini.predict(X_test), target_names=iris.target_names))"
      ]
    },
    {
      "cell_type": "markdown",
      "id": "eeb88c78",
      "metadata": {
        "id": "eeb88c78"
      },
      "source": [
        "**P29. Visualize the confusion matrix using seaborn.**"
      ]
    },
    {
      "cell_type": "code",
      "execution_count": 16,
      "id": "9df87fa0",
      "metadata": {
        "colab": {
          "base_uri": "https://localhost:8080/",
          "height": 472
        },
        "id": "9df87fa0",
        "outputId": "a8686973-f227-4ff3-8f99-65890184beb4"
      },
      "outputs": [
        {
          "output_type": "display_data",
          "data": {
            "text/plain": [
              "<Figure size 640x480 with 2 Axes>"
            ],
            "image/png": "[encoded data removed]"
          },
          "metadata": {}
        }
      ],
      "source": [
        "cm = confusion_matrix(y_test, clf_gini.predict(X_test))\n",
        "plt.figure()\n",
        "sns.heatmap(cm, annot=True, fmt='d', xticklabels=iris.target_names, yticklabels=iris.target_names)\n",
        "plt.xlabel('Predicted'); plt.ylabel('True'); plt.title('Decision Tree Confusion Matrix')\n",
        "plt.show()"
      ]
    },
    {
      "cell_type": "markdown",
      "id": "a3b33d3f",
      "metadata": {
        "id": "a3b33d3f"
      },
      "source": [
        "**P30. Use GridSearchCV to tune `max_depth` and `min_samples_split`.**"
      ]
    },
    {
      "cell_type": "code",
      "execution_count": 17,
      "id": "16e7c976",
      "metadata": {
        "colab": {
          "base_uri": "https://localhost:8080/"
        },
        "id": "16e7c976",
        "outputId": "aff38204-488f-4486-c55c-89b87fe91833"
      },
      "outputs": [
        {
          "output_type": "stream",
          "name": "stdout",
          "text": [
            "Best Params: {'max_depth': None, 'min_samples_split': 2}\n",
            "Best CV Score: 0.9416666666666668\n",
            "Test Accuracy (best): 0.9333333333333333\n"
          ]
        }
      ],
      "source": [
        "param_grid = {\n",
        "    'max_depth': [None, 2, 3, 4, 5, 6],\n",
        "    'min_samples_split': [2, 3, 4, 5, 10]\n",
        "}\n",
        "grid = GridSearchCV(DecisionTreeClassifier(random_state=42), param_grid, cv=5, n_jobs=-1)\n",
        "grid.fit(X_train, y_train)\n",
        "print('Best Params:', grid.best_params_)\n",
        "print('Best CV Score:', grid.best_score_)\n",
        "best = grid.best_estimator_\n",
        "print('Test Accuracy (best):', accuracy_score(y_test, best.predict(X_test)))"
      ]
    },
    {
      "cell_type": "code",
      "source": [],
      "metadata": {
        "id": "vDoB6bc9SZ3c"
      },
      "id": "vDoB6bc9SZ3c",
      "execution_count": 17,
      "outputs": []
    }
  ],
  "metadata": {
    "colab": {
      "provenance": []
    },
    "language_info": {
      "name": "python"
    },
    "kernelspec": {
      "name": "python3",
      "display_name": "Python 3"
    }
  },
  "nbformat": 4,
  "nbformat_minor": 5
}