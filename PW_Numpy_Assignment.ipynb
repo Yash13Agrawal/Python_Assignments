{
  "nbformat": 4,
  "nbformat_minor": 0,
  "metadata": {
    "colab": {
      "provenance": [],
      "authorship_tag": "ABX9TyPVuJvOyfEPCilzpg8tMRAK"
    },
    "kernelspec": {
      "name": "python3",
      "display_name": "Python 3"
    },
    "language_info": {
      "name": "python"
    }
  },
  "cells": [
    {
      "cell_type": "markdown",
      "source": [
        "# **Theoretical Questions**"
      ],
      "metadata": {
        "id": "bycmwXV2sgh1"
      }
    },
    {
      "cell_type": "markdown",
      "source": [
        "# Question 1. Explain the purpose and advantages of NumPy in scientific computing and data analysis. How does it enhance Python's capabilities for numerical operations ?\n",
        "\n",
        "**Answer:**   \n",
        "### The Purpose of NumPy\n",
        "\n",
        "NumPy, short for **Numerical Python**, is a core library in Python for scientific computing. Its main purpose is to provide a powerful and efficient **multidimensional array object**, called `ndarray`, which is essential for numerical operations. It serves as the foundation for many other scientific and data analysis libraries, such as SciPy and Pandas.\n",
        "\n",
        "***\n",
        "\n",
        "### Advantages of NumPy\n",
        "\n",
        "* **Performance:** NumPy arrays are much faster than standard Python lists for numerical operations. This is because the core of NumPy is written in C and Fortran, allowing it to perform computations on large datasets with incredible speed.\n",
        "* **Memory Efficiency:** NumPy arrays are more memory-efficient than Python lists. They store data in a contiguous block of memory and are of a single data type, which reduces memory usage and improves performance.\n",
        "* **Powerful Functions:** NumPy provides a vast collection of mathematical functions for linear algebra, Fourier transforms, and random number generation, which can be applied to entire arrays without needing slow Python loops.\n",
        "* **Vectorization:** NumPy enables **vectorization**, which means you can perform operations on entire arrays at once, rather than element by element. This makes code cleaner, more concise, and much faster.\n",
        "\n",
        "***\n",
        "\n",
        "### How NumPy Enhances Python's Capabilities\n",
        "\n",
        "Python's built-in lists are flexible but not optimized for numerical tasks. NumPy enhances Python by introducing the `ndarray` object, which is a specialized, high-performance data structure. It allows you to:\n",
        "\n",
        "* **Perform vectorized operations:** Instead of writing a loop to add two lists, you can simply add two NumPy arrays directly (e.g., `array1 + array2`), which is significantly faster.\n",
        "* **Use broadcasting:** This feature allows you to perform operations on arrays of different sizes. For example, you can add a single number to every element of an array without a loop.\n",
        "* **Handle large datasets efficiently:** For tasks in data science, machine learning, and scientific research, where you deal with millions of data points, NumPy's speed and memory efficiency are crucial. It allows Python to compete with languages like MATLAB and R for these types of tasks."
      ],
      "metadata": {
        "id": "TqgMPNL0spPj"
      }
    },
    {
      "cell_type": "markdown",
      "source": [
        "# Question 2. Compare and contrast np.mean() and np.average() functions in NumPy. When would you use one over the other?\n",
        "\n",
        "**Answer:**\n",
        "\n",
        "NumPy's `np.mean()` and `np.average()` are both used to compute the average of a dataset, but they have a key difference. While `np.mean()` calculates the **arithmetic mean** (the sum of all values divided by the number of values), `np.average()` can calculate a **weighted average** in addition to the arithmetic mean.\n",
        "\n",
        "***\n",
        "\n",
        "### np.mean()\n",
        "\n",
        "* **Purpose:** Calculates the arithmetic mean.\n",
        "* **Parameters:** It takes an array-like object and an optional `axis` parameter to specify the axis along which to compute the mean.\n",
        "* **Usage:** You'd use `np.mean()` for simple, unweighted averages, which is the most common use case. For example, finding the average score of a class or the average temperature over a week.\n",
        "\n",
        "***\n",
        "\n",
        "### np.average()\n",
        "\n",
        "* **Purpose:** Calculates the arithmetic mean or a **weighted average**.\n",
        "* **Parameters:** It takes the same parameters as `np.mean()` (`a`, `axis`) but also includes an optional `weights` parameter. This `weights` parameter is an array of the same size as the input array, where each value corresponds to the weight of the element at that index.\n",
        "* **Usage:** You'd use `np.average()` when certain data points are more significant than others and should contribute more to the final average. For instance, calculating the average grade where an exam is worth more than a quiz, or finding the average stock price of a company considering the number of shares traded at each price.\n",
        "\n",
        "***\n",
        "\n",
        "### When to Use Which?\n",
        "\n",
        "* **Use `np.mean()`** for all cases where you need a simple, unweighted average. It's often the default choice due to its directness and simplicity.\n",
        "* **Use `np.average()`** specifically when you need to calculate a **weighted average**. If you don't provide the `weights` parameter, `np.average()` will return the same result as `np.mean()`.\n",
        "\n",
        "In summary, `np.average()` is a more versatile function because it can handle weighted averages, while `np.mean()` is a more specialized function for a single type of calculation. If you don't need weighting, `np.mean()` is the better choice as it's more explicit about its purpose."
      ],
      "metadata": {
        "id": "5GRvIZk6tgJ5"
      }
    },
    {
      "cell_type": "markdown",
      "source": [
        "# Question 3. Describe the methods for reversing a NumPy array along different axes. Provide examples for 1D and 2D arrays.\n",
        "\n",
        "**Answer:**\n",
        "\n",
        "NumPy arrays can be reversed along different axes using a variety of methods, with **slicing** being the most common and versatile.\n",
        "\n",
        "## Reversing a 1D Array\n",
        "\n",
        "For a one-dimensional array, the simplest way to reverse it is by using slicing with a step of `-1`. This creates a new view of the array in reverse order.\n",
        "\n",
        "**Method:** Slicing `[::-1]`\n",
        "\n",
        "```python\n",
        "import numpy as np\n",
        "\n",
        "# Create a 1D array\n",
        "arr_1d = np.array([1, 2, 3, 4, 5])\n",
        "\n",
        "# Reverse the array\n",
        "reversed_arr_1d = arr_1d[::-1]\n",
        "\n",
        "print(f\"Original 1D array: {arr_1d}\")\n",
        "print(f\"Reversed 1D array: {reversed_arr_1d}\")\n",
        "```\n",
        "\n",
        "**Output:**\n",
        "\n",
        "```\n",
        "Original 1D array: [1 2 3 4 5]\n",
        "Reversed 1D array: [5 4 3 2 1]\n",
        "```\n",
        "\n",
        "-----\n",
        "\n",
        "## Reversing a 2D Array\n",
        "\n",
        "For a two-dimensional array, you can reverse it along different axes (rows or columns) or along both.\n",
        "\n",
        "### Reversing Rows (Vertical Flip)\n",
        "\n",
        "To reverse the rows of a 2D array, you apply the same `[::-1]` slice to the first dimension (the rows). This is equivalent to a vertical flip.\n",
        "\n",
        "**Method:** Slicing `[::-1, :]` or `np.flipud()`\n",
        "\n",
        "```python\n",
        "import numpy as np\n",
        "\n",
        "# Create a 2D array\n",
        "arr_2d = np.array([[1, 2, 3],\n",
        "                   [4, 5, 6],\n",
        "                   [7, 8, 9]])\n",
        "\n",
        "# Reverse the rows\n",
        "reversed_rows = arr_2d[::-1, :]\n",
        "\n",
        "print(\"Original 2D array:\")\n",
        "print(arr_2d)\n",
        "print(\"\\n2D array with rows reversed:\")\n",
        "print(reversed_rows)\n",
        "```\n",
        "\n",
        "**Output:**\n",
        "\n",
        "```\n",
        "Original 2D array:\n",
        "[[1 2 3]\n",
        " [4 5 6]\n",
        " [7 8 9]]\n",
        "\n",
        "2D array with rows reversed:\n",
        "[[7 8 9]\n",
        " [4 5 6]\n",
        " [1 2 3]]\n",
        "```\n",
        "\n",
        "-----\n",
        "\n",
        "### Reversing Columns (Horizontal Flip)\n",
        "\n",
        "To reverse the columns of a 2D array, you apply the `[::-1]` slice to the second dimension (the columns). This is equivalent to a horizontal flip.\n",
        "\n",
        "**Method:** Slicing `[:, ::-1]` or `np.fliplr()`\n",
        "\n",
        "```python\n",
        "import numpy as np\n",
        "\n",
        "# Create a 2D array\n",
        "arr_2d = np.array([[1, 2, 3],\n",
        "                   [4, 5, 6],\n",
        "                   [7, 8, 9]])\n",
        "\n",
        "# Reverse the columns\n",
        "reversed_cols = arr_2d[:, ::-1]\n",
        "\n",
        "print(\"Original 2D array:\")\n",
        "print(arr_2d)\n",
        "print(\"\\n2D array with columns reversed:\")\n",
        "print(reversed_cols)\n",
        "```\n",
        "\n",
        "**Output:**\n",
        "\n",
        "```\n",
        "Original 2D array:\n",
        "[[1 2 3]\n",
        " [4 5 6]\n",
        " [7 8 9]]\n",
        "\n",
        "2D array with columns reversed:\n",
        "[[3 2 1]\n",
        " [6 5 4]\n",
        " [9 8 7]]\n",
        "```\n",
        "\n",
        "-----\n",
        "\n",
        "### Reversing Both Rows and Columns\n",
        "\n",
        "To reverse the entire array (both rows and columns), you can apply the `[::-1]` slice to both dimensions.\n",
        "\n",
        "**Method:** Slicing `[::-1, ::-1]`\n",
        "\n",
        "```python\n",
        "import numpy as np\n",
        "\n",
        "# Create a 2D array\n",
        "arr_2d = np.array([[1, 2, 3],\n",
        "                   [4, 5, 6],\n",
        "                   [7, 8, 9]])\n",
        "\n",
        "# Reverse both rows and columns\n",
        "reversed_both = arr_2d[::-1, ::-1]\n",
        "\n",
        "print(\"Original 2D array:\")\n",
        "print(arr_2d)\n",
        "print(\"\\n2D array with both rows and columns reversed:\")\n",
        "print(reversed_both)\n",
        "```\n",
        "\n",
        "**Output:**\n",
        "\n",
        "```\n",
        "Original 2D array:\n",
        "[[1 2 3]\n",
        " [4 5 6]\n",
        " [7 8 9]]\n",
        "\n",
        "2D array with both rows and columns reversed:\n",
        "[[9 8 7]\n",
        " [6 5 4]\n",
        " [3 2 1]]\n",
        "```"
      ],
      "metadata": {
        "id": "iCoP5i15uTtp"
      }
    },
    {
      "cell_type": "markdown",
      "source": [
        "# Question 4. How can you determine the data type of elements in a NumPy array? Discuss the importance of data types in memory management and performance.\n",
        "\n",
        "**Answer:**\n",
        "You can determine the data type of elements in a NumPy array using the `.dtype` attribute. This attribute returns a data-type object that describes the kind of elements in the array.\n",
        "\n",
        "### Determining the Data Type\n",
        "\n",
        "The most direct way to check the data type is to access the `.dtype` attribute of the NumPy array object.\n",
        "\n",
        "```python\n",
        "import numpy as np\n",
        "\n",
        "# Create an array with integer elements\n",
        "int_array = np.array([1, 2, 3])\n",
        "print(f\"Data type of int_array: {int_array.dtype}\")\n",
        "\n",
        "# Create an array with floating-point elements\n",
        "float_array = np.array([1.0, 2.5, 3.7])\n",
        "print(f\"Data type of float_array: {float_array.dtype}\")\n",
        "\n",
        "# Create an array with string elements\n",
        "string_array = np.array(['a', 'b', 'c'])\n",
        "print(f\"Data type of string_array: {string_array.dtype}\")\n",
        "```\n",
        "\n",
        "**Output:**\n",
        "\n",
        "```\n",
        "Data type of int_array: int64\n",
        "Data type of float_array: float64\n",
        "Data type of string_array: <U1\n",
        "```\n",
        "\n",
        "-----\n",
        "\n",
        "### Importance of Data Types\n",
        "\n",
        "Data types in NumPy are crucial for both **memory management** and **performance**. Unlike Python's built-in lists which can store different data types, NumPy arrays are **homogeneous**, meaning all elements must be of the same type. This homogeneity is the foundation of NumPy's efficiency.\n",
        "\n",
        "  * **Memory Management:** Specifying a data type allows NumPy to allocate a fixed-size block of memory for the entire array. For example, a 64-bit integer (`int64`) takes up 8 bytes of memory, so an array of 1,000 integers will always occupy 8,000 bytes. This predictable allocation is much more efficient than a Python list, where each element is a separate object with its own memory overhead. By choosing the smallest data type that fits your data (e.g., `int8` instead of `int64` if your values are small), you can significantly reduce the memory footprint of large arrays.\n",
        "\n",
        "  * **Performance:** The fixed size and contiguous memory layout of NumPy arrays enable highly optimized, **vectorized operations**. When NumPy knows the data type, it can use low-level C and Fortran routines that are designed to perform operations on a block of memory very quickly, without having to check the type of each individual element. This leads to a massive performance boost, especially for large-scale numerical computations like matrix multiplication or element-wise arithmetic. The consistent data type allows NumPy to apply operations to the entire array at once, rather than using slow Python loops."
      ],
      "metadata": {
        "id": "K4-USYMPu57D"
      }
    },
    {
      "cell_type": "markdown",
      "source": [
        "# Question 5. Define ndarrays in NumPy and explain their key features. How do they differ from standard Python lists?\n",
        "\n",
        "**Answer:**\n",
        "### Defining ndarrays\n",
        "\n",
        "An **ndarray** is the fundamental data structure in NumPy. It's a **multidimensional array object** used to store a collection of items of the **same data type**. This structure is a powerful and efficient way to handle large datasets in Python, forming the basis for most scientific computing and data analysis operations.\n",
        "\n",
        "---\n",
        "### Key Features of ndarrays\n",
        "\n",
        "* **Homogeneous:** All elements in an ndarray must be of the same data type (e.g., all integers, all floats). This uniformity allows for highly optimized operations and efficient memory usage.\n",
        "* **Multidimensional:** ndarrays can have any number of dimensions, from a 1D array (vector) to a 2D array (matrix) or higher. This makes them ideal for representing various forms of data, such as images, time series, or tensors in machine learning.\n",
        "* **Vectorized Operations:** NumPy allows you to perform operations on entire arrays at once without the need for explicit loops. For example, adding two arrays `A + B` performs element-wise addition, which is much faster than a loop.\n",
        "* **Efficient Memory:** ndarrays store data in a contiguous block of memory. This allows for fast data access and manipulation, a key reason for their superior performance compared to Python lists.\n",
        "* **Broadcasting:** This feature allows NumPy to perform operations on arrays with different shapes. For example, you can add a single number to every element of an array, which is a powerful and convenient feature.\n",
        "\n",
        "---\n",
        "### Differences from Standard Python Lists\n",
        "\n",
        "| Feature | NumPy ndarray | Python List |\n",
        "| :--- | :--- | :--- |\n",
        "| **Data Type** | **Homogeneous:** All elements must have the same data type. | **Heterogeneous:** Can store elements of different data types. |\n",
        "| **Performance** | **Much faster** for numerical operations due to being written in C and Fortran. | **Slower** for numerical operations due to dynamic typing and overhead. |\n",
        "| **Memory Usage** | **More memory-efficient** due to storing elements in a contiguous memory block. | **Less memory-efficient** as it stores pointers to objects scattered in memory. |\n",
        "| **Functionality** | Built-in support for advanced mathematical operations like linear algebra, statistics, and broadcasting. | Lacks built-in support for high-performance numerical operations. |\n",
        "| **Usage** | Ideal for numerical and scientific computations. | General-purpose container for any type of data. |"
      ],
      "metadata": {
        "id": "ydoBixnavq2j"
      }
    },
    {
      "cell_type": "markdown",
      "source": [
        "# Question 6. Analyze the performance benefits of NumPy arrays over Python lists for large-scale numerical operations.\n",
        "\n",
        "**Answer:** The performance benefits of NumPy arrays over Python lists for large-scale numerical operations are significant and stem from three main reasons: **data type homogeneity**, **contiguous memory allocation**, and the use of **vectorized operations**.\n",
        "\n",
        "---\n",
        "### Data Type Homogeneity and Memory Efficiency\n",
        "\n",
        "Unlike Python lists, which can hold elements of different data types, all elements in a NumPy array must be of the same type (e.g., all integers or all floats). This homogeneity allows NumPy to be much more memory-efficient. A Python list stores pointers to objects, which can be scattered throughout memory, leading to overhead. In contrast, a NumPy array stores its elements in a single, contiguous block of memory. This packed data structure reduces memory usage and enables faster data access and manipulation.\n",
        "\n",
        "---\n",
        "### Vectorized Operations\n",
        "\n",
        "NumPy leverages **vectorization**, which means that operations are performed on entire arrays at once, rather than on individual elements using a loop. These operations are implemented in low-level, pre-compiled C and Fortran code, which is significantly faster than Python's interpreted loops. For example, adding two large arrays `array1 + array2` is a single, fast operation in NumPy, whereas doing the same with Python lists would require a slow, explicit `for` loop.\n",
        "\n",
        "---\n",
        "### Performance Breakdown\n",
        "\n",
        "For a large numerical task, such as adding two arrays with a million elements:\n",
        "\n",
        "* **Python List:** The interpreter has to repeatedly access each element, check its type, and perform the addition one by one. This process involves a lot of overhead and is very slow.\n",
        "* **NumPy Array:** The operation is handed off to a pre-compiled C function. This function works directly on the contiguous block of memory, applying the addition operation to all elements in one highly efficient pass. The result is a performance gain that can be **orders of magnitude faster** than the Python list equivalent. This efficiency makes NumPy an indispensable tool for scientific computing, machine learning, and data analysis where large datasets are the norm."
      ],
      "metadata": {
        "id": "Y3oswninwG0o"
      }
    },
    {
      "cell_type": "markdown",
      "source": [
        "# Question 7. Compare vstack() and hstack() functions in NumPy. Provide examples demonstrating their usage and output.\n",
        "\n",
        "**Answer:**\n",
        "`vstack()` and `hstack()` are NumPy functions used to stack arrays. The key difference lies in the direction of stacking: **`vstack()` stacks arrays vertically (row-wise)**, while **`hstack()` stacks them horizontally (column-wise)**.\n",
        "\n",
        "-----\n",
        "\n",
        "### vstack()\n",
        "\n",
        "The `vstack()` function stacks arrays in sequence vertically (row-wise). This means it adds arrays as new rows to form a larger array. For this to work, the arrays must have the same number of columns.\n",
        "\n",
        "**Example:**\n",
        "\n",
        "```python\n",
        "import numpy as np\n",
        "\n",
        "# Create two 1D arrays\n",
        "a = np.array([1, 2, 3])\n",
        "b = np.array([4, 5, 6])\n",
        "\n",
        "# Vertically stack the arrays\n",
        "v_stack = np.vstack((a, b))\n",
        "\n",
        "print(\"Array a:\")\n",
        "print(a)\n",
        "print(\"\\nArray b:\")\n",
        "print(b)\n",
        "print(\"\\nResult of vstack():\")\n",
        "print(v_stack)\n",
        "```\n",
        "\n",
        "**Output:**\n",
        "\n",
        "```\n",
        "Array a:\n",
        "[1 2 3]\n",
        "\n",
        "Array b:\n",
        "[4 5 6]\n",
        "\n",
        "Result of vstack():\n",
        "[[1 2 3]\n",
        " [4 5 6]]\n",
        "```\n",
        "\n",
        "-----\n",
        "\n",
        "### hstack()\n",
        "\n",
        "The `hstack()` function stacks arrays in sequence horizontally (column-wise). This means it adds arrays as new columns to form a larger array. For this to work, the arrays must have the same number of rows.\n",
        "\n",
        "**Example:**\n",
        "\n",
        "```python\n",
        "import numpy as np\n",
        "\n",
        "# Create two 1D arrays\n",
        "a = np.array([1, 2, 3])\n",
        "b = np.array([4, 5, 6])\n",
        "\n",
        "# Horizontally stack the arrays\n",
        "h_stack = np.hstack((a, b))\n",
        "\n",
        "print(\"Array a:\")\n",
        "print(a)\n",
        "print(\"\\nArray b:\")\n",
        "print(b)\n",
        "print(\"\\nResult of hstack():\")\n",
        "print(h_stack)\n",
        "```\n",
        "\n",
        "**Output:**\n",
        "\n",
        "```\n",
        "Array a:\n",
        "[1 2 3]\n",
        "\n",
        "Array b:\n",
        "[4 5 6]\n",
        "\n",
        "Result of hstack():\n",
        "[1 2 3 4 5 6]\n",
        "```\n",
        "\n",
        "For multi-dimensional arrays, the logic remains the same:\n",
        "\n",
        "  * `vstack()` combines them row-wise, increasing the number of rows.\n",
        "  * `hstack()` combines them column-wise, increasing the number of columns."
      ],
      "metadata": {
        "id": "atZUyL70wZ26"
      }
    },
    {
      "cell_type": "markdown",
      "source": [
        "# Question 8. Explain the differences between fliplr() and flipud() methods in NumPy, including their effects on various array dimensions.\n",
        "\n",
        "**Answer:**\n",
        "`fliplr()` and `flipud()` are NumPy functions used to reverse the order of elements in an array, but they do so along different axes. **`fliplr()` performs a horizontal flip**, reversing the order of columns, while **`flipud()` performs a vertical flip**, reversing the order of rows.\n",
        "\n",
        "-----\n",
        "\n",
        "### fliplr() (Flip Left-Right)\n",
        "\n",
        "`fliplr()` reverses the elements along the horizontal axis (axis 1). This is equivalent to flipping the array from left to right. It is primarily used for 2D arrays and higher. If used on a 1D array, it will simply reverse the array's elements.\n",
        "\n",
        "**Example with a 2D Array:**\n",
        "\n",
        "```python\n",
        "import numpy as np\n",
        "\n",
        "# Create a 2D array\n",
        "arr_2d = np.array([[1, 2, 3],\n",
        "                   [4, 5, 6],\n",
        "                   [7, 8, 9]])\n",
        "\n",
        "# Flip the array horizontally\n",
        "flipped_lr = np.fliplr(arr_2d)\n",
        "\n",
        "print(\"Original 2D array:\")\n",
        "print(arr_2d)\n",
        "print(\"\\nFlipped Left-Right (fliplr):\")\n",
        "print(flipped_lr)\n",
        "```\n",
        "\n",
        "**Output:**\n",
        "\n",
        "```\n",
        "Original 2D array:\n",
        "[[1 2 3]\n",
        " [4 5 6]\n",
        " [7 8 9]]\n",
        "\n",
        "Flipped Left-Right (fliplr):\n",
        "[[3 2 1]\n",
        " [6 5 4]\n",
        " [9 8 7]]\n",
        "```\n",
        "\n",
        "-----\n",
        "\n",
        "### flipud() (Flip Up-Down)\n",
        "\n",
        "`flipud()` reverses the elements along the vertical axis (axis 0). This is equivalent to flipping the array from top to bottom. Like `fliplr()`, it is most commonly used for 2D arrays and above, but it will also reverse a 1D array.\n",
        "\n",
        "**Example with a 2D Array:**\n",
        "\n",
        "```python\n",
        "import numpy as np\n",
        "\n",
        "# Create a 2D array\n",
        "arr_2d = np.array([[1, 2, 3],\n",
        "                   [4, 5, 6],\n",
        "                   [7, 8, 9]])\n",
        "\n",
        "# Flip the array vertically\n",
        "flipped_ud = np.flipud(arr_2d)\n",
        "\n",
        "print(\"Original 2D array:\")\n",
        "print(arr_2d)\n",
        "print(\"\\nFlipped Up-Down (flipud):\")\n",
        "print(flipped_ud)\n",
        "```\n",
        "\n",
        "**Output:**\n",
        "\n",
        "```\n",
        "Original 2D array:\n",
        "[[1 2 3]\n",
        " [4 5 6]\n",
        " [7 8 9]]\n",
        "\n",
        "Flipped Up-Down (flipud):\n",
        "[[7 8 9]\n",
        " [4 5 6]\n",
        " [1 2 3]]\n",
        "```\n"
      ],
      "metadata": {
        "id": "tuyfBsrFw0-z"
      }
    },
    {
      "cell_type": "markdown",
      "source": [
        "# Question 9. Discuss the functionality of the array_split() method in NumPy. How does it handle uneven splits?\n",
        "\n",
        "**Answer:**\n",
        "The `array_split()` method in NumPy is used to **split an array into multiple sub-arrays of equal or near-equal size**. It's a more flexible alternative to `split()` because it can handle uneven divisions without raising an error.\n",
        "\n",
        "-----\n",
        "\n",
        "### Functionality of `array_split()`\n",
        "\n",
        "The `array_split()` method takes three main arguments:\n",
        "\n",
        "1.  **`ary`**: The array to be split.\n",
        "2.  **`indices_or_sections`**: The number of sections to split the array into. This can be an integer, which specifies the number of equal divisions, or a list of indices, which specifies the points at which to split the array.\n",
        "3.  **`axis`**: The axis along which to split the array (default is 0).\n",
        "\n",
        "`array_split()` divides an array into a specified number of sub-arrays. For a 1D array, this means creating a list of smaller arrays. For a 2D array, it can be used to split the rows or columns.\n",
        "\n",
        "-----\n",
        "\n",
        "### Handling Uneven Splits\n",
        "\n",
        "This is where `array_split()` really shines. If the number of elements in the array is not perfectly divisible by the number of sections, `array_split()` will **distribute the remaining elements among the first few sub-arrays**. It does this without raising a `ValueError`, which `np.split()` would do.\n",
        "\n",
        "**Example with an Uneven Split:**\n",
        "Let's split an array of 7 elements into 3 sections. The division is 7 / 3, which is 2 with a remainder of 1. `array_split()` will distribute this remainder.\n",
        "\n",
        "```python\n",
        "import numpy as np\n",
        "\n",
        "# Create a 1D array with 7 elements\n",
        "arr = np.arange(7)\n",
        "\n",
        "# Split the array into 3 sections\n",
        "split_arr = np.array_split(arr, 3)\n",
        "\n",
        "print(f\"Original array: {arr}\")\n",
        "print(f\"Split sections: {split_arr}\")\n",
        "```\n",
        "\n",
        "**Output:**\n",
        "\n",
        "```\n",
        "Original array: [0 1 2 3 4 5 6]\n",
        "Split sections: [array([0, 1, 2]), array([3, 4]), array([5, 6])]\n",
        "```\n",
        "\n",
        "In this example, the first sub-array gets an extra element from the remainder, resulting in sections of sizes 3, 2, and 2. The distribution ensures that the sub-arrays are as balanced in size as possible."
      ],
      "metadata": {
        "id": "kYwGxhb4xCGK"
      }
    },
    {
      "cell_type": "markdown",
      "source": [
        "# Question 10. Explain the concepts of vectorization and broadcasting in NumPy. How do they contribute to efficient array operations?\n",
        "\n",
        "**Answer:**\n",
        "Vectorization and broadcasting are two core concepts in NumPy that enable highly efficient array operations. They allow you to perform calculations on entire arrays at once, eliminating the need for slow Python loops.\n",
        "\n",
        "### Vectorization\n",
        "\n",
        "**Vectorization** is the process of performing an operation on an entire array, or a pair of arrays, at once without using an explicit Python loop. NumPy achieves this by using highly optimized, pre-compiled C and Fortran code behind the scenes.\n",
        "\n",
        "For example, to add two arrays `A` and `B`, you simply write `C = A + B`. NumPy's vectorized operation handles the element-by-element addition for you, which is much faster than writing a `for` loop to iterate through each element and add them individually. This approach not only speeds up computations but also makes the code cleaner and more readable.\n",
        "\n",
        "-----\n",
        "\n",
        "### Broadcasting\n",
        "\n",
        "**Broadcasting** is a powerful mechanism that allows NumPy to perform operations on arrays of different shapes. It's the process by which NumPy automatically \"stretches\" or \"duplicates\" the smaller array to match the shape of the larger array for an element-wise operation, without actually making copies in memory.\n",
        "\n",
        "A common example is adding a scalar (a single number) to a NumPy array.\n",
        "\n",
        "```python\n",
        "import numpy as np\n",
        "\n",
        "arr = np.array([10, 20, 30])\n",
        "result = arr + 5\n",
        "\n",
        "print(result)\n",
        "```\n",
        "\n",
        "**Output:**\n",
        "\n",
        "```\n",
        "[15 25 35]\n",
        "```\n",
        "\n",
        "Here, NumPy broadcasts the scalar `5` so it can be added to each element of the array `arr`.\n",
        "\n",
        "Broadcasting also works with arrays of different dimensions, as long as their shapes are compatible. Two dimensions are compatible if they are equal, or if one of them is 1.\n",
        "\n",
        "-----\n",
        "\n",
        "### Contribution to Efficiency\n",
        "\n",
        "Vectorization and broadcasting are crucial for efficient array operations because they:\n",
        "\n",
        "  * **Eliminate Python Loops:** Python's loops are notoriously slow due to the interpreter's overhead. By using vectorized operations, you hand the work over to fast, compiled code.\n",
        "  * **Reduce Memory Usage:** Broadcasting avoids creating unnecessary copies of data. Instead of making a new, larger array to match a smaller one, it simply uses a smarter internal mechanism to perform the operation.\n",
        "  * **Simplify Code:** These concepts lead to more concise and readable code, reducing the risk of errors that can arise from manual loops and indexing.\n",
        "\n",
        "In essence, these features make NumPy the go-to library for numerical computing in Python, allowing it to handle massive datasets with performance comparable to lower-level languages."
      ],
      "metadata": {
        "id": "L5fniGdrxNZJ"
      }
    },
    {
      "cell_type": "markdown",
      "source": [
        "# **Practical Question**"
      ],
      "metadata": {
        "id": "oMCOx67qyCZ6"
      }
    },
    {
      "cell_type": "markdown",
      "source": [
        "**1. Create a 3x3 NumPy array with random integers between 1 and 100. Then, interchange its rows and columns.**"
      ],
      "metadata": {
        "id": "RxLas529zOF-"
      }
    },
    {
      "cell_type": "code",
      "execution_count": 3,
      "metadata": {
        "colab": {
          "base_uri": "https://localhost:8080/"
        },
        "id": "Q2yPQHyMsUyr",
        "outputId": "92916abb-fba2-496b-c97e-fac29c67e990"
      },
      "outputs": [
        {
          "output_type": "stream",
          "name": "stdout",
          "text": [
            "Original array:\n",
            "[[83 10 51]\n",
            " [42 33 10]\n",
            " [38 33 31]]\n",
            "\n",
            "Array with rows and columns interchanged:\n",
            "[[83 42 38]\n",
            " [10 33 33]\n",
            " [51 10 31]]\n"
          ]
        }
      ],
      "source": [
        "# 1. Create a 3x3 NumPy array with random integers between 1 and 100. Then, interchange its rows and columns.\n",
        "\n",
        "import numpy as np\n",
        "\n",
        "arr = np.random.randint(1, 101, (3, 3))\n",
        "print(\"Original array:\")\n",
        "print(arr)\n",
        "\n",
        "# Interchange rows and columns (transpose)\n",
        "transposed_arr = arr.T\n",
        "print(\"\\nArray with rows and columns interchanged:\")\n",
        "print(transposed_arr)"
      ]
    },
    {
      "cell_type": "markdown",
      "source": [
        "**2. Generate a 1D NumPy array with 10 elements. Reshape it into a 2x5 array, then into a 5x2 array.**"
      ],
      "metadata": {
        "id": "u1csQ12k0z0s"
      }
    },
    {
      "cell_type": "code",
      "source": [
        "# 2. Generate a 1D NumPy array with 10 elements. Reshape it into a 2x5 array, then into a 5x2 array.\n",
        "\n",
        "arr = np.arange(10)\n",
        "print(\"Original 1D array: \", arr)\n",
        "\n",
        "arr = arr.reshape(2,5)\n",
        "print(\"Reshaped 2x5 array: \", arr)\n",
        "\n",
        "arr = arr.reshape(5,2)\n",
        "print(\"Reshaped 5x2 array: \", arr)"
      ],
      "metadata": {
        "colab": {
          "base_uri": "https://localhost:8080/"
        },
        "id": "b85VwHaFyreh",
        "outputId": "105818ba-3b93-4ea4-b27d-b81235c74576"
      },
      "execution_count": 5,
      "outputs": [
        {
          "output_type": "stream",
          "name": "stdout",
          "text": [
            "Original 1D array:  [0 1 2 3 4 5 6 7 8 9]\n",
            "Reshaped 2x5 array:  [[0 1 2 3 4]\n",
            " [5 6 7 8 9]]\n",
            "Reshaped 5x2 array:  [[0 1]\n",
            " [2 3]\n",
            " [4 5]\n",
            " [6 7]\n",
            " [8 9]]\n"
          ]
        }
      ]
    },
    {
      "cell_type": "markdown",
      "source": [
        "**3. Create a 4x4 NumPy array with random float values. Add a border of zeros around it, resulting in a 6x6 array.**"
      ],
      "metadata": {
        "id": "vW8oaMnj0lwh"
      }
    },
    {
      "cell_type": "code",
      "source": [
        "# 3. Create a 4x4 NumPy array with random float values. Add a border of zeros around it, resulting in a 6x6 array.\n",
        "\n",
        "import numpy as np\n",
        "\n",
        "arr = np.random.rand(4, 4)\n",
        "print(\"Original 4x4 array:\")\n",
        "print(arr)\n",
        "\n",
        "# Add a border of zeros\n",
        "padded_arr = np.pad(arr, pad_width=1, mode='constant', constant_values=0)\n",
        "print(\"\\nArray with zero border:\")\n",
        "print(padded_arr)"
      ],
      "metadata": {
        "colab": {
          "base_uri": "https://localhost:8080/"
        },
        "id": "ZNfLGdv90AyW",
        "outputId": "a8ee365c-ff25-4018-89c3-ee78ab1e3388"
      },
      "execution_count": 7,
      "outputs": [
        {
          "output_type": "stream",
          "name": "stdout",
          "text": [
            "Original 4x4 array:\n",
            "[[0.1765949  0.12695551 0.38289623 0.97715615]\n",
            " [0.39044716 0.31372021 0.48036106 0.15723873]\n",
            " [0.6838331  0.62118433 0.64137105 0.01285373]\n",
            " [0.70698327 0.06928245 0.06334848 0.28915062]]\n",
            "\n",
            "Array with zero border:\n",
            "[[0.         0.         0.         0.         0.         0.        ]\n",
            " [0.         0.1765949  0.12695551 0.38289623 0.97715615 0.        ]\n",
            " [0.         0.39044716 0.31372021 0.48036106 0.15723873 0.        ]\n",
            " [0.         0.6838331  0.62118433 0.64137105 0.01285373 0.        ]\n",
            " [0.         0.70698327 0.06928245 0.06334848 0.28915062 0.        ]\n",
            " [0.         0.         0.         0.         0.         0.        ]]\n"
          ]
        }
      ]
    },
    {
      "cell_type": "markdown",
      "source": [
        "**4. Using NumPy, create an array of integers from 10 to 60 with a step of 5.**"
      ],
      "metadata": {
        "id": "yx0f0yL305jt"
      }
    },
    {
      "cell_type": "code",
      "source": [
        "# 4. Using NumPy, create an array of integers from 10 to 60 with a step of 5.\n",
        "arr = np.arange(10, 61, 5)\n",
        "arr"
      ],
      "metadata": {
        "colab": {
          "base_uri": "https://localhost:8080/"
        },
        "id": "DS1GlsCM0RCa",
        "outputId": "029419c4-4d53-4c64-ffd4-43f245d2acab"
      },
      "execution_count": 10,
      "outputs": [
        {
          "output_type": "execute_result",
          "data": {
            "text/plain": [
              "array([10, 15, 20, 25, 30, 35, 40, 45, 50, 55, 60])"
            ]
          },
          "metadata": {},
          "execution_count": 10
        }
      ]
    },
    {
      "cell_type": "markdown",
      "source": [
        "**5. Create a NumPy array of strings ['python', 'numpy', 'pandas']. Apply different case transformations (uppercase, lowercase, title case, etc.) to each element.**\n",
        "\n"
      ],
      "metadata": {
        "id": "kIGWLfDK1Qrc"
      }
    },
    {
      "cell_type": "code",
      "source": [
        "# 5. Create a NumPy array of strings ['python', 'numpy', 'pandas']. Apply different case transformations (uppercase, lowercase, title case, etc.) to each element.\n",
        "\n",
        "import numpy as np\n",
        "\n",
        "arr = np.array(['python', 'numpy', 'pandas'])\n",
        "\n",
        "for i in arr:\n",
        "  print(f\"Original string: {i}\")\n",
        "  print(f\"Uppercase: {i.upper()}\")\n",
        "  print(f\"Lowercase: {i.lower()}\")\n",
        "  print(f\"Titlecase: {i.title()}\")"
      ],
      "metadata": {
        "colab": {
          "base_uri": "https://localhost:8080/"
        },
        "id": "bPqpxWPt1CYx",
        "outputId": "1a3edab1-8f04-48e5-e793-5df1c1f6ada3"
      },
      "execution_count": 11,
      "outputs": [
        {
          "output_type": "stream",
          "name": "stdout",
          "text": [
            "Original string: python\n",
            "Uppercase: PYTHON\n",
            "Lowercase: python\n",
            "Titlecase: Python\n",
            "Original string: numpy\n",
            "Uppercase: NUMPY\n",
            "Lowercase: numpy\n",
            "Titlecase: Numpy\n",
            "Original string: pandas\n",
            "Uppercase: PANDAS\n",
            "Lowercase: pandas\n",
            "Titlecase: Pandas\n"
          ]
        }
      ]
    },
    {
      "cell_type": "markdown",
      "source": [
        "**6. Generate a NumPy array of words. Insert a space between each character of every word in the array.**"
      ],
      "metadata": {
        "id": "VdKJ10nB287D"
      }
    },
    {
      "cell_type": "code",
      "source": [
        "# 6. Generate a NumPy array of words. Insert a space between each character of every word in the array.\n",
        "\n",
        "import numpy as np\n",
        "\n",
        "# Generate a NumPy array of words\n",
        "word_array = np.array(['hello', 'world', 'numpy', 'python'])\n",
        "\n",
        "print(\"Original array:\")\n",
        "print(word_array)\n",
        "\n",
        "# Insert a space between each character of every word\n",
        "spaced_words = np.array([' '.join(word) for word in word_array])\n",
        "\n",
        "print(\"\\nArray with spaces between characters:\")\n",
        "print(spaced_words)"
      ],
      "metadata": {
        "colab": {
          "base_uri": "https://localhost:8080/"
        },
        "id": "Zy8txCub2IZn",
        "outputId": "959e9dca-1693-413d-9f30-5a28844bc8a6"
      },
      "execution_count": 12,
      "outputs": [
        {
          "output_type": "stream",
          "name": "stdout",
          "text": [
            "Original array:\n",
            "['hello' 'world' 'numpy' 'python']\n",
            "\n",
            "Array with spaces between characters:\n",
            "['h e l l o' 'w o r l d' 'n u m p y' 'p y t h o n']\n"
          ]
        }
      ]
    },
    {
      "cell_type": "markdown",
      "source": [
        "**7. Create two 2D NumPy arrays and perform element-wise addition, subtraction, multiplication, and division.**"
      ],
      "metadata": {
        "id": "_2ZYPMgn3REl"
      }
    },
    {
      "cell_type": "code",
      "source": [
        "# 7. Create two 2D NumPy arrays and perform element-wise addition, subtraction, multiplication, and division.\n",
        "\n",
        "import numpy as np\n",
        "\n",
        "# Create two 2D NumPy arrays\n",
        "array1 = np.array([[1, 2], [3, 4]])\n",
        "array2 = np.array([[5, 6], [7, 8]])\n",
        "\n",
        "print(\"Array 1:\")\n",
        "print(array1)\n",
        "print(\"\\nArray 2:\")\n",
        "print(array2)\n",
        "\n",
        "# Element-wise addition\n",
        "addition_result = array1 + array2\n",
        "print(\"\\nElement-wise addition:\")\n",
        "print(addition_result)\n",
        "\n",
        "# Element-wise subtraction\n",
        "subtraction_result = array1 - array2\n",
        "print(\"\\nElement-wise subtraction:\")\n",
        "print(subtraction_result)\n",
        "\n",
        "# Element-wise multiplication\n",
        "multiplication_result = array1 * array2\n",
        "print(\"\\nElement-wise multiplication:\")\n",
        "print(multiplication_result)\n",
        "\n",
        "# Element-wise division\n",
        "division_result = array1 / array2\n",
        "print(\"\\nElement-wise division:\")\n",
        "print(division_result)"
      ],
      "metadata": {
        "colab": {
          "base_uri": "https://localhost:8080/"
        },
        "id": "B7rvow2M3UPu",
        "outputId": "fb3fe68d-2a5c-4673-cab8-d9f96ce3facb"
      },
      "execution_count": 13,
      "outputs": [
        {
          "output_type": "stream",
          "name": "stdout",
          "text": [
            "Array 1:\n",
            "[[1 2]\n",
            " [3 4]]\n",
            "\n",
            "Array 2:\n",
            "[[5 6]\n",
            " [7 8]]\n",
            "\n",
            "Element-wise addition:\n",
            "[[ 6  8]\n",
            " [10 12]]\n",
            "\n",
            "Element-wise subtraction:\n",
            "[[-4 -4]\n",
            " [-4 -4]]\n",
            "\n",
            "Element-wise multiplication:\n",
            "[[ 5 12]\n",
            " [21 32]]\n",
            "\n",
            "Element-wise division:\n",
            "[[0.2        0.33333333]\n",
            " [0.42857143 0.5       ]]\n"
          ]
        }
      ]
    },
    {
      "cell_type": "markdown",
      "source": [
        "**8. Use NumPy to create a 5x5 identity matrix, then extract its diagonal elements.**"
      ],
      "metadata": {
        "id": "frttSBJU3v2l"
      }
    },
    {
      "cell_type": "code",
      "source": [
        "# 8. Use NumPy to create a 5x5 identity matrix, then extract its diagonal elements.\n",
        "\n",
        "import numpy as np\n",
        "\n",
        "# Create a 5x5 identity matrix\n",
        "identity_matrix = np.eye(5)\n",
        "print(\"5x5 Identity Matrix:\")\n",
        "print(identity_matrix)\n",
        "\n",
        "# Extract the diagonal elements\n",
        "diagonal_elements = np.diag(identity_matrix)\n",
        "print(\"\\nDiagonal elements:\")\n",
        "print(diagonal_elements)"
      ],
      "metadata": {
        "colab": {
          "base_uri": "https://localhost:8080/"
        },
        "id": "4XD02kve3xPF",
        "outputId": "cb0b30dc-85cd-4339-92ab-a6cdce6532c3"
      },
      "execution_count": 15,
      "outputs": [
        {
          "output_type": "stream",
          "name": "stdout",
          "text": [
            "5x5 Identity Matrix:\n",
            "[[1. 0. 0. 0. 0.]\n",
            " [0. 1. 0. 0. 0.]\n",
            " [0. 0. 1. 0. 0.]\n",
            " [0. 0. 0. 1. 0.]\n",
            " [0. 0. 0. 0. 1.]]\n",
            "\n",
            "Diagonal elements:\n",
            "[1. 1. 1. 1. 1.]\n"
          ]
        }
      ]
    },
    {
      "cell_type": "markdown",
      "source": [
        "**9. Generate a NumPy array of 100 random integers between 0 and 1000. Find and display all prime numbers in\n",
        "this array**"
      ],
      "metadata": {
        "id": "68auIB_c4WAa"
      }
    },
    {
      "cell_type": "code",
      "source": [
        "# 9. Generate a NumPy array of 100 random integers between 0 and 1000. Find and display all prime numbers in this array\n",
        "prime_arr = np.random.randint(0, 1001, 100)\n",
        "print(prime_arr)\n",
        "\n",
        "# Find and display the prime numbers\n",
        "# prime_numbers\n",
        "for num in prime_arr:\n",
        "    if num > 1:\n",
        "        for i in range(2, num-1):\n",
        "            if num % i == 0:\n",
        "                break\n",
        "        else:\n",
        "            print(num)"
      ],
      "metadata": {
        "colab": {
          "base_uri": "https://localhost:8080/"
        },
        "id": "sno8Vrf834Mv",
        "outputId": "59efe0f0-de45-4c4e-b266-6e8db4461e6c"
      },
      "execution_count": 20,
      "outputs": [
        {
          "output_type": "stream",
          "name": "stdout",
          "text": [
            "[867 420 242 507 315   5 372 243 316 494 725 764 913 311 965 141 776 922\n",
            " 670 399 978 536 568 638 987 424 186 800 269 140 953 437 454 538 130 905\n",
            " 455 204 382 638  23 725 576 122 513 779  45 245 964 420 103 659 767 686\n",
            " 291 351 636 868 804 168 817 397 519   2 484 791 968 517 847 251 458 146\n",
            " 388 105 618 231 748 410 856  52 375 556 543 208  11 317 301  54 436  83\n",
            " 565 814 335 232 708 515 102 257 132 415]\n",
            "5\n",
            "311\n",
            "269\n",
            "953\n",
            "23\n",
            "103\n",
            "659\n",
            "397\n",
            "2\n",
            "251\n",
            "11\n",
            "317\n",
            "83\n",
            "257\n"
          ]
        }
      ]
    },
    {
      "cell_type": "markdown",
      "source": [
        "**10. Create a NumPy array representing daily temperatures for a month. Calculate and display the weekly\n",
        "averages.**"
      ],
      "metadata": {
        "id": "GVL4rF7T6LIO"
      }
    },
    {
      "cell_type": "code",
      "source": [
        "# 10. Create a NumPy array representing daily temperatures for a month. Calculate and display the weekly averages.\n",
        "\n",
        "import numpy as np\n",
        "\n",
        "# Create a NumPy array representing daily temperatures for a month\n",
        "# Let's assume a month with 30 days for simplicity\n",
        "daily_temperatures = np.random.randint(15, 30, 30) # Generating random temperatures between 15 and 30\n",
        "\n",
        "print(\"Daily Temperatures for the month:\")\n",
        "print(daily_temperatures)\n",
        "\n",
        "# Option 1: Assuming a month with 28 days for simplicity in reshaping\n",
        "if len(daily_temperatures) >= 28:\n",
        "    weekly_temperatures = daily_temperatures[:28].reshape(-1, 7)\n",
        "    print(\"\\nWeekly Temperatures (reshaped for 4 weeks):\")\n",
        "    print(weekly_temperatures)\n",
        "\n",
        "    # Calculate weekly averages\n",
        "    weekly_averages = np.mean(weekly_temperatures, axis=1)\n",
        "    print(\"\\nWeekly Averages:\")\n",
        "    print(weekly_averages)\n",
        "else:\n",
        "    print(\"\\nArray is too short to calculate full weekly averages.\")\n"
      ],
      "metadata": {
        "colab": {
          "base_uri": "https://localhost:8080/"
        },
        "id": "VwLhjdjZ4ufX",
        "outputId": "53b5bd56-3899-4cf0-a8b9-babe4fdc6697"
      },
      "execution_count": 23,
      "outputs": [
        {
          "output_type": "stream",
          "name": "stdout",
          "text": [
            "Daily Temperatures for the month:\n",
            "[17 23 29 19 21 24 26 20 21 20 16 27 23 25 25 15 15 15 22 21 22 26 29 22\n",
            " 21 28 27 15 15 23]\n",
            "\n",
            "Weekly Temperatures (reshaped for 4 weeks):\n",
            "[[17 23 29 19 21 24 26]\n",
            " [20 21 20 16 27 23 25]\n",
            " [25 15 15 15 22 21 22]\n",
            " [26 29 22 21 28 27 15]]\n",
            "\n",
            "Weekly Averages:\n",
            "[22.71428571 21.71428571 19.28571429 24.        ]\n"
          ]
        }
      ]
    },
    {
      "cell_type": "code",
      "source": [],
      "metadata": {
        "id": "GAY4wdMa6SM7"
      },
      "execution_count": null,
      "outputs": []
    }
  ]
}