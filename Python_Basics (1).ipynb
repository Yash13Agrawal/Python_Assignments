{
  "nbformat": 4,
  "nbformat_minor": 0,
  "metadata": {
    "colab": {
      "provenance": []
    },
    "kernelspec": {
      "name": "python3",
      "display_name": "Python 3"
    },
    "language_info": {
      "name": "python"
    }
  },
  "cells": [
    {
      "cell_type": "markdown",
      "source": [
        "*italicized text*"
      ],
      "metadata": {
        "id": "Si0E6O3l6ERg"
      }
    },
    {
      "cell_type": "markdown",
      "source": [
        "Name: Yash Agrawal\n",
        "\n",
        "Reg email: yashagrawal13032004@gmail.com\n",
        "\n",
        "Course Name: Data Science With Generative AI\n",
        "\n",
        "Assignment Name: Python Basics Assignment\n",
        "\n",
        "Submission Date: 03/10/24\n"
      ],
      "metadata": {
        "id": "2lXpgB6ZGkMj"
      }
    },
    {
      "cell_type": "markdown",
      "source": [
        "QUESTION-1. Explain the key features of Python that make it a popular choice for programming?\n",
        "\n",
        "Answer: There are the features of Python programming language:\n",
        "\n",
        "Free and Open source- It is open-source, this means that source code is also available to the public. So you can download it, use it as well as **share** it.\n",
        "\n",
        "Easy to Code- Python is a high level programming language. Python is very easy to learn the language as compared to other languages like C, C#, Javascript, Java, etc. It is very easy to code in the Python language and anybody can learn Python basics in a few hours or days.\n",
        "\n",
        "Easy to Read- As you will see, learning Python is quite simple. As was already established, Python’s syntax is really straightforward. The code block is defined by the indentations rather than by semicolons or brackets.\n",
        "\n",
        "Object-Oriented Language- One of the key features of Python is object-oriented programming language. Python supports object-oriented language and concepts of classes, object encapsulation, etc."
      ],
      "metadata": {
        "id": "wUHER0DA6NML"
      }
    },
    {
      "cell_type": "markdown",
      "source": [
        "QUESTION-2. Describe the role of predefined keywords in Python and provide examples of how they are used in a program.\n",
        "\n",
        "Answer: Python Keywords are some predefined and reserved words in Python that have special meanings.\n",
        "Keywords are used to define the syntax of the coding. The keyword cannot be used as an identifier,\n",
        "function, or variable name. All the keywords in Python are written in lowercase except True and False."
      ],
      "metadata": {
        "id": "ES_Jiqfg6Ad2"
      }
    },
    {
      "cell_type": "code",
      "source": [
        "print(\"example of True, False, and, or, not keywords\")\n",
        "\n",
        "#  compare two operands using and operator\n",
        "print(True and True)\n",
        "\n",
        "# compare two operands using or operator\n",
        "print(True or False)\n",
        "\n",
        "# use of not operator\n",
        "print(not False)"
      ],
      "metadata": {
        "colab": {
          "base_uri": "https://localhost:8080/"
        },
        "id": "wggs1sNS5m8P",
        "outputId": "c4cb4493-f32e-4397-9152-be27c2dd4b3f"
      },
      "execution_count": 1,
      "outputs": [
        {
          "output_type": "stream",
          "name": "stdout",
          "text": [
            "example of True, False, and, or, not keywords\n",
            "True\n",
            "True\n",
            "True\n"
          ]
        }
      ]
    },
    {
      "cell_type": "markdown",
      "source": [
        "QUESTION-3. Compare and contrast mutable and immutable objects in Python with examples?\n",
        "\n",
        "Answer:\n",
        "**Immutable Objects in Python**\n",
        "\n",
        "Immutable Objects are of in-built datatypes like **int**, float, bool, string, Unicode, and tuple. In simple words, an immutable object can’t be changed after it is created.\n",
        "\n",
        "Example: In this example, we will take a tuple and try to modify its value at a particular index and print it. As a tuple is an immutable object, it will throw an error when we try to modify it.\n",
        "\n"
      ],
      "metadata": {
        "id": "QTj6VC9HAs5T"
      }
    },
    {
      "cell_type": "code",
      "source": [
        "tuple1=(0,1,2,3)\n",
        "tuple1[0]=4\n",
        "print(tuple1)"
      ],
      "metadata": {
        "colab": {
          "base_uri": "https://localhost:8080/",
          "height": 176
        },
        "id": "gBOJJ99qA05W",
        "outputId": "90b7174d-2e87-47f6-c15b-b084f29ba332"
      },
      "execution_count": 2,
      "outputs": [
        {
          "output_type": "error",
          "ename": "TypeError",
          "evalue": "'tuple' object does not support item assignment",
          "traceback": [
            "\u001b[0;31m---------------------------------------------------------------------------\u001b[0m",
            "\u001b[0;31mTypeError\u001b[0m                                 Traceback (most recent call last)",
            "\u001b[0;32m<ipython-input-2-d78ab6bc470e>\u001b[0m in \u001b[0;36m<cell line: 2>\u001b[0;34m()\u001b[0m\n\u001b[1;32m      1\u001b[0m \u001b[0mtuple1\u001b[0m\u001b[0;34m=\u001b[0m\u001b[0;34m(\u001b[0m\u001b[0;36m0\u001b[0m\u001b[0;34m,\u001b[0m\u001b[0;36m1\u001b[0m\u001b[0;34m,\u001b[0m\u001b[0;36m2\u001b[0m\u001b[0;34m,\u001b[0m\u001b[0;36m3\u001b[0m\u001b[0;34m)\u001b[0m\u001b[0;34m\u001b[0m\u001b[0;34m\u001b[0m\u001b[0m\n\u001b[0;32m----> 2\u001b[0;31m \u001b[0mtuple1\u001b[0m\u001b[0;34m[\u001b[0m\u001b[0;36m0\u001b[0m\u001b[0;34m]\u001b[0m\u001b[0;34m=\u001b[0m\u001b[0;36m4\u001b[0m\u001b[0;34m\u001b[0m\u001b[0;34m\u001b[0m\u001b[0m\n\u001b[0m\u001b[1;32m      3\u001b[0m \u001b[0mprint\u001b[0m\u001b[0;34m(\u001b[0m\u001b[0mtuple1\u001b[0m\u001b[0;34m)\u001b[0m\u001b[0;34m\u001b[0m\u001b[0;34m\u001b[0m\u001b[0m\n",
            "\u001b[0;31mTypeError\u001b[0m: 'tuple' object does not support item assignment"
          ]
        }
      ]
    },
    {
      "cell_type": "markdown",
      "source": [
        "**Mutable Objects in Python**\n",
        "\n",
        "Mutable Objects are of type Python list, Python dict, or Python set. Custom classes are generally mutable.\n",
        "\n",
        "**Example:** Add and Remove items from a list in Python\n",
        "\n",
        "\n"
      ],
      "metadata": {
        "id": "mmnhXdVFBaMh"
      }
    },
    {
      "cell_type": "code",
      "source": [
        "list=[1,2,3,4]\n",
        "list.append(5)\n",
        "print(list)"
      ],
      "metadata": {
        "colab": {
          "base_uri": "https://localhost:8080/"
        },
        "id": "mJrg03P3CZp8",
        "outputId": "8a543511-e1b3-4d7c-d7c5-fd755565f452"
      },
      "execution_count": 3,
      "outputs": [
        {
          "output_type": "stream",
          "name": "stdout",
          "text": [
            "[1, 2, 3, 4, 5]\n"
          ]
        }
      ]
    },
    {
      "cell_type": "markdown",
      "source": [
        "QUESTION-4. Discuss the different types of operators in Python and provide examples of how they are used ?\n",
        "\n",
        "**Answer:** *In* Python, operators are special symbols or keywords that carry out operations on values and Python variables. They serve as a basis for expressions, which are used to modify data and execute computations. Python contains several operators, each with its unique purpose.\n",
        "\n",
        "Types of Python Operators-\n",
        "---\n",
        "Python language supports various types of operators, which are:\n",
        "\n",
        "1. Arithmetic Operators\n",
        "2. Comparison (Relational) Operators\n",
        "3. Assignment Operators\n",
        "4. Logical Operators\n",
        "5. Bitwise Operators\n",
        "6. Membership Operators\n",
        "7. Identity Operators\n"
      ],
      "metadata": {
        "id": "qYAQP5hiCcJz"
      }
    },
    {
      "cell_type": "code",
      "source": [
        "a = 32    # Initialize the value of a\n",
        "b = 6      # Initialize the value of b\n",
        "print('Addition of two numbers:',a+b)\n",
        "print('Subtraction of two numbers:',a-b)\n",
        "print('Multiplication of two numbers:',a*b)\n",
        "print('Division of two numbers:',a/b)\n",
        "print('Reminder of two numbers:',a%b)\n",
        "print('Exponent of two numbers:',a**b)\n",
        "print('Floor division of two numbers:',a//b)\n",
        "print('Two numbers are equal or not:',a==b)\n",
        "print('Two numbers are greater than equal to or not:',a>=b)"
      ],
      "metadata": {
        "colab": {
          "base_uri": "https://localhost:8080/"
        },
        "id": "QEZab9VLDEbb",
        "outputId": "3caa1f35-1fb7-4050-b883-0101970725ed"
      },
      "execution_count": 6,
      "outputs": [
        {
          "output_type": "stream",
          "name": "stdout",
          "text": [
            "Addition of two numbers: 38\n",
            "Subtraction of two numbers: 26\n",
            "Multiplication of two numbers: 192\n",
            "Division of two numbers: 5.333333333333333\n",
            "Reminder of two numbers: 2\n",
            "Exponent of two numbers: 1073741824\n",
            "Floor division of two numbers: 5\n",
            "Two numbers are equal or not: False\n",
            "Two numbers are greater than equal to or not: True\n"
          ]
        }
      ]
    },
    {
      "cell_type": "markdown",
      "source": [
        "QUESTION-5. Explain the concept of type casting in Python with examples ?\n",
        "\n",
        "ANSWER: Typecasting in Python allows programmers to convert variables or data from one data type to another. It enables smooth manipulation of data.\n",
        "\n",
        "Most of the time, we typecast while taking inputs from the user. As we all know, in Python, all the inputs stored are in the form of strings. We typecast these inputs according to our specific requirements.\n",
        "\n",
        "Python offers two ways to perform typecasting. Here we will discuss both,\n",
        "\n",
        "1. Implicit type conversion\n",
        "2. Explicit type conversion\n",
        "\n"
      ],
      "metadata": {
        "id": "hQrshgUGD2q2"
      }
    },
    {
      "cell_type": "code",
      "source": [
        "# EXAMPLE OF IMPLICIT TYPE CASTING\n",
        "# Python program to demonstrate implicit type conversion\n",
        "# Initializing the value of a\n",
        "a = 10\n",
        "print(f\"a = {a} and Data type = {type(a)}\")\n",
        "\n",
        "# Initializing the value of b\n",
        "b = 4.5\n",
        "print(f\"b = {b} and Data type = {type(b)}\")\n",
        "\n",
        "# Initializing the value of c\n",
        "c = 4\n",
        "print(f\"c = {c} and Data type = {type(c)}\")\n",
        "\n",
        "# Initializing the value of d\n",
        "d = 5.0\n",
        "print(f\"d = {d} and Data type = {type(d)}\")\n",
        "\n",
        "# Performing arithmetic operations between integers and float\n",
        "res = a * b\n",
        "print(f\"The product of a and b is {res}, Data type = {type(res)}\")\n",
        "\n",
        "add = c + d\n",
        "print(f\"The addition of c and d is {add}, Data type = {type(add)}\")"
      ],
      "metadata": {
        "colab": {
          "base_uri": "https://localhost:8080/"
        },
        "id": "_z_FF5TmEn_u",
        "outputId": "0ba01ebd-bfc7-4fa4-c22d-38d74e6b041a"
      },
      "execution_count": 7,
      "outputs": [
        {
          "output_type": "stream",
          "name": "stdout",
          "text": [
            "a = 10 and Data type = <class 'int'>\n",
            "b = 4.5 and Data type = <class 'float'>\n",
            "c = 4 and Data type = <class 'int'>\n",
            "d = 5.0 and Data type = <class 'float'>\n",
            "The product of a and b is 45.0, Data type = <class 'float'>\n",
            "The addition of c and d is 9.0, Data type = <class 'float'>\n"
          ]
        }
      ]
    },
    {
      "cell_type": "code",
      "source": [
        "# EXAMPLE OF EXPLICIT TYPECASTING\n",
        "# Python program to demonstrate explicit type conversion\n",
        "\n",
        "# Typecasting a floating value into an integer value explicitly\n",
        "a = 10.6\n",
        "print(f\"a = {a}, Data Type = {type(a)}\")\n",
        "a = int(a)\n",
        "print(f\"a = {a}, Data Type = {type(a)}\")\n",
        "\n",
        "# Typecasting a string value into an integer value explicitly\n",
        "b = \"12\"\n",
        "print(f\"b = {b}, Data Type = {type(b)}\")\n",
        "b = int(b)\n",
        "print(f\"b = {b}, Data Type = {type(b)}\")"
      ],
      "metadata": {
        "colab": {
          "base_uri": "https://localhost:8080/"
        },
        "id": "HMGAfVRJExjG",
        "outputId": "e23b8c0f-de68-465b-a930-9d4e8761a928"
      },
      "execution_count": 8,
      "outputs": [
        {
          "output_type": "stream",
          "name": "stdout",
          "text": [
            "a = 10.6, Data Type = <class 'float'>\n",
            "a = 10, Data Type = <class 'int'>\n",
            "b = 12, Data Type = <class 'str'>\n",
            "b = 12, Data Type = <class 'int'>\n"
          ]
        }
      ]
    },
    {
      "cell_type": "markdown",
      "source": [
        "QUESTION-6. How do conditional statements work in Python? Illustrate with examples?\n",
        "\n",
        "Answer: Conditional Statements are statements in Python that provide a choice for the control flow based on a condition. It means that the control flow of the Python program will be decided based on the outcome of the condition.\n",
        "\n",
        "EXAMPLE:\n"
      ],
      "metadata": {
        "id": "gknHclbQFOJs"
      }
    },
    {
      "cell_type": "code",
      "source": [
        "# conditional statement example\n",
        "letter = \"A\"\n",
        "\n",
        "if letter == \"B\":\n",
        "    print(\"letter is B\")\n",
        "\n",
        "elif letter == \"C\":\n",
        "    print(\"letter is C\")\n",
        "\n",
        "elif letter == \"A\":\n",
        "    print(\"letter is A\")\n",
        "\n",
        "else:\n",
        "    print(\"letter isn't A, B or C\")"
      ],
      "metadata": {
        "colab": {
          "base_uri": "https://localhost:8080/"
        },
        "id": "Jem6Ws9_FrLA",
        "outputId": "4f3cf2a6-7a39-4d65-cd2d-6b0b72d89918"
      },
      "execution_count": 9,
      "outputs": [
        {
          "output_type": "stream",
          "name": "stdout",
          "text": [
            "letter is A\n"
          ]
        }
      ]
    },
    {
      "cell_type": "markdown",
      "source": [],
      "metadata": {
        "id": "ze8aX402F76D"
      }
    }
  ]
}